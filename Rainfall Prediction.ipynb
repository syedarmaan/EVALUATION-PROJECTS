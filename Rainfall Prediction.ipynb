{
 "cells": [
  {
   "cell_type": "markdown",
   "metadata": {},
   "source": [
    "## Import Libraries"
   ]
  },
  {
   "cell_type": "code",
   "execution_count": 1,
   "metadata": {},
   "outputs": [],
   "source": [
    "import numpy as np\n",
    "import pandas as pd\n",
    "import matplotlib.pyplot as plt\n",
    "import seaborn as sns\n",
    "import warnings\n",
    "warnings.filterwarnings('ignore')"
   ]
  },
  {
   "cell_type": "code",
   "execution_count": 2,
   "metadata": {},
   "outputs": [],
   "source": [
    "# Loading dataset\n",
    "data = pd.read_csv('weatherAUS.csv')"
   ]
  },
  {
   "cell_type": "code",
   "execution_count": 3,
   "metadata": {},
   "outputs": [
    {
     "data": {
      "text/html": [
       "<div>\n",
       "<style scoped>\n",
       "    .dataframe tbody tr th:only-of-type {\n",
       "        vertical-align: middle;\n",
       "    }\n",
       "\n",
       "    .dataframe tbody tr th {\n",
       "        vertical-align: top;\n",
       "    }\n",
       "\n",
       "    .dataframe thead th {\n",
       "        text-align: right;\n",
       "    }\n",
       "</style>\n",
       "<table border=\"1\" class=\"dataframe\">\n",
       "  <thead>\n",
       "    <tr style=\"text-align: right;\">\n",
       "      <th></th>\n",
       "      <th>Date</th>\n",
       "      <th>Location</th>\n",
       "      <th>MinTemp</th>\n",
       "      <th>MaxTemp</th>\n",
       "      <th>Rainfall</th>\n",
       "      <th>Evaporation</th>\n",
       "      <th>Sunshine</th>\n",
       "      <th>WindGustDir</th>\n",
       "      <th>WindGustSpeed</th>\n",
       "      <th>WindDir9am</th>\n",
       "      <th>...</th>\n",
       "      <th>Humidity9am</th>\n",
       "      <th>Humidity3pm</th>\n",
       "      <th>Pressure9am</th>\n",
       "      <th>Pressure3pm</th>\n",
       "      <th>Cloud9am</th>\n",
       "      <th>Cloud3pm</th>\n",
       "      <th>Temp9am</th>\n",
       "      <th>Temp3pm</th>\n",
       "      <th>RainToday</th>\n",
       "      <th>RainTomorrow</th>\n",
       "    </tr>\n",
       "  </thead>\n",
       "  <tbody>\n",
       "    <tr>\n",
       "      <th>0</th>\n",
       "      <td>2008-12-01</td>\n",
       "      <td>Albury</td>\n",
       "      <td>13.4</td>\n",
       "      <td>22.9</td>\n",
       "      <td>0.6</td>\n",
       "      <td>NaN</td>\n",
       "      <td>NaN</td>\n",
       "      <td>W</td>\n",
       "      <td>44.0</td>\n",
       "      <td>W</td>\n",
       "      <td>...</td>\n",
       "      <td>71.0</td>\n",
       "      <td>22.0</td>\n",
       "      <td>1007.7</td>\n",
       "      <td>1007.1</td>\n",
       "      <td>8.0</td>\n",
       "      <td>NaN</td>\n",
       "      <td>16.9</td>\n",
       "      <td>21.8</td>\n",
       "      <td>No</td>\n",
       "      <td>No</td>\n",
       "    </tr>\n",
       "    <tr>\n",
       "      <th>1</th>\n",
       "      <td>2008-12-02</td>\n",
       "      <td>Albury</td>\n",
       "      <td>7.4</td>\n",
       "      <td>25.1</td>\n",
       "      <td>0.0</td>\n",
       "      <td>NaN</td>\n",
       "      <td>NaN</td>\n",
       "      <td>WNW</td>\n",
       "      <td>44.0</td>\n",
       "      <td>NNW</td>\n",
       "      <td>...</td>\n",
       "      <td>44.0</td>\n",
       "      <td>25.0</td>\n",
       "      <td>1010.6</td>\n",
       "      <td>1007.8</td>\n",
       "      <td>NaN</td>\n",
       "      <td>NaN</td>\n",
       "      <td>17.2</td>\n",
       "      <td>24.3</td>\n",
       "      <td>No</td>\n",
       "      <td>No</td>\n",
       "    </tr>\n",
       "    <tr>\n",
       "      <th>2</th>\n",
       "      <td>2008-12-03</td>\n",
       "      <td>Albury</td>\n",
       "      <td>12.9</td>\n",
       "      <td>25.7</td>\n",
       "      <td>0.0</td>\n",
       "      <td>NaN</td>\n",
       "      <td>NaN</td>\n",
       "      <td>WSW</td>\n",
       "      <td>46.0</td>\n",
       "      <td>W</td>\n",
       "      <td>...</td>\n",
       "      <td>38.0</td>\n",
       "      <td>30.0</td>\n",
       "      <td>1007.6</td>\n",
       "      <td>1008.7</td>\n",
       "      <td>NaN</td>\n",
       "      <td>2.0</td>\n",
       "      <td>21.0</td>\n",
       "      <td>23.2</td>\n",
       "      <td>No</td>\n",
       "      <td>No</td>\n",
       "    </tr>\n",
       "    <tr>\n",
       "      <th>3</th>\n",
       "      <td>2008-12-04</td>\n",
       "      <td>Albury</td>\n",
       "      <td>9.2</td>\n",
       "      <td>28.0</td>\n",
       "      <td>0.0</td>\n",
       "      <td>NaN</td>\n",
       "      <td>NaN</td>\n",
       "      <td>NE</td>\n",
       "      <td>24.0</td>\n",
       "      <td>SE</td>\n",
       "      <td>...</td>\n",
       "      <td>45.0</td>\n",
       "      <td>16.0</td>\n",
       "      <td>1017.6</td>\n",
       "      <td>1012.8</td>\n",
       "      <td>NaN</td>\n",
       "      <td>NaN</td>\n",
       "      <td>18.1</td>\n",
       "      <td>26.5</td>\n",
       "      <td>No</td>\n",
       "      <td>No</td>\n",
       "    </tr>\n",
       "    <tr>\n",
       "      <th>4</th>\n",
       "      <td>2008-12-05</td>\n",
       "      <td>Albury</td>\n",
       "      <td>17.5</td>\n",
       "      <td>32.3</td>\n",
       "      <td>1.0</td>\n",
       "      <td>NaN</td>\n",
       "      <td>NaN</td>\n",
       "      <td>W</td>\n",
       "      <td>41.0</td>\n",
       "      <td>ENE</td>\n",
       "      <td>...</td>\n",
       "      <td>82.0</td>\n",
       "      <td>33.0</td>\n",
       "      <td>1010.8</td>\n",
       "      <td>1006.0</td>\n",
       "      <td>7.0</td>\n",
       "      <td>8.0</td>\n",
       "      <td>17.8</td>\n",
       "      <td>29.7</td>\n",
       "      <td>No</td>\n",
       "      <td>No</td>\n",
       "    </tr>\n",
       "  </tbody>\n",
       "</table>\n",
       "<p>5 rows × 23 columns</p>\n",
       "</div>"
      ],
      "text/plain": [
       "         Date Location  MinTemp  MaxTemp  Rainfall  Evaporation  Sunshine  \\\n",
       "0  2008-12-01   Albury     13.4     22.9       0.6          NaN       NaN   \n",
       "1  2008-12-02   Albury      7.4     25.1       0.0          NaN       NaN   \n",
       "2  2008-12-03   Albury     12.9     25.7       0.0          NaN       NaN   \n",
       "3  2008-12-04   Albury      9.2     28.0       0.0          NaN       NaN   \n",
       "4  2008-12-05   Albury     17.5     32.3       1.0          NaN       NaN   \n",
       "\n",
       "  WindGustDir  WindGustSpeed WindDir9am  ... Humidity9am  Humidity3pm  \\\n",
       "0           W           44.0          W  ...        71.0         22.0   \n",
       "1         WNW           44.0        NNW  ...        44.0         25.0   \n",
       "2         WSW           46.0          W  ...        38.0         30.0   \n",
       "3          NE           24.0         SE  ...        45.0         16.0   \n",
       "4           W           41.0        ENE  ...        82.0         33.0   \n",
       "\n",
       "   Pressure9am  Pressure3pm  Cloud9am  Cloud3pm  Temp9am  Temp3pm  RainToday  \\\n",
       "0       1007.7       1007.1       8.0       NaN     16.9     21.8         No   \n",
       "1       1010.6       1007.8       NaN       NaN     17.2     24.3         No   \n",
       "2       1007.6       1008.7       NaN       2.0     21.0     23.2         No   \n",
       "3       1017.6       1012.8       NaN       NaN     18.1     26.5         No   \n",
       "4       1010.8       1006.0       7.0       8.0     17.8     29.7         No   \n",
       "\n",
       "   RainTomorrow  \n",
       "0            No  \n",
       "1            No  \n",
       "2            No  \n",
       "3            No  \n",
       "4            No  \n",
       "\n",
       "[5 rows x 23 columns]"
      ]
     },
     "execution_count": 3,
     "metadata": {},
     "output_type": "execute_result"
    }
   ],
   "source": [
    "# Top 5 rows of dataset\n",
    "data.head()"
   ]
  },
  {
   "cell_type": "markdown",
   "metadata": {},
   "source": [
    "## EDA and Feature Engineering"
   ]
  },
  {
   "cell_type": "code",
   "execution_count": 4,
   "metadata": {},
   "outputs": [
    {
     "data": {
      "text/plain": [
       "(8425, 23)"
      ]
     },
     "execution_count": 4,
     "metadata": {},
     "output_type": "execute_result"
    }
   ],
   "source": [
    "# Dimension of dataset\n",
    "data.shape"
   ]
  },
  {
   "cell_type": "markdown",
   "metadata": {},
   "source": [
    "Dataset has 8425 rows and 23 columns."
   ]
  },
  {
   "cell_type": "code",
   "execution_count": 5,
   "metadata": {},
   "outputs": [],
   "source": [
    "# Remove duplicates, if any\n",
    "data.drop_duplicates(inplace=True)"
   ]
  },
  {
   "cell_type": "code",
   "execution_count": 6,
   "metadata": {},
   "outputs": [
    {
     "data": {
      "text/plain": [
       "Index(['Date', 'Location', 'MinTemp', 'MaxTemp', 'Rainfall', 'Evaporation',\n",
       "       'Sunshine', 'WindGustDir', 'WindGustSpeed', 'WindDir9am', 'WindDir3pm',\n",
       "       'WindSpeed9am', 'WindSpeed3pm', 'Humidity9am', 'Humidity3pm',\n",
       "       'Pressure9am', 'Pressure3pm', 'Cloud9am', 'Cloud3pm', 'Temp9am',\n",
       "       'Temp3pm', 'RainToday', 'RainTomorrow'],\n",
       "      dtype='object')"
      ]
     },
     "execution_count": 6,
     "metadata": {},
     "output_type": "execute_result"
    }
   ],
   "source": [
    "# Column names\n",
    "data.columns"
   ]
  },
  {
   "cell_type": "code",
   "execution_count": 7,
   "metadata": {},
   "outputs": [
    {
     "name": "stdout",
     "output_type": "stream",
     "text": [
      "<class 'pandas.core.frame.DataFrame'>\n",
      "Int64Index: 6762 entries, 0 to 8424\n",
      "Data columns (total 23 columns):\n",
      " #   Column         Non-Null Count  Dtype  \n",
      "---  ------         --------------  -----  \n",
      " 0   Date           6762 non-null   object \n",
      " 1   Location       6762 non-null   object \n",
      " 2   MinTemp        6692 non-null   float64\n",
      " 3   MaxTemp        6705 non-null   float64\n",
      " 4   Rainfall       6624 non-null   float64\n",
      " 5   Evaporation    3841 non-null   float64\n",
      " 6   Sunshine       3526 non-null   float64\n",
      " 7   WindGustDir    5820 non-null   object \n",
      " 8   WindGustSpeed  5820 non-null   float64\n",
      " 9   WindDir9am     5968 non-null   object \n",
      " 10  WindDir3pm     6468 non-null   object \n",
      " 11  WindSpeed9am   6699 non-null   float64\n",
      " 12  WindSpeed3pm   6662 non-null   float64\n",
      " 13  Humidity9am    6708 non-null   float64\n",
      " 14  Humidity3pm    6666 non-null   float64\n",
      " 15  Pressure9am    5454 non-null   float64\n",
      " 16  Pressure3pm    5451 non-null   float64\n",
      " 17  Cloud9am       4896 non-null   float64\n",
      " 18  Cloud3pm       4860 non-null   float64\n",
      " 19  Temp9am        6711 non-null   float64\n",
      " 20  Temp3pm        6670 non-null   float64\n",
      " 21  RainToday      6624 non-null   object \n",
      " 22  RainTomorrow   6624 non-null   object \n",
      "dtypes: float64(16), object(7)\n",
      "memory usage: 1.2+ MB\n"
     ]
    }
   ],
   "source": [
    "# Information about dataset\n",
    "data.info()"
   ]
  },
  {
   "cell_type": "code",
   "execution_count": 8,
   "metadata": {},
   "outputs": [
    {
     "data": {
      "text/plain": [
       "Date                0\n",
       "Location            0\n",
       "MinTemp            70\n",
       "MaxTemp            57\n",
       "Rainfall          138\n",
       "Evaporation      2921\n",
       "Sunshine         3236\n",
       "WindGustDir       942\n",
       "WindGustSpeed     942\n",
       "WindDir9am        794\n",
       "WindDir3pm        294\n",
       "WindSpeed9am       63\n",
       "WindSpeed3pm      100\n",
       "Humidity9am        54\n",
       "Humidity3pm        96\n",
       "Pressure9am      1308\n",
       "Pressure3pm      1311\n",
       "Cloud9am         1866\n",
       "Cloud3pm         1902\n",
       "Temp9am            51\n",
       "Temp3pm            92\n",
       "RainToday         138\n",
       "RainTomorrow      138\n",
       "dtype: int64"
      ]
     },
     "execution_count": 8,
     "metadata": {},
     "output_type": "execute_result"
    }
   ],
   "source": [
    "# Checking missing values\n",
    "data.isnull().sum()"
   ]
  },
  {
   "cell_type": "markdown",
   "metadata": {},
   "source": [
    "We can see there are many Null values in the data, lets try to fill with proper values."
   ]
  },
  {
   "cell_type": "markdown",
   "metadata": {},
   "source": [
    "The columns 'Evaporation', 'Sunshine', 'Cloud9am', 'Cloud3pm'  are missing several values, we drop them for next step."
   ]
  },
  {
   "cell_type": "code",
   "execution_count": 9,
   "metadata": {},
   "outputs": [],
   "source": [
    "data = data.drop(['Evaporation', 'Sunshine', 'Cloud9am', 'Cloud3pm'], axis=1)"
   ]
  },
  {
   "cell_type": "code",
   "execution_count": 10,
   "metadata": {},
   "outputs": [
    {
     "data": {
      "text/plain": [
       "(6762, 19)"
      ]
     },
     "execution_count": 10,
     "metadata": {},
     "output_type": "execute_result"
    }
   ],
   "source": [
    "data.shape"
   ]
  },
  {
   "cell_type": "code",
   "execution_count": 11,
   "metadata": {},
   "outputs": [
    {
     "data": {
      "text/plain": [
       "No     5052\n",
       "Yes    1572\n",
       "Name: RainTomorrow, dtype: int64"
      ]
     },
     "execution_count": 11,
     "metadata": {},
     "output_type": "execute_result"
    }
   ],
   "source": [
    "# Lets check target variable\n",
    "data['RainTomorrow'].value_counts()"
   ]
  },
  {
   "cell_type": "code",
   "execution_count": 12,
   "metadata": {},
   "outputs": [
    {
     "data": {
      "image/png": "[encoded data removed]",
      "text/plain": [
       "<Figure size 432x288 with 1 Axes>"
      ]
     },
     "metadata": {
      "needs_background": "light"
     },
     "output_type": "display_data"
    }
   ],
   "source": [
    "sns.countplot(data['RainTomorrow'])\n",
    "plt.title(\"Target Variable\")\n",
    "plt.show()"
   ]
  },
  {
   "cell_type": "markdown",
   "metadata": {},
   "source": [
    "As we can see from above plot, the dataset is imbalanced."
   ]
  },
  {
   "cell_type": "code",
   "execution_count": 13,
   "metadata": {},
   "outputs": [
    {
     "data": {
      "text/html": [
       "<div>\n",
       "<style scoped>\n",
       "    .dataframe tbody tr th:only-of-type {\n",
       "        vertical-align: middle;\n",
       "    }\n",
       "\n",
       "    .dataframe tbody tr th {\n",
       "        vertical-align: top;\n",
       "    }\n",
       "\n",
       "    .dataframe thead th {\n",
       "        text-align: right;\n",
       "    }\n",
       "</style>\n",
       "<table border=\"1\" class=\"dataframe\">\n",
       "  <thead>\n",
       "    <tr style=\"text-align: right;\">\n",
       "      <th></th>\n",
       "      <th>Date</th>\n",
       "      <th>Year</th>\n",
       "      <th>Month</th>\n",
       "      <th>Day</th>\n",
       "    </tr>\n",
       "  </thead>\n",
       "  <tbody>\n",
       "    <tr>\n",
       "      <th>0</th>\n",
       "      <td>2008-12-01</td>\n",
       "      <td>2008</td>\n",
       "      <td>12</td>\n",
       "      <td>1</td>\n",
       "    </tr>\n",
       "    <tr>\n",
       "      <th>1</th>\n",
       "      <td>2008-12-02</td>\n",
       "      <td>2008</td>\n",
       "      <td>12</td>\n",
       "      <td>2</td>\n",
       "    </tr>\n",
       "    <tr>\n",
       "      <th>2</th>\n",
       "      <td>2008-12-03</td>\n",
       "      <td>2008</td>\n",
       "      <td>12</td>\n",
       "      <td>3</td>\n",
       "    </tr>\n",
       "    <tr>\n",
       "      <th>3</th>\n",
       "      <td>2008-12-04</td>\n",
       "      <td>2008</td>\n",
       "      <td>12</td>\n",
       "      <td>4</td>\n",
       "    </tr>\n",
       "    <tr>\n",
       "      <th>4</th>\n",
       "      <td>2008-12-05</td>\n",
       "      <td>2008</td>\n",
       "      <td>12</td>\n",
       "      <td>5</td>\n",
       "    </tr>\n",
       "    <tr>\n",
       "      <th>...</th>\n",
       "      <td>...</td>\n",
       "      <td>...</td>\n",
       "      <td>...</td>\n",
       "      <td>...</td>\n",
       "    </tr>\n",
       "    <tr>\n",
       "      <th>8420</th>\n",
       "      <td>2017-06-21</td>\n",
       "      <td>2017</td>\n",
       "      <td>6</td>\n",
       "      <td>21</td>\n",
       "    </tr>\n",
       "    <tr>\n",
       "      <th>8421</th>\n",
       "      <td>2017-06-22</td>\n",
       "      <td>2017</td>\n",
       "      <td>6</td>\n",
       "      <td>22</td>\n",
       "    </tr>\n",
       "    <tr>\n",
       "      <th>8422</th>\n",
       "      <td>2017-06-23</td>\n",
       "      <td>2017</td>\n",
       "      <td>6</td>\n",
       "      <td>23</td>\n",
       "    </tr>\n",
       "    <tr>\n",
       "      <th>8423</th>\n",
       "      <td>2017-06-24</td>\n",
       "      <td>2017</td>\n",
       "      <td>6</td>\n",
       "      <td>24</td>\n",
       "    </tr>\n",
       "    <tr>\n",
       "      <th>8424</th>\n",
       "      <td>2017-06-25</td>\n",
       "      <td>2017</td>\n",
       "      <td>6</td>\n",
       "      <td>25</td>\n",
       "    </tr>\n",
       "  </tbody>\n",
       "</table>\n",
       "<p>6762 rows × 4 columns</p>\n",
       "</div>"
      ],
      "text/plain": [
       "           Date  Year  Month  Day\n",
       "0    2008-12-01  2008     12    1\n",
       "1    2008-12-02  2008     12    2\n",
       "2    2008-12-03  2008     12    3\n",
       "3    2008-12-04  2008     12    4\n",
       "4    2008-12-05  2008     12    5\n",
       "...         ...   ...    ...  ...\n",
       "8420 2017-06-21  2017      6   21\n",
       "8421 2017-06-22  2017      6   22\n",
       "8422 2017-06-23  2017      6   23\n",
       "8423 2017-06-24  2017      6   24\n",
       "8424 2017-06-25  2017      6   25\n",
       "\n",
       "[6762 rows x 4 columns]"
      ]
     },
     "execution_count": 13,
     "metadata": {},
     "output_type": "execute_result"
    }
   ],
   "source": [
    "# Change the format of date and droping original column.\n",
    "data['Date'] = pd.to_datetime(data['Date'])\n",
    "\n",
    "data['Year'] = data['Date'].dt.year\n",
    "data['Month'] = data['Date'].dt.month\n",
    "data['Day'] = data['Date'].dt.day\n",
    "\n",
    "data[['Date', 'Year', 'Month', 'Day']]"
   ]
  },
  {
   "cell_type": "code",
   "execution_count": 14,
   "metadata": {},
   "outputs": [],
   "source": [
    "# Drop the Date column\n",
    "data.drop('Date', axis=1, inplace=True)"
   ]
  },
  {
   "cell_type": "code",
   "execution_count": 15,
   "metadata": {},
   "outputs": [
    {
     "data": {
      "text/plain": [
       "38.97766323024055"
      ]
     },
     "execution_count": 15,
     "metadata": {},
     "output_type": "execute_result"
    }
   ],
   "source": [
    "data['WindGustSpeed'].mean()"
   ]
  },
  {
   "cell_type": "code",
   "execution_count": 16,
   "metadata": {},
   "outputs": [
    {
     "data": {
      "text/plain": [
       "Location            0\n",
       "MinTemp            70\n",
       "MaxTemp            57\n",
       "Rainfall          138\n",
       "WindGustDir       942\n",
       "WindGustSpeed     942\n",
       "WindDir9am        794\n",
       "WindDir3pm        294\n",
       "WindSpeed9am       63\n",
       "WindSpeed3pm      100\n",
       "Humidity9am        54\n",
       "Humidity3pm        96\n",
       "Pressure9am      1308\n",
       "Pressure3pm      1311\n",
       "Temp9am            51\n",
       "Temp3pm            92\n",
       "RainToday         138\n",
       "RainTomorrow      138\n",
       "Year                0\n",
       "Month               0\n",
       "Day                 0\n",
       "dtype: int64"
      ]
     },
     "execution_count": 16,
     "metadata": {},
     "output_type": "execute_result"
    }
   ],
   "source": [
    "data.isnull().sum()"
   ]
  },
  {
   "cell_type": "code",
   "execution_count": 17,
   "metadata": {},
   "outputs": [],
   "source": [
    "# Imputing null values (numerical columns)\n",
    "\n",
    "data['MinTemp'].fillna(data['MinTemp'].mode()[0], inplace=True)\n",
    "data['MaxTemp'].fillna(data['MaxTemp'].mode()[0], inplace=True)\n",
    "data['Rainfall'].fillna(data['Rainfall'].mode()[0], inplace=True)\n",
    "data['WindGustSpeed'].fillna(data['WindGustSpeed'].mean(), inplace=True)\n",
    "data['WindSpeed9am'].fillna(data['WindSpeed9am'].mean(), inplace=True)\n",
    "data['WindSpeed3pm'].fillna(data['WindSpeed3pm'].mean(), inplace=True)\n",
    "data['Humidity9am'].fillna(data['Humidity9am'].mean(), inplace=True)\n",
    "data['Humidity3pm'].fillna(data['Humidity3pm'].mean(), inplace=True)\n",
    "data['Pressure9am'].fillna(data['Pressure9am'].mean(), inplace=True)\n",
    "data['Pressure3pm'].fillna(data['Pressure3pm'].mean(), inplace=True)\n",
    "data['Temp9am'].fillna(data['Temp9am'].mean(), inplace=True)\n",
    "data['Temp3pm'].fillna(data['Temp3pm'].mean(), inplace=True)"
   ]
  },
  {
   "cell_type": "code",
   "execution_count": 18,
   "metadata": {},
   "outputs": [],
   "source": [
    "# Change RainToday and RainTommorrow; No=0, Yes=1\n",
    "\n",
    "data['RainToday'] = data['RainToday'].map({'No':0, 'Yes':1})\n",
    "data['RainTomorrow'] = data['RainTomorrow'].map({'No':0, 'Yes':1})"
   ]
  },
  {
   "cell_type": "code",
   "execution_count": 19,
   "metadata": {},
   "outputs": [
    {
     "data": {
      "text/plain": [
       "0    0.0\n",
       "dtype: float64"
      ]
     },
     "execution_count": 19,
     "metadata": {},
     "output_type": "execute_result"
    }
   ],
   "source": [
    "data['RainToday'].mode()"
   ]
  },
  {
   "cell_type": "code",
   "execution_count": 20,
   "metadata": {},
   "outputs": [
    {
     "data": {
      "text/plain": [
       "0    0.0\n",
       "dtype: float64"
      ]
     },
     "execution_count": 20,
     "metadata": {},
     "output_type": "execute_result"
    }
   ],
   "source": [
    "data['RainTomorrow'].mode()"
   ]
  },
  {
   "cell_type": "code",
   "execution_count": 21,
   "metadata": {},
   "outputs": [],
   "source": [
    "# Imputing null values to 'RainToday' and 'RainTomorrow' columns\n",
    "\n",
    "data['RainToday'].fillna(data['RainToday'].mode()[0], inplace=True)\n",
    "data['RainTomorrow'].fillna(data['RainTomorrow'].mode()[0], inplace=True)"
   ]
  },
  {
   "cell_type": "code",
   "execution_count": 22,
   "metadata": {},
   "outputs": [],
   "source": [
    "# Converting the columns  'RainToday' and 'RainTomorrow', float into integer.\n",
    "\n",
    "data['RainToday'] = data['RainToday'].astype(int)\n",
    "data['RainTomorrow'] = data['RainTomorrow'].astype(int)"
   ]
  },
  {
   "cell_type": "code",
   "execution_count": 23,
   "metadata": {},
   "outputs": [
    {
     "data": {
      "text/plain": [
       "Index(['WindGustDir', 'WindDir9am', 'WindDir3pm'], dtype='object')"
      ]
     },
     "execution_count": 23,
     "metadata": {},
     "output_type": "execute_result"
    }
   ],
   "source": [
    "# Checking NaN values in categorical columns\n",
    "columns_NaN = data.columns[data.isnull().any()]\n",
    "columns_NaN"
   ]
  },
  {
   "cell_type": "code",
   "execution_count": 24,
   "metadata": {},
   "outputs": [
    {
     "data": {
      "text/plain": [
       "0    E\n",
       "dtype: object"
      ]
     },
     "execution_count": 24,
     "metadata": {},
     "output_type": "execute_result"
    }
   ],
   "source": [
    "data['WindGustDir'].mode()"
   ]
  },
  {
   "cell_type": "code",
   "execution_count": 25,
   "metadata": {},
   "outputs": [],
   "source": [
    "# Imputing null values with mode values\n",
    "data['WindGustDir'] = data['WindGustDir'].fillna('E')"
   ]
  },
  {
   "cell_type": "code",
   "execution_count": 26,
   "metadata": {},
   "outputs": [
    {
     "data": {
      "text/plain": [
       "0    N\n",
       "dtype: object"
      ]
     },
     "execution_count": 26,
     "metadata": {},
     "output_type": "execute_result"
    }
   ],
   "source": [
    "data['WindDir9am'].mode()"
   ]
  },
  {
   "cell_type": "code",
   "execution_count": 27,
   "metadata": {},
   "outputs": [],
   "source": [
    "# Imputing null values with mode values\n",
    "data['WindDir9am'] = data['WindDir9am'].fillna('N')"
   ]
  },
  {
   "cell_type": "code",
   "execution_count": 28,
   "metadata": {},
   "outputs": [
    {
     "data": {
      "text/plain": [
       "0    SE\n",
       "dtype: object"
      ]
     },
     "execution_count": 28,
     "metadata": {},
     "output_type": "execute_result"
    }
   ],
   "source": [
    "data['WindDir3pm'].mode()"
   ]
  },
  {
   "cell_type": "code",
   "execution_count": 29,
   "metadata": {},
   "outputs": [],
   "source": [
    "# Imputing null values with mode values\n",
    "data['WindDir3pm'] = data['WindDir3pm'].fillna('SE')"
   ]
  },
  {
   "cell_type": "code",
   "execution_count": 30,
   "metadata": {},
   "outputs": [
    {
     "data": {
      "text/plain": [
       "Location         0\n",
       "MinTemp          0\n",
       "MaxTemp          0\n",
       "Rainfall         0\n",
       "WindGustDir      0\n",
       "WindGustSpeed    0\n",
       "WindDir9am       0\n",
       "WindDir3pm       0\n",
       "WindSpeed9am     0\n",
       "WindSpeed3pm     0\n",
       "Humidity9am      0\n",
       "Humidity3pm      0\n",
       "Pressure9am      0\n",
       "Pressure3pm      0\n",
       "Temp9am          0\n",
       "Temp3pm          0\n",
       "RainToday        0\n",
       "RainTomorrow     0\n",
       "Year             0\n",
       "Month            0\n",
       "Day              0\n",
       "dtype: int64"
      ]
     },
     "execution_count": 30,
     "metadata": {},
     "output_type": "execute_result"
    }
   ],
   "source": [
    "data.isnull().sum()"
   ]
  },
  {
   "cell_type": "code",
   "execution_count": 31,
   "metadata": {},
   "outputs": [
    {
     "data": {
      "text/plain": [
       "<matplotlib.axes._subplots.AxesSubplot at 0x2967a9c7308>"
      ]
     },
     "execution_count": 31,
     "metadata": {},
     "output_type": "execute_result"
    },
    {
     "data": {
      "image/png": "[encoded data removed]",
      "text/plain": [
       "<Figure size 432x288 with 2 Axes>"
      ]
     },
     "metadata": {
      "needs_background": "light"
     },
     "output_type": "display_data"
    }
   ],
   "source": [
    "sns.heatmap(data.isnull())"
   ]
  },
  {
   "cell_type": "markdown",
   "metadata": {},
   "source": [
    "Now, there are no missing values."
   ]
  },
  {
   "cell_type": "code",
   "execution_count": 32,
   "metadata": {},
   "outputs": [
    {
     "data": {
      "text/html": [
       "<div>\n",
       "<style scoped>\n",
       "    .dataframe tbody tr th:only-of-type {\n",
       "        vertical-align: middle;\n",
       "    }\n",
       "\n",
       "    .dataframe tbody tr th {\n",
       "        vertical-align: top;\n",
       "    }\n",
       "\n",
       "    .dataframe thead th {\n",
       "        text-align: right;\n",
       "    }\n",
       "</style>\n",
       "<table border=\"1\" class=\"dataframe\">\n",
       "  <thead>\n",
       "    <tr style=\"text-align: right;\">\n",
       "      <th></th>\n",
       "      <th>MinTemp</th>\n",
       "      <th>MaxTemp</th>\n",
       "      <th>Rainfall</th>\n",
       "      <th>WindGustSpeed</th>\n",
       "      <th>WindSpeed9am</th>\n",
       "      <th>WindSpeed3pm</th>\n",
       "      <th>Humidity9am</th>\n",
       "      <th>Humidity3pm</th>\n",
       "      <th>Pressure9am</th>\n",
       "      <th>Pressure3pm</th>\n",
       "      <th>Temp9am</th>\n",
       "      <th>Temp3pm</th>\n",
       "      <th>RainToday</th>\n",
       "      <th>RainTomorrow</th>\n",
       "      <th>Year</th>\n",
       "      <th>Month</th>\n",
       "      <th>Day</th>\n",
       "    </tr>\n",
       "  </thead>\n",
       "  <tbody>\n",
       "    <tr>\n",
       "      <th>count</th>\n",
       "      <td>6762.000000</td>\n",
       "      <td>6762.000000</td>\n",
       "      <td>6762.000000</td>\n",
       "      <td>6762.000000</td>\n",
       "      <td>6762.000000</td>\n",
       "      <td>6762.000000</td>\n",
       "      <td>6762.000000</td>\n",
       "      <td>6762.000000</td>\n",
       "      <td>6762.000000</td>\n",
       "      <td>6762.000000</td>\n",
       "      <td>6762.000000</td>\n",
       "      <td>6762.000000</td>\n",
       "      <td>6762.000000</td>\n",
       "      <td>6762.000000</td>\n",
       "      <td>6762.000000</td>\n",
       "      <td>6762.000000</td>\n",
       "      <td>6762.000000</td>\n",
       "    </tr>\n",
       "    <tr>\n",
       "      <th>mean</th>\n",
       "      <td>13.110086</td>\n",
       "      <td>24.055368</td>\n",
       "      <td>2.723410</td>\n",
       "      <td>38.977663</td>\n",
       "      <td>12.782206</td>\n",
       "      <td>17.571150</td>\n",
       "      <td>67.506559</td>\n",
       "      <td>50.467147</td>\n",
       "      <td>1017.626311</td>\n",
       "      <td>1015.119923</td>\n",
       "      <td>17.895038</td>\n",
       "      <td>22.708561</td>\n",
       "      <td>0.232476</td>\n",
       "      <td>0.232476</td>\n",
       "      <td>2012.052203</td>\n",
       "      <td>6.462141</td>\n",
       "      <td>15.737208</td>\n",
       "    </tr>\n",
       "    <tr>\n",
       "      <th>std</th>\n",
       "      <td>5.540674</td>\n",
       "      <td>6.147821</td>\n",
       "      <td>10.490138</td>\n",
       "      <td>13.376457</td>\n",
       "      <td>9.787577</td>\n",
       "      <td>9.548634</td>\n",
       "      <td>17.182700</td>\n",
       "      <td>18.498341</td>\n",
       "      <td>6.027914</td>\n",
       "      <td>5.967638</td>\n",
       "      <td>5.722411</td>\n",
       "      <td>5.971845</td>\n",
       "      <td>0.422442</td>\n",
       "      <td>0.422442</td>\n",
       "      <td>2.301057</td>\n",
       "      <td>3.377471</td>\n",
       "      <td>8.793898</td>\n",
       "    </tr>\n",
       "    <tr>\n",
       "      <th>min</th>\n",
       "      <td>-2.000000</td>\n",
       "      <td>8.200000</td>\n",
       "      <td>0.000000</td>\n",
       "      <td>7.000000</td>\n",
       "      <td>0.000000</td>\n",
       "      <td>0.000000</td>\n",
       "      <td>10.000000</td>\n",
       "      <td>6.000000</td>\n",
       "      <td>989.800000</td>\n",
       "      <td>982.900000</td>\n",
       "      <td>1.900000</td>\n",
       "      <td>7.300000</td>\n",
       "      <td>0.000000</td>\n",
       "      <td>0.000000</td>\n",
       "      <td>2008.000000</td>\n",
       "      <td>1.000000</td>\n",
       "      <td>1.000000</td>\n",
       "    </tr>\n",
       "    <tr>\n",
       "      <th>25%</th>\n",
       "      <td>9.000000</td>\n",
       "      <td>19.400000</td>\n",
       "      <td>0.000000</td>\n",
       "      <td>30.000000</td>\n",
       "      <td>6.000000</td>\n",
       "      <td>11.000000</td>\n",
       "      <td>56.000000</td>\n",
       "      <td>38.000000</td>\n",
       "      <td>1014.200000</td>\n",
       "      <td>1011.500000</td>\n",
       "      <td>13.900000</td>\n",
       "      <td>18.400000</td>\n",
       "      <td>0.000000</td>\n",
       "      <td>0.000000</td>\n",
       "      <td>2010.000000</td>\n",
       "      <td>4.000000</td>\n",
       "      <td>8.000000</td>\n",
       "    </tr>\n",
       "    <tr>\n",
       "      <th>50%</th>\n",
       "      <td>13.200000</td>\n",
       "      <td>23.400000</td>\n",
       "      <td>0.000000</td>\n",
       "      <td>38.977663</td>\n",
       "      <td>11.000000</td>\n",
       "      <td>17.000000</td>\n",
       "      <td>68.000000</td>\n",
       "      <td>50.000000</td>\n",
       "      <td>1017.626311</td>\n",
       "      <td>1015.119923</td>\n",
       "      <td>17.900000</td>\n",
       "      <td>22.300000</td>\n",
       "      <td>0.000000</td>\n",
       "      <td>0.000000</td>\n",
       "      <td>2012.000000</td>\n",
       "      <td>6.000000</td>\n",
       "      <td>16.000000</td>\n",
       "    </tr>\n",
       "    <tr>\n",
       "      <th>75%</th>\n",
       "      <td>17.400000</td>\n",
       "      <td>28.400000</td>\n",
       "      <td>0.800000</td>\n",
       "      <td>46.000000</td>\n",
       "      <td>19.000000</td>\n",
       "      <td>24.000000</td>\n",
       "      <td>80.000000</td>\n",
       "      <td>62.000000</td>\n",
       "      <td>1020.900000</td>\n",
       "      <td>1018.400000</td>\n",
       "      <td>22.200000</td>\n",
       "      <td>26.800000</td>\n",
       "      <td>0.000000</td>\n",
       "      <td>0.000000</td>\n",
       "      <td>2014.000000</td>\n",
       "      <td>9.000000</td>\n",
       "      <td>23.000000</td>\n",
       "    </tr>\n",
       "    <tr>\n",
       "      <th>max</th>\n",
       "      <td>28.500000</td>\n",
       "      <td>45.500000</td>\n",
       "      <td>371.000000</td>\n",
       "      <td>107.000000</td>\n",
       "      <td>63.000000</td>\n",
       "      <td>83.000000</td>\n",
       "      <td>100.000000</td>\n",
       "      <td>99.000000</td>\n",
       "      <td>1039.000000</td>\n",
       "      <td>1036.000000</td>\n",
       "      <td>39.400000</td>\n",
       "      <td>44.100000</td>\n",
       "      <td>1.000000</td>\n",
       "      <td>1.000000</td>\n",
       "      <td>2017.000000</td>\n",
       "      <td>12.000000</td>\n",
       "      <td>31.000000</td>\n",
       "    </tr>\n",
       "  </tbody>\n",
       "</table>\n",
       "</div>"
      ],
      "text/plain": [
       "           MinTemp      MaxTemp     Rainfall  WindGustSpeed  WindSpeed9am  \\\n",
       "count  6762.000000  6762.000000  6762.000000    6762.000000   6762.000000   \n",
       "mean     13.110086    24.055368     2.723410      38.977663     12.782206   \n",
       "std       5.540674     6.147821    10.490138      13.376457      9.787577   \n",
       "min      -2.000000     8.200000     0.000000       7.000000      0.000000   \n",
       "25%       9.000000    19.400000     0.000000      30.000000      6.000000   \n",
       "50%      13.200000    23.400000     0.000000      38.977663     11.000000   \n",
       "75%      17.400000    28.400000     0.800000      46.000000     19.000000   \n",
       "max      28.500000    45.500000   371.000000     107.000000     63.000000   \n",
       "\n",
       "       WindSpeed3pm  Humidity9am  Humidity3pm  Pressure9am  Pressure3pm  \\\n",
       "count   6762.000000  6762.000000  6762.000000  6762.000000  6762.000000   \n",
       "mean      17.571150    67.506559    50.467147  1017.626311  1015.119923   \n",
       "std        9.548634    17.182700    18.498341     6.027914     5.967638   \n",
       "min        0.000000    10.000000     6.000000   989.800000   982.900000   \n",
       "25%       11.000000    56.000000    38.000000  1014.200000  1011.500000   \n",
       "50%       17.000000    68.000000    50.000000  1017.626311  1015.119923   \n",
       "75%       24.000000    80.000000    62.000000  1020.900000  1018.400000   \n",
       "max       83.000000   100.000000    99.000000  1039.000000  1036.000000   \n",
       "\n",
       "           Temp9am      Temp3pm    RainToday  RainTomorrow         Year  \\\n",
       "count  6762.000000  6762.000000  6762.000000   6762.000000  6762.000000   \n",
       "mean     17.895038    22.708561     0.232476      0.232476  2012.052203   \n",
       "std       5.722411     5.971845     0.422442      0.422442     2.301057   \n",
       "min       1.900000     7.300000     0.000000      0.000000  2008.000000   \n",
       "25%      13.900000    18.400000     0.000000      0.000000  2010.000000   \n",
       "50%      17.900000    22.300000     0.000000      0.000000  2012.000000   \n",
       "75%      22.200000    26.800000     0.000000      0.000000  2014.000000   \n",
       "max      39.400000    44.100000     1.000000      1.000000  2017.000000   \n",
       "\n",
       "             Month          Day  \n",
       "count  6762.000000  6762.000000  \n",
       "mean      6.462141    15.737208  \n",
       "std       3.377471     8.793898  \n",
       "min       1.000000     1.000000  \n",
       "25%       4.000000     8.000000  \n",
       "50%       6.000000    16.000000  \n",
       "75%       9.000000    23.000000  \n",
       "max      12.000000    31.000000  "
      ]
     },
     "execution_count": 32,
     "metadata": {},
     "output_type": "execute_result"
    }
   ],
   "source": [
    "# Statistical information\n",
    "data.describe()"
   ]
  },
  {
   "cell_type": "markdown",
   "metadata": {},
   "source": [
    "Observations:\n",
    "\n",
    "In 'MinTemp' the minimum value is -2.0 and maximum value is 28.5\n",
    "\n",
    "Mean and Median values are almost same in columns 'MinTemp', 'MaxTemp'\n",
    "\n"
   ]
  },
  {
   "cell_type": "markdown",
   "metadata": {},
   "source": [
    "## Data Visualization"
   ]
  },
  {
   "cell_type": "code",
   "execution_count": 33,
   "metadata": {},
   "outputs": [
    {
     "data": {
      "text/plain": [
       "0    5190\n",
       "1    1572\n",
       "Name: RainTomorrow, dtype: int64"
      ]
     },
     "execution_count": 33,
     "metadata": {},
     "output_type": "execute_result"
    }
   ],
   "source": [
    "data['RainTomorrow'].value_counts()"
   ]
  },
  {
   "cell_type": "code",
   "execution_count": 34,
   "metadata": {},
   "outputs": [
    {
     "data": {
      "image/png": "[encoded data removed]",
      "text/plain": [
       "<Figure size 432x288 with 1 Axes>"
      ]
     },
     "metadata": {
      "needs_background": "light"
     },
     "output_type": "display_data"
    }
   ],
   "source": [
    "sns.countplot(data['RainTomorrow'])\n",
    "plt.title(\"Target Variable\")\n",
    "plt.show()"
   ]
  },
  {
   "cell_type": "code",
   "execution_count": 35,
   "metadata": {},
   "outputs": [
    {
     "data": {
      "image/png": "[encoded data removed]",
      "text/plain": [
       "<Figure size 1440x720 with 1 Axes>"
      ]
     },
     "metadata": {
      "needs_background": "light"
     },
     "output_type": "display_data"
    }
   ],
   "source": [
    "data['Location'].value_counts(normalize=True).plot.bar(figsize=(20,10), title ='Location')\n",
    "plt.show()"
   ]
  },
  {
   "cell_type": "code",
   "execution_count": 36,
   "metadata": {},
   "outputs": [
    {
     "data": {
      "image/png": "[encoded data removed]",
      "text/plain": [
       "<Figure size 1440x720 with 1 Axes>"
      ]
     },
     "metadata": {
      "needs_background": "light"
     },
     "output_type": "display_data"
    }
   ],
   "source": [
    "data['WindGustDir'].value_counts(normalize=True).plot.bar(figsize=(20,10), title ='WindGustDir')\n",
    "plt.show()"
   ]
  },
  {
   "cell_type": "code",
   "execution_count": 37,
   "metadata": {},
   "outputs": [
    {
     "data": {
      "image/png": "[encoded data removed]",
      "text/plain": [
       "<Figure size 1440x720 with 1 Axes>"
      ]
     },
     "metadata": {
      "needs_background": "light"
     },
     "output_type": "display_data"
    }
   ],
   "source": [
    "data['WindDir9am'].value_counts(normalize=True).plot.bar(figsize=(20,10), title ='WindDir9am')\n",
    "plt.show()"
   ]
  },
  {
   "cell_type": "markdown",
   "metadata": {},
   "source": [
    "Wind direction at 9am is maximum on North side."
   ]
  },
  {
   "cell_type": "code",
   "execution_count": 38,
   "metadata": {},
   "outputs": [
    {
     "data": {
      "image/png": "[encoded data removed]",
      "text/plain": [
       "<Figure size 1440x720 with 1 Axes>"
      ]
     },
     "metadata": {
      "needs_background": "light"
     },
     "output_type": "display_data"
    }
   ],
   "source": [
    "data['WindDir3pm'].value_counts(normalize=True).plot.bar(figsize=(20,10), title ='WindDir3pm')\n",
    "plt.show()"
   ]
  },
  {
   "cell_type": "markdown",
   "metadata": {},
   "source": [
    "Wind direction at 3pm is maximum on South East Region."
   ]
  },
  {
   "cell_type": "code",
   "execution_count": 39,
   "metadata": {},
   "outputs": [
    {
     "data": {
      "text/plain": [
       "<matplotlib.axes._subplots.AxesSubplot at 0x2967bae7b08>"
      ]
     },
     "execution_count": 39,
     "metadata": {},
     "output_type": "execute_result"
    },
    {
     "data": {
      "image/png": "[encoded data removed]",
      "text/plain": [
       "<Figure size 432x288 with 1 Axes>"
      ]
     },
     "metadata": {
      "needs_background": "light"
     },
     "output_type": "display_data"
    }
   ],
   "source": [
    "sns.distplot(data['MinTemp'])"
   ]
  },
  {
   "cell_type": "markdown",
   "metadata": {},
   "source": [
    "Graph is slightly skewed"
   ]
  },
  {
   "cell_type": "code",
   "execution_count": 40,
   "metadata": {},
   "outputs": [
    {
     "data": {
      "text/plain": [
       "<matplotlib.axes._subplots.AxesSubplot at 0x2967b374108>"
      ]
     },
     "execution_count": 40,
     "metadata": {},
     "output_type": "execute_result"
    },
    {
     "data": {
      "image/png": "[encoded data removed]",
      "text/plain": [
       "<Figure size 432x288 with 1 Axes>"
      ]
     },
     "metadata": {
      "needs_background": "light"
     },
     "output_type": "display_data"
    }
   ],
   "source": [
    "sns.distplot(data['MaxTemp'])"
   ]
  },
  {
   "cell_type": "markdown",
   "metadata": {},
   "source": [
    "Graph is skewed"
   ]
  },
  {
   "cell_type": "code",
   "execution_count": 41,
   "metadata": {},
   "outputs": [
    {
     "data": {
      "text/plain": [
       "<matplotlib.axes._subplots.AxesSubplot at 0x2967ab0df88>"
      ]
     },
     "execution_count": 41,
     "metadata": {},
     "output_type": "execute_result"
    },
    {
     "data": {
      "image/png": "[encoded data removed]",
      "text/plain": [
       "<Figure size 432x288 with 1 Axes>"
      ]
     },
     "metadata": {
      "needs_background": "light"
     },
     "output_type": "display_data"
    }
   ],
   "source": [
    "sns.distplot(data['Rainfall'])"
   ]
  },
  {
   "cell_type": "markdown",
   "metadata": {},
   "source": [
    "Graph is skewed"
   ]
  },
  {
   "cell_type": "code",
   "execution_count": 42,
   "metadata": {},
   "outputs": [
    {
     "data": {
      "text/plain": [
       "<matplotlib.axes._subplots.AxesSubplot at 0x2967b6ff748>"
      ]
     },
     "execution_count": 42,
     "metadata": {},
     "output_type": "execute_result"
    },
    {
     "data": {
      "image/png": "[encoded data removed]",
      "text/plain": [
       "<Figure size 432x288 with 1 Axes>"
      ]
     },
     "metadata": {
      "needs_background": "light"
     },
     "output_type": "display_data"
    }
   ],
   "source": [
    "sns.distplot(data['WindGustSpeed'])"
   ]
  },
  {
   "cell_type": "markdown",
   "metadata": {},
   "source": [
    "Graph is skewed"
   ]
  },
  {
   "cell_type": "code",
   "execution_count": 43,
   "metadata": {},
   "outputs": [
    {
     "data": {
      "text/plain": [
       "<matplotlib.axes._subplots.AxesSubplot at 0x2967b77ea08>"
      ]
     },
     "execution_count": 43,
     "metadata": {},
     "output_type": "execute_result"
    },
    {
     "data": {
      "image/png": "[encoded data removed]",
      "text/plain": [
       "<Figure size 432x288 with 1 Axes>"
      ]
     },
     "metadata": {
      "needs_background": "light"
     },
     "output_type": "display_data"
    }
   ],
   "source": [
    "sns.distplot(data['Humidity9am'])"
   ]
  },
  {
   "cell_type": "markdown",
   "metadata": {},
   "source": [
    "Graph is left skewed"
   ]
  },
  {
   "cell_type": "code",
   "execution_count": 44,
   "metadata": {},
   "outputs": [
    {
     "data": {
      "text/plain": [
       "<matplotlib.axes._subplots.AxesSubplot at 0x2967b4aec48>"
      ]
     },
     "execution_count": 44,
     "metadata": {},
     "output_type": "execute_result"
    },
    {
     "data": {
      "image/png": "[encoded data removed]",
      "text/plain": [
       "<Figure size 432x288 with 1 Axes>"
      ]
     },
     "metadata": {
      "needs_background": "light"
     },
     "output_type": "display_data"
    }
   ],
   "source": [
    "sns.distplot(data['Humidity3pm'])"
   ]
  },
  {
   "cell_type": "code",
   "execution_count": 45,
   "metadata": {},
   "outputs": [
    {
     "data": {
      "text/html": [
       "<div>\n",
       "<style scoped>\n",
       "    .dataframe tbody tr th:only-of-type {\n",
       "        vertical-align: middle;\n",
       "    }\n",
       "\n",
       "    .dataframe tbody tr th {\n",
       "        vertical-align: top;\n",
       "    }\n",
       "\n",
       "    .dataframe thead th {\n",
       "        text-align: right;\n",
       "    }\n",
       "</style>\n",
       "<table border=\"1\" class=\"dataframe\">\n",
       "  <thead>\n",
       "    <tr style=\"text-align: right;\">\n",
       "      <th></th>\n",
       "      <th>MinTemp</th>\n",
       "      <th>MaxTemp</th>\n",
       "      <th>Rainfall</th>\n",
       "      <th>WindGustSpeed</th>\n",
       "      <th>WindSpeed9am</th>\n",
       "      <th>WindSpeed3pm</th>\n",
       "      <th>Humidity9am</th>\n",
       "      <th>Humidity3pm</th>\n",
       "      <th>Pressure9am</th>\n",
       "      <th>Pressure3pm</th>\n",
       "      <th>Temp9am</th>\n",
       "      <th>Temp3pm</th>\n",
       "      <th>RainToday</th>\n",
       "      <th>RainTomorrow</th>\n",
       "      <th>Year</th>\n",
       "      <th>Month</th>\n",
       "      <th>Day</th>\n",
       "    </tr>\n",
       "  </thead>\n",
       "  <tbody>\n",
       "    <tr>\n",
       "      <th>MinTemp</th>\n",
       "      <td>1.000000</td>\n",
       "      <td>0.726263</td>\n",
       "      <td>0.090971</td>\n",
       "      <td>0.242737</td>\n",
       "      <td>0.169363</td>\n",
       "      <td>0.188236</td>\n",
       "      <td>-0.154229</td>\n",
       "      <td>0.067720</td>\n",
       "      <td>-0.441263</td>\n",
       "      <td>-0.440373</td>\n",
       "      <td>0.891411</td>\n",
       "      <td>0.696397</td>\n",
       "      <td>0.075902</td>\n",
       "      <td>0.097173</td>\n",
       "      <td>0.032974</td>\n",
       "      <td>-0.237204</td>\n",
       "      <td>0.014356</td>\n",
       "    </tr>\n",
       "    <tr>\n",
       "      <th>MaxTemp</th>\n",
       "      <td>0.726263</td>\n",
       "      <td>1.000000</td>\n",
       "      <td>-0.086341</td>\n",
       "      <td>0.165052</td>\n",
       "      <td>0.059715</td>\n",
       "      <td>0.116985</td>\n",
       "      <td>-0.425150</td>\n",
       "      <td>-0.430856</td>\n",
       "      <td>-0.336775</td>\n",
       "      <td>-0.411804</td>\n",
       "      <td>0.864992</td>\n",
       "      <td>0.972316</td>\n",
       "      <td>-0.223284</td>\n",
       "      <td>-0.157751</td>\n",
       "      <td>0.076908</td>\n",
       "      <td>-0.168842</td>\n",
       "      <td>0.016383</td>\n",
       "    </tr>\n",
       "    <tr>\n",
       "      <th>Rainfall</th>\n",
       "      <td>0.090971</td>\n",
       "      <td>-0.086341</td>\n",
       "      <td>1.000000</td>\n",
       "      <td>0.088114</td>\n",
       "      <td>0.050313</td>\n",
       "      <td>0.020333</td>\n",
       "      <td>0.227964</td>\n",
       "      <td>0.242971</td>\n",
       "      <td>-0.071065</td>\n",
       "      <td>-0.032678</td>\n",
       "      <td>-0.004354</td>\n",
       "      <td>-0.091943</td>\n",
       "      <td>0.461817</td>\n",
       "      <td>0.223599</td>\n",
       "      <td>-0.008516</td>\n",
       "      <td>-0.015187</td>\n",
       "      <td>-0.007989</td>\n",
       "    </tr>\n",
       "    <tr>\n",
       "      <th>WindGustSpeed</th>\n",
       "      <td>0.242737</td>\n",
       "      <td>0.165052</td>\n",
       "      <td>0.088114</td>\n",
       "      <td>1.000000</td>\n",
       "      <td>0.591784</td>\n",
       "      <td>0.620606</td>\n",
       "      <td>-0.268973</td>\n",
       "      <td>-0.095502</td>\n",
       "      <td>-0.394164</td>\n",
       "      <td>-0.363104</td>\n",
       "      <td>0.221725</td>\n",
       "      <td>0.129756</td>\n",
       "      <td>0.085806</td>\n",
       "      <td>0.184435</td>\n",
       "      <td>-0.028152</td>\n",
       "      <td>0.049739</td>\n",
       "      <td>-0.003225</td>\n",
       "    </tr>\n",
       "    <tr>\n",
       "      <th>WindSpeed9am</th>\n",
       "      <td>0.169363</td>\n",
       "      <td>0.059715</td>\n",
       "      <td>0.050313</td>\n",
       "      <td>0.591784</td>\n",
       "      <td>1.000000</td>\n",
       "      <td>0.551348</td>\n",
       "      <td>-0.373061</td>\n",
       "      <td>-0.121519</td>\n",
       "      <td>-0.177664</td>\n",
       "      <td>-0.147296</td>\n",
       "      <td>0.152106</td>\n",
       "      <td>0.041762</td>\n",
       "      <td>0.033367</td>\n",
       "      <td>0.057939</td>\n",
       "      <td>-0.103663</td>\n",
       "      <td>0.029141</td>\n",
       "      <td>-0.004444</td>\n",
       "    </tr>\n",
       "    <tr>\n",
       "      <th>WindSpeed3pm</th>\n",
       "      <td>0.188236</td>\n",
       "      <td>0.116985</td>\n",
       "      <td>0.020333</td>\n",
       "      <td>0.620606</td>\n",
       "      <td>0.551348</td>\n",
       "      <td>1.000000</td>\n",
       "      <td>-0.259812</td>\n",
       "      <td>-0.100704</td>\n",
       "      <td>-0.248316</td>\n",
       "      <td>-0.208384</td>\n",
       "      <td>0.207860</td>\n",
       "      <td>0.092975</td>\n",
       "      <td>0.011844</td>\n",
       "      <td>0.043409</td>\n",
       "      <td>-0.076752</td>\n",
       "      <td>0.059914</td>\n",
       "      <td>-0.011507</td>\n",
       "    </tr>\n",
       "    <tr>\n",
       "      <th>Humidity9am</th>\n",
       "      <td>-0.154229</td>\n",
       "      <td>-0.425150</td>\n",
       "      <td>0.227964</td>\n",
       "      <td>-0.268973</td>\n",
       "      <td>-0.373061</td>\n",
       "      <td>-0.259812</td>\n",
       "      <td>1.000000</td>\n",
       "      <td>0.639470</td>\n",
       "      <td>0.137254</td>\n",
       "      <td>0.173859</td>\n",
       "      <td>-0.407533</td>\n",
       "      <td>-0.418024</td>\n",
       "      <td>0.387261</td>\n",
       "      <td>0.287774</td>\n",
       "      <td>0.081505</td>\n",
       "      <td>-0.097160</td>\n",
       "      <td>0.006448</td>\n",
       "    </tr>\n",
       "    <tr>\n",
       "      <th>Humidity3pm</th>\n",
       "      <td>0.067720</td>\n",
       "      <td>-0.430856</td>\n",
       "      <td>0.242971</td>\n",
       "      <td>-0.095502</td>\n",
       "      <td>-0.121519</td>\n",
       "      <td>-0.100704</td>\n",
       "      <td>0.639470</td>\n",
       "      <td>1.000000</td>\n",
       "      <td>-0.006328</td>\n",
       "      <td>0.061228</td>\n",
       "      <td>-0.136803</td>\n",
       "      <td>-0.500404</td>\n",
       "      <td>0.375963</td>\n",
       "      <td>0.466835</td>\n",
       "      <td>-0.034526</td>\n",
       "      <td>-0.053115</td>\n",
       "      <td>0.019511</td>\n",
       "    </tr>\n",
       "    <tr>\n",
       "      <th>Pressure9am</th>\n",
       "      <td>-0.441263</td>\n",
       "      <td>-0.336775</td>\n",
       "      <td>-0.071065</td>\n",
       "      <td>-0.394164</td>\n",
       "      <td>-0.177664</td>\n",
       "      <td>-0.248316</td>\n",
       "      <td>0.137254</td>\n",
       "      <td>-0.006328</td>\n",
       "      <td>1.000000</td>\n",
       "      <td>0.963072</td>\n",
       "      <td>-0.421406</td>\n",
       "      <td>-0.297724</td>\n",
       "      <td>-0.111959</td>\n",
       "      <td>-0.159103</td>\n",
       "      <td>0.031526</td>\n",
       "      <td>0.021322</td>\n",
       "      <td>-0.018746</td>\n",
       "    </tr>\n",
       "    <tr>\n",
       "      <th>Pressure3pm</th>\n",
       "      <td>-0.440373</td>\n",
       "      <td>-0.411804</td>\n",
       "      <td>-0.032678</td>\n",
       "      <td>-0.363104</td>\n",
       "      <td>-0.147296</td>\n",
       "      <td>-0.208384</td>\n",
       "      <td>0.173859</td>\n",
       "      <td>0.061228</td>\n",
       "      <td>0.963072</td>\n",
       "      <td>1.000000</td>\n",
       "      <td>-0.451247</td>\n",
       "      <td>-0.381029</td>\n",
       "      <td>-0.041080</td>\n",
       "      <td>-0.131759</td>\n",
       "      <td>0.021568</td>\n",
       "      <td>0.018934</td>\n",
       "      <td>-0.013797</td>\n",
       "    </tr>\n",
       "    <tr>\n",
       "      <th>Temp9am</th>\n",
       "      <td>0.891411</td>\n",
       "      <td>0.864992</td>\n",
       "      <td>-0.004354</td>\n",
       "      <td>0.221725</td>\n",
       "      <td>0.152106</td>\n",
       "      <td>0.207860</td>\n",
       "      <td>-0.407533</td>\n",
       "      <td>-0.136803</td>\n",
       "      <td>-0.421406</td>\n",
       "      <td>-0.451247</td>\n",
       "      <td>1.000000</td>\n",
       "      <td>0.834079</td>\n",
       "      <td>-0.090733</td>\n",
       "      <td>-0.025788</td>\n",
       "      <td>0.045561</td>\n",
       "      <td>-0.161219</td>\n",
       "      <td>0.015054</td>\n",
       "    </tr>\n",
       "    <tr>\n",
       "      <th>Temp3pm</th>\n",
       "      <td>0.696397</td>\n",
       "      <td>0.972316</td>\n",
       "      <td>-0.091943</td>\n",
       "      <td>0.129756</td>\n",
       "      <td>0.041762</td>\n",
       "      <td>0.092975</td>\n",
       "      <td>-0.418024</td>\n",
       "      <td>-0.500404</td>\n",
       "      <td>-0.297724</td>\n",
       "      <td>-0.381029</td>\n",
       "      <td>0.834079</td>\n",
       "      <td>1.000000</td>\n",
       "      <td>-0.236253</td>\n",
       "      <td>-0.202987</td>\n",
       "      <td>0.093321</td>\n",
       "      <td>-0.184969</td>\n",
       "      <td>0.012790</td>\n",
       "    </tr>\n",
       "    <tr>\n",
       "      <th>RainToday</th>\n",
       "      <td>0.075902</td>\n",
       "      <td>-0.223284</td>\n",
       "      <td>0.461817</td>\n",
       "      <td>0.085806</td>\n",
       "      <td>0.033367</td>\n",
       "      <td>0.011844</td>\n",
       "      <td>0.387261</td>\n",
       "      <td>0.375963</td>\n",
       "      <td>-0.111959</td>\n",
       "      <td>-0.041080</td>\n",
       "      <td>-0.090733</td>\n",
       "      <td>-0.236253</td>\n",
       "      <td>1.000000</td>\n",
       "      <td>0.323691</td>\n",
       "      <td>-0.015226</td>\n",
       "      <td>-0.003782</td>\n",
       "      <td>-0.006366</td>\n",
       "    </tr>\n",
       "    <tr>\n",
       "      <th>RainTomorrow</th>\n",
       "      <td>0.097173</td>\n",
       "      <td>-0.157751</td>\n",
       "      <td>0.223599</td>\n",
       "      <td>0.184435</td>\n",
       "      <td>0.057939</td>\n",
       "      <td>0.043409</td>\n",
       "      <td>0.287774</td>\n",
       "      <td>0.466835</td>\n",
       "      <td>-0.159103</td>\n",
       "      <td>-0.131759</td>\n",
       "      <td>-0.025788</td>\n",
       "      <td>-0.202987</td>\n",
       "      <td>0.323691</td>\n",
       "      <td>1.000000</td>\n",
       "      <td>-0.014769</td>\n",
       "      <td>-0.003575</td>\n",
       "      <td>-0.007560</td>\n",
       "    </tr>\n",
       "    <tr>\n",
       "      <th>Year</th>\n",
       "      <td>0.032974</td>\n",
       "      <td>0.076908</td>\n",
       "      <td>-0.008516</td>\n",
       "      <td>-0.028152</td>\n",
       "      <td>-0.103663</td>\n",
       "      <td>-0.076752</td>\n",
       "      <td>0.081505</td>\n",
       "      <td>-0.034526</td>\n",
       "      <td>0.031526</td>\n",
       "      <td>0.021568</td>\n",
       "      <td>0.045561</td>\n",
       "      <td>0.093321</td>\n",
       "      <td>-0.015226</td>\n",
       "      <td>-0.014769</td>\n",
       "      <td>1.000000</td>\n",
       "      <td>-0.086462</td>\n",
       "      <td>-0.004205</td>\n",
       "    </tr>\n",
       "    <tr>\n",
       "      <th>Month</th>\n",
       "      <td>-0.237204</td>\n",
       "      <td>-0.168842</td>\n",
       "      <td>-0.015187</td>\n",
       "      <td>0.049739</td>\n",
       "      <td>0.029141</td>\n",
       "      <td>0.059914</td>\n",
       "      <td>-0.097160</td>\n",
       "      <td>-0.053115</td>\n",
       "      <td>0.021322</td>\n",
       "      <td>0.018934</td>\n",
       "      <td>-0.161219</td>\n",
       "      <td>-0.184969</td>\n",
       "      <td>-0.003782</td>\n",
       "      <td>-0.003575</td>\n",
       "      <td>-0.086462</td>\n",
       "      <td>1.000000</td>\n",
       "      <td>-0.001831</td>\n",
       "    </tr>\n",
       "    <tr>\n",
       "      <th>Day</th>\n",
       "      <td>0.014356</td>\n",
       "      <td>0.016383</td>\n",
       "      <td>-0.007989</td>\n",
       "      <td>-0.003225</td>\n",
       "      <td>-0.004444</td>\n",
       "      <td>-0.011507</td>\n",
       "      <td>0.006448</td>\n",
       "      <td>0.019511</td>\n",
       "      <td>-0.018746</td>\n",
       "      <td>-0.013797</td>\n",
       "      <td>0.015054</td>\n",
       "      <td>0.012790</td>\n",
       "      <td>-0.006366</td>\n",
       "      <td>-0.007560</td>\n",
       "      <td>-0.004205</td>\n",
       "      <td>-0.001831</td>\n",
       "      <td>1.000000</td>\n",
       "    </tr>\n",
       "  </tbody>\n",
       "</table>\n",
       "</div>"
      ],
      "text/plain": [
       "                MinTemp   MaxTemp  Rainfall  WindGustSpeed  WindSpeed9am  \\\n",
       "MinTemp        1.000000  0.726263  0.090971       0.242737      0.169363   \n",
       "MaxTemp        0.726263  1.000000 -0.086341       0.165052      0.059715   \n",
       "Rainfall       0.090971 -0.086341  1.000000       0.088114      0.050313   \n",
       "WindGustSpeed  0.242737  0.165052  0.088114       1.000000      0.591784   \n",
       "WindSpeed9am   0.169363  0.059715  0.050313       0.591784      1.000000   \n",
       "WindSpeed3pm   0.188236  0.116985  0.020333       0.620606      0.551348   \n",
       "Humidity9am   -0.154229 -0.425150  0.227964      -0.268973     -0.373061   \n",
       "Humidity3pm    0.067720 -0.430856  0.242971      -0.095502     -0.121519   \n",
       "Pressure9am   -0.441263 -0.336775 -0.071065      -0.394164     -0.177664   \n",
       "Pressure3pm   -0.440373 -0.411804 -0.032678      -0.363104     -0.147296   \n",
       "Temp9am        0.891411  0.864992 -0.004354       0.221725      0.152106   \n",
       "Temp3pm        0.696397  0.972316 -0.091943       0.129756      0.041762   \n",
       "RainToday      0.075902 -0.223284  0.461817       0.085806      0.033367   \n",
       "RainTomorrow   0.097173 -0.157751  0.223599       0.184435      0.057939   \n",
       "Year           0.032974  0.076908 -0.008516      -0.028152     -0.103663   \n",
       "Month         -0.237204 -0.168842 -0.015187       0.049739      0.029141   \n",
       "Day            0.014356  0.016383 -0.007989      -0.003225     -0.004444   \n",
       "\n",
       "               WindSpeed3pm  Humidity9am  Humidity3pm  Pressure9am  \\\n",
       "MinTemp            0.188236    -0.154229     0.067720    -0.441263   \n",
       "MaxTemp            0.116985    -0.425150    -0.430856    -0.336775   \n",
       "Rainfall           0.020333     0.227964     0.242971    -0.071065   \n",
       "WindGustSpeed      0.620606    -0.268973    -0.095502    -0.394164   \n",
       "WindSpeed9am       0.551348    -0.373061    -0.121519    -0.177664   \n",
       "WindSpeed3pm       1.000000    -0.259812    -0.100704    -0.248316   \n",
       "Humidity9am       -0.259812     1.000000     0.639470     0.137254   \n",
       "Humidity3pm       -0.100704     0.639470     1.000000    -0.006328   \n",
       "Pressure9am       -0.248316     0.137254    -0.006328     1.000000   \n",
       "Pressure3pm       -0.208384     0.173859     0.061228     0.963072   \n",
       "Temp9am            0.207860    -0.407533    -0.136803    -0.421406   \n",
       "Temp3pm            0.092975    -0.418024    -0.500404    -0.297724   \n",
       "RainToday          0.011844     0.387261     0.375963    -0.111959   \n",
       "RainTomorrow       0.043409     0.287774     0.466835    -0.159103   \n",
       "Year              -0.076752     0.081505    -0.034526     0.031526   \n",
       "Month              0.059914    -0.097160    -0.053115     0.021322   \n",
       "Day               -0.011507     0.006448     0.019511    -0.018746   \n",
       "\n",
       "               Pressure3pm   Temp9am   Temp3pm  RainToday  RainTomorrow  \\\n",
       "MinTemp          -0.440373  0.891411  0.696397   0.075902      0.097173   \n",
       "MaxTemp          -0.411804  0.864992  0.972316  -0.223284     -0.157751   \n",
       "Rainfall         -0.032678 -0.004354 -0.091943   0.461817      0.223599   \n",
       "WindGustSpeed    -0.363104  0.221725  0.129756   0.085806      0.184435   \n",
       "WindSpeed9am     -0.147296  0.152106  0.041762   0.033367      0.057939   \n",
       "WindSpeed3pm     -0.208384  0.207860  0.092975   0.011844      0.043409   \n",
       "Humidity9am       0.173859 -0.407533 -0.418024   0.387261      0.287774   \n",
       "Humidity3pm       0.061228 -0.136803 -0.500404   0.375963      0.466835   \n",
       "Pressure9am       0.963072 -0.421406 -0.297724  -0.111959     -0.159103   \n",
       "Pressure3pm       1.000000 -0.451247 -0.381029  -0.041080     -0.131759   \n",
       "Temp9am          -0.451247  1.000000  0.834079  -0.090733     -0.025788   \n",
       "Temp3pm          -0.381029  0.834079  1.000000  -0.236253     -0.202987   \n",
       "RainToday        -0.041080 -0.090733 -0.236253   1.000000      0.323691   \n",
       "RainTomorrow     -0.131759 -0.025788 -0.202987   0.323691      1.000000   \n",
       "Year              0.021568  0.045561  0.093321  -0.015226     -0.014769   \n",
       "Month             0.018934 -0.161219 -0.184969  -0.003782     -0.003575   \n",
       "Day              -0.013797  0.015054  0.012790  -0.006366     -0.007560   \n",
       "\n",
       "                   Year     Month       Day  \n",
       "MinTemp        0.032974 -0.237204  0.014356  \n",
       "MaxTemp        0.076908 -0.168842  0.016383  \n",
       "Rainfall      -0.008516 -0.015187 -0.007989  \n",
       "WindGustSpeed -0.028152  0.049739 -0.003225  \n",
       "WindSpeed9am  -0.103663  0.029141 -0.004444  \n",
       "WindSpeed3pm  -0.076752  0.059914 -0.011507  \n",
       "Humidity9am    0.081505 -0.097160  0.006448  \n",
       "Humidity3pm   -0.034526 -0.053115  0.019511  \n",
       "Pressure9am    0.031526  0.021322 -0.018746  \n",
       "Pressure3pm    0.021568  0.018934 -0.013797  \n",
       "Temp9am        0.045561 -0.161219  0.015054  \n",
       "Temp3pm        0.093321 -0.184969  0.012790  \n",
       "RainToday     -0.015226 -0.003782 -0.006366  \n",
       "RainTomorrow  -0.014769 -0.003575 -0.007560  \n",
       "Year           1.000000 -0.086462 -0.004205  \n",
       "Month         -0.086462  1.000000 -0.001831  \n",
       "Day           -0.004205 -0.001831  1.000000  "
      ]
     },
     "execution_count": 45,
     "metadata": {},
     "output_type": "execute_result"
    }
   ],
   "source": [
    "# Correlation\n",
    "corr=data.corr()\n",
    "corr"
   ]
  },
  {
   "cell_type": "code",
   "execution_count": 46,
   "metadata": {},
   "outputs": [
    {
     "data": {
      "image/png": "[encoded data removed]",
      "text/plain": [
       "<Figure size 1800x1800 with 2 Axes>"
      ]
     },
     "metadata": {
      "needs_background": "light"
     },
     "output_type": "display_data"
    }
   ],
   "source": [
    "# Heatmap\n",
    "plt.figure(figsize=(25, 25))\n",
    "sns.heatmap(corr, cmap='cubehelix', linewidth=0.5, linecolor='black', annot=True)\n",
    "plt.show()"
   ]
  },
  {
   "cell_type": "markdown",
   "metadata": {},
   "source": [
    "Observations:\n",
    "    \n",
    "'MinTemp' positively correlted with 'Temp3pm'and 'Temp9am'.\n",
    "'MinTemp' negatively correlted with 'Pressure3pm' and 'Pressure9am'.\n",
    "\n",
    "'MaxTemp' Highly correlted with 'Temp3pm'and 'Temp9am'.\n",
    "'MaxTemp' negatively correlted with 'Pressure3pm', 'Humidity3pm' and 'Humidity9am'.\n",
    "\n",
    "'Rainfall' Highly correlted with 'RainToday'.\n",
    "'Rainfall' negatively correlted with 'Humidity3pm' and 'Humidity9am'.\n",
    "\n",
    "'WindGustSpeed' Highly correlted with 'WindSpeed3pm' and 'WindSpeed9am'."
   ]
  },
  {
   "cell_type": "markdown",
   "metadata": {},
   "source": [
    "## Label Encoding"
   ]
  },
  {
   "cell_type": "code",
   "execution_count": 47,
   "metadata": {},
   "outputs": [],
   "source": [
    "a = data.describe(include=['O']).columns"
   ]
  },
  {
   "cell_type": "code",
   "execution_count": 48,
   "metadata": {},
   "outputs": [
    {
     "data": {
      "text/html": [
       "<div>\n",
       "<style scoped>\n",
       "    .dataframe tbody tr th:only-of-type {\n",
       "        vertical-align: middle;\n",
       "    }\n",
       "\n",
       "    .dataframe tbody tr th {\n",
       "        vertical-align: top;\n",
       "    }\n",
       "\n",
       "    .dataframe thead th {\n",
       "        text-align: right;\n",
       "    }\n",
       "</style>\n",
       "<table border=\"1\" class=\"dataframe\">\n",
       "  <thead>\n",
       "    <tr style=\"text-align: right;\">\n",
       "      <th></th>\n",
       "      <th>Location</th>\n",
       "      <th>MinTemp</th>\n",
       "      <th>MaxTemp</th>\n",
       "      <th>Rainfall</th>\n",
       "      <th>WindGustDir</th>\n",
       "      <th>WindGustSpeed</th>\n",
       "      <th>WindDir9am</th>\n",
       "      <th>WindDir3pm</th>\n",
       "      <th>WindSpeed9am</th>\n",
       "      <th>WindSpeed3pm</th>\n",
       "      <th>...</th>\n",
       "      <th>Humidity3pm</th>\n",
       "      <th>Pressure9am</th>\n",
       "      <th>Pressure3pm</th>\n",
       "      <th>Temp9am</th>\n",
       "      <th>Temp3pm</th>\n",
       "      <th>RainToday</th>\n",
       "      <th>RainTomorrow</th>\n",
       "      <th>Year</th>\n",
       "      <th>Month</th>\n",
       "      <th>Day</th>\n",
       "    </tr>\n",
       "  </thead>\n",
       "  <tbody>\n",
       "    <tr>\n",
       "      <th>0</th>\n",
       "      <td>1</td>\n",
       "      <td>13.4</td>\n",
       "      <td>22.9</td>\n",
       "      <td>0.6</td>\n",
       "      <td>13</td>\n",
       "      <td>44.0</td>\n",
       "      <td>13</td>\n",
       "      <td>14</td>\n",
       "      <td>20.0</td>\n",
       "      <td>24.0</td>\n",
       "      <td>...</td>\n",
       "      <td>22.0</td>\n",
       "      <td>1007.7</td>\n",
       "      <td>1007.1</td>\n",
       "      <td>16.9</td>\n",
       "      <td>21.8</td>\n",
       "      <td>0</td>\n",
       "      <td>0</td>\n",
       "      <td>2008</td>\n",
       "      <td>12</td>\n",
       "      <td>1</td>\n",
       "    </tr>\n",
       "    <tr>\n",
       "      <th>1</th>\n",
       "      <td>1</td>\n",
       "      <td>7.4</td>\n",
       "      <td>25.1</td>\n",
       "      <td>0.0</td>\n",
       "      <td>14</td>\n",
       "      <td>44.0</td>\n",
       "      <td>6</td>\n",
       "      <td>15</td>\n",
       "      <td>4.0</td>\n",
       "      <td>22.0</td>\n",
       "      <td>...</td>\n",
       "      <td>25.0</td>\n",
       "      <td>1010.6</td>\n",
       "      <td>1007.8</td>\n",
       "      <td>17.2</td>\n",
       "      <td>24.3</td>\n",
       "      <td>0</td>\n",
       "      <td>0</td>\n",
       "      <td>2008</td>\n",
       "      <td>12</td>\n",
       "      <td>2</td>\n",
       "    </tr>\n",
       "    <tr>\n",
       "      <th>2</th>\n",
       "      <td>1</td>\n",
       "      <td>12.9</td>\n",
       "      <td>25.7</td>\n",
       "      <td>0.0</td>\n",
       "      <td>15</td>\n",
       "      <td>46.0</td>\n",
       "      <td>13</td>\n",
       "      <td>15</td>\n",
       "      <td>19.0</td>\n",
       "      <td>26.0</td>\n",
       "      <td>...</td>\n",
       "      <td>30.0</td>\n",
       "      <td>1007.6</td>\n",
       "      <td>1008.7</td>\n",
       "      <td>21.0</td>\n",
       "      <td>23.2</td>\n",
       "      <td>0</td>\n",
       "      <td>0</td>\n",
       "      <td>2008</td>\n",
       "      <td>12</td>\n",
       "      <td>3</td>\n",
       "    </tr>\n",
       "    <tr>\n",
       "      <th>3</th>\n",
       "      <td>1</td>\n",
       "      <td>9.2</td>\n",
       "      <td>28.0</td>\n",
       "      <td>0.0</td>\n",
       "      <td>4</td>\n",
       "      <td>24.0</td>\n",
       "      <td>9</td>\n",
       "      <td>0</td>\n",
       "      <td>11.0</td>\n",
       "      <td>9.0</td>\n",
       "      <td>...</td>\n",
       "      <td>16.0</td>\n",
       "      <td>1017.6</td>\n",
       "      <td>1012.8</td>\n",
       "      <td>18.1</td>\n",
       "      <td>26.5</td>\n",
       "      <td>0</td>\n",
       "      <td>0</td>\n",
       "      <td>2008</td>\n",
       "      <td>12</td>\n",
       "      <td>4</td>\n",
       "    </tr>\n",
       "    <tr>\n",
       "      <th>4</th>\n",
       "      <td>1</td>\n",
       "      <td>17.5</td>\n",
       "      <td>32.3</td>\n",
       "      <td>1.0</td>\n",
       "      <td>13</td>\n",
       "      <td>41.0</td>\n",
       "      <td>1</td>\n",
       "      <td>7</td>\n",
       "      <td>7.0</td>\n",
       "      <td>20.0</td>\n",
       "      <td>...</td>\n",
       "      <td>33.0</td>\n",
       "      <td>1010.8</td>\n",
       "      <td>1006.0</td>\n",
       "      <td>17.8</td>\n",
       "      <td>29.7</td>\n",
       "      <td>0</td>\n",
       "      <td>0</td>\n",
       "      <td>2008</td>\n",
       "      <td>12</td>\n",
       "      <td>5</td>\n",
       "    </tr>\n",
       "  </tbody>\n",
       "</table>\n",
       "<p>5 rows × 21 columns</p>\n",
       "</div>"
      ],
      "text/plain": [
       "   Location  MinTemp  MaxTemp  Rainfall  WindGustDir  WindGustSpeed  \\\n",
       "0         1     13.4     22.9       0.6           13           44.0   \n",
       "1         1      7.4     25.1       0.0           14           44.0   \n",
       "2         1     12.9     25.7       0.0           15           46.0   \n",
       "3         1      9.2     28.0       0.0            4           24.0   \n",
       "4         1     17.5     32.3       1.0           13           41.0   \n",
       "\n",
       "   WindDir9am  WindDir3pm  WindSpeed9am  WindSpeed3pm  ...  Humidity3pm  \\\n",
       "0          13          14          20.0          24.0  ...         22.0   \n",
       "1           6          15           4.0          22.0  ...         25.0   \n",
       "2          13          15          19.0          26.0  ...         30.0   \n",
       "3           9           0          11.0           9.0  ...         16.0   \n",
       "4           1           7           7.0          20.0  ...         33.0   \n",
       "\n",
       "   Pressure9am  Pressure3pm  Temp9am  Temp3pm  RainToday  RainTomorrow  Year  \\\n",
       "0       1007.7       1007.1     16.9     21.8          0             0  2008   \n",
       "1       1010.6       1007.8     17.2     24.3          0             0  2008   \n",
       "2       1007.6       1008.7     21.0     23.2          0             0  2008   \n",
       "3       1017.6       1012.8     18.1     26.5          0             0  2008   \n",
       "4       1010.8       1006.0     17.8     29.7          0             0  2008   \n",
       "\n",
       "   Month  Day  \n",
       "0     12    1  \n",
       "1     12    2  \n",
       "2     12    3  \n",
       "3     12    4  \n",
       "4     12    5  \n",
       "\n",
       "[5 rows x 21 columns]"
      ]
     },
     "execution_count": 48,
     "metadata": {},
     "output_type": "execute_result"
    }
   ],
   "source": [
    "from sklearn.preprocessing import LabelEncoder\n",
    "LE = LabelEncoder()\n",
    "for i in a:\n",
    "    data[i] = LE.fit_transform(data[i])\n",
    "data.head()"
   ]
  },
  {
   "cell_type": "code",
   "execution_count": 49,
   "metadata": {},
   "outputs": [
    {
     "data": {
      "text/plain": [
       "Location           int32\n",
       "MinTemp          float64\n",
       "MaxTemp          float64\n",
       "Rainfall         float64\n",
       "WindGustDir        int32\n",
       "WindGustSpeed    float64\n",
       "WindDir9am         int32\n",
       "WindDir3pm         int32\n",
       "WindSpeed9am     float64\n",
       "WindSpeed3pm     float64\n",
       "Humidity9am      float64\n",
       "Humidity3pm      float64\n",
       "Pressure9am      float64\n",
       "Pressure3pm      float64\n",
       "Temp9am          float64\n",
       "Temp3pm          float64\n",
       "RainToday          int32\n",
       "RainTomorrow       int32\n",
       "Year               int64\n",
       "Month              int64\n",
       "Day                int64\n",
       "dtype: object"
      ]
     },
     "execution_count": 49,
     "metadata": {},
     "output_type": "execute_result"
    }
   ],
   "source": [
    "#Checking datatypes after label encoding\n",
    "data.dtypes"
   ]
  },
  {
   "cell_type": "markdown",
   "metadata": {},
   "source": [
    "## Checking Outliers"
   ]
  },
  {
   "cell_type": "code",
   "execution_count": 50,
   "metadata": {},
   "outputs": [
    {
     "data": {
      "text/plain": [
       "Location            AxesSubplot(0.125,0.816017;0.168478x0.0639831)\n",
       "MinTemp          AxesSubplot(0.327174,0.816017;0.168478x0.0639831)\n",
       "MaxTemp          AxesSubplot(0.529348,0.816017;0.168478x0.0639831)\n",
       "Rainfall         AxesSubplot(0.731522,0.816017;0.168478x0.0639831)\n",
       "WindGustDir         AxesSubplot(0.125,0.739237;0.168478x0.0639831)\n",
       "WindGustSpeed    AxesSubplot(0.327174,0.739237;0.168478x0.0639831)\n",
       "WindDir9am       AxesSubplot(0.529348,0.739237;0.168478x0.0639831)\n",
       "WindDir3pm       AxesSubplot(0.731522,0.739237;0.168478x0.0639831)\n",
       "WindSpeed9am        AxesSubplot(0.125,0.662458;0.168478x0.0639831)\n",
       "WindSpeed3pm     AxesSubplot(0.327174,0.662458;0.168478x0.0639831)\n",
       "Humidity9am      AxesSubplot(0.529348,0.662458;0.168478x0.0639831)\n",
       "Humidity3pm      AxesSubplot(0.731522,0.662458;0.168478x0.0639831)\n",
       "Pressure9am         AxesSubplot(0.125,0.585678;0.168478x0.0639831)\n",
       "Pressure3pm      AxesSubplot(0.327174,0.585678;0.168478x0.0639831)\n",
       "Temp9am          AxesSubplot(0.529348,0.585678;0.168478x0.0639831)\n",
       "Temp3pm          AxesSubplot(0.731522,0.585678;0.168478x0.0639831)\n",
       "RainToday           AxesSubplot(0.125,0.508898;0.168478x0.0639831)\n",
       "RainTomorrow     AxesSubplot(0.327174,0.508898;0.168478x0.0639831)\n",
       "Year             AxesSubplot(0.529348,0.508898;0.168478x0.0639831)\n",
       "Month            AxesSubplot(0.731522,0.508898;0.168478x0.0639831)\n",
       "Day                 AxesSubplot(0.125,0.432119;0.168478x0.0639831)\n",
       "dtype: object"
      ]
     },
     "execution_count": 50,
     "metadata": {},
     "output_type": "execute_result"
    },
    {
     "data": {
      "image/png": "[encoded data removed]",
      "text/plain": [
       "<Figure size 2160x2160 with 40 Axes>"
      ]
     },
     "metadata": {
      "needs_background": "light"
     },
     "output_type": "display_data"
    }
   ],
   "source": [
    "data.plot(kind='box', subplots=True, layout=(10, 4), figsize=(30, 30))"
   ]
  },
  {
   "cell_type": "markdown",
   "metadata": {},
   "source": [
    "Outliers are present in several columns."
   ]
  },
  {
   "cell_type": "markdown",
   "metadata": {},
   "source": [
    "## Removing Outliers"
   ]
  },
  {
   "cell_type": "code",
   "execution_count": 51,
   "metadata": {},
   "outputs": [],
   "source": [
    "from scipy.stats import zscore\n",
    "z=np.abs(zscore(data))"
   ]
  },
  {
   "cell_type": "code",
   "execution_count": 52,
   "metadata": {},
   "outputs": [],
   "source": [
    "threshold=3\n",
    "df=data[(z<3).all(axis=1)]"
   ]
  },
  {
   "cell_type": "code",
   "execution_count": 53,
   "metadata": {},
   "outputs": [
    {
     "data": {
      "text/plain": [
       "(6762, 21)"
      ]
     },
     "execution_count": 53,
     "metadata": {},
     "output_type": "execute_result"
    }
   ],
   "source": [
    "data.shape"
   ]
  },
  {
   "cell_type": "code",
   "execution_count": 54,
   "metadata": {},
   "outputs": [
    {
     "data": {
      "text/plain": [
       "(6458, 21)"
      ]
     },
     "execution_count": 54,
     "metadata": {},
     "output_type": "execute_result"
    }
   ],
   "source": [
    "df.shape"
   ]
  },
  {
   "cell_type": "code",
   "execution_count": 55,
   "metadata": {},
   "outputs": [
    {
     "data": {
      "text/plain": [
       "4.495711328009465"
      ]
     },
     "execution_count": 55,
     "metadata": {},
     "output_type": "execute_result"
    }
   ],
   "source": [
    "# Data loss\n",
    "Data_loss = ((6762-6458)/6762)*100\n",
    "Data_loss"
   ]
  },
  {
   "cell_type": "markdown",
   "metadata": {},
   "source": [
    "Data loss is approx 4.5%, Outliers are removed."
   ]
  },
  {
   "cell_type": "markdown",
   "metadata": {},
   "source": [
    "## Splitting the dataset into x and y variables."
   ]
  },
  {
   "cell_type": "code",
   "execution_count": 56,
   "metadata": {},
   "outputs": [
    {
     "name": "stdout",
     "output_type": "stream",
     "text": [
      "(6458, 20)\n",
      "(6458,)\n"
     ]
    }
   ],
   "source": [
    "x = df.drop('RainTomorrow', axis=1)\n",
    "y = df['RainTomorrow']\n",
    "print(x.shape)\n",
    "print(y.shape)"
   ]
  },
  {
   "cell_type": "markdown",
   "metadata": {},
   "source": [
    "## Checking skewness"
   ]
  },
  {
   "cell_type": "code",
   "execution_count": 57,
   "metadata": {},
   "outputs": [
    {
     "data": {
      "text/plain": [
       "Location        -0.001665\n",
       "MinTemp         -0.083407\n",
       "MaxTemp          0.278198\n",
       "Rainfall         3.521080\n",
       "WindGustDir      0.101739\n",
       "WindGustSpeed    0.478203\n",
       "WindDir9am       0.210259\n",
       "WindDir3pm      -0.128190\n",
       "WindSpeed9am     0.679739\n",
       "WindSpeed3pm     0.339856\n",
       "Humidity9am     -0.229991\n",
       "Humidity3pm      0.158715\n",
       "Pressure9am      0.059428\n",
       "Pressure3pm      0.087776\n",
       "Temp9am         -0.074909\n",
       "Temp3pm          0.286619\n",
       "RainToday        1.338894\n",
       "Year             0.341449\n",
       "Month            0.029230\n",
       "Day              0.004620\n",
       "dtype: float64"
      ]
     },
     "execution_count": 57,
     "metadata": {},
     "output_type": "execute_result"
    }
   ],
   "source": [
    "x.skew()"
   ]
  },
  {
   "cell_type": "code",
   "execution_count": 58,
   "metadata": {},
   "outputs": [],
   "source": [
    "x['Rainfall']=np.log1p(x['Rainfall'])"
   ]
  },
  {
   "cell_type": "code",
   "execution_count": 59,
   "metadata": {},
   "outputs": [],
   "source": [
    "x['RainToday']=np.sqrt(x['RainToday'])"
   ]
  },
  {
   "cell_type": "code",
   "execution_count": 60,
   "metadata": {},
   "outputs": [
    {
     "data": {
      "text/plain": [
       "Location        -0.001665\n",
       "MinTemp         -0.083407\n",
       "MaxTemp          0.278198\n",
       "Rainfall         1.844311\n",
       "WindGustDir      0.101739\n",
       "WindGustSpeed    0.478203\n",
       "WindDir9am       0.210259\n",
       "WindDir3pm      -0.128190\n",
       "WindSpeed9am     0.679739\n",
       "WindSpeed3pm     0.339856\n",
       "Humidity9am     -0.229991\n",
       "Humidity3pm      0.158715\n",
       "Pressure9am      0.059428\n",
       "Pressure3pm      0.087776\n",
       "Temp9am         -0.074909\n",
       "Temp3pm          0.286619\n",
       "RainToday        1.338894\n",
       "Year             0.341449\n",
       "Month            0.029230\n",
       "Day              0.004620\n",
       "dtype: float64"
      ]
     },
     "execution_count": 60,
     "metadata": {},
     "output_type": "execute_result"
    }
   ],
   "source": [
    "x.skew()"
   ]
  },
  {
   "cell_type": "markdown",
   "metadata": {},
   "source": [
    "## Scaling the data"
   ]
  },
  {
   "cell_type": "code",
   "execution_count": 61,
   "metadata": {},
   "outputs": [
    {
     "data": {
      "text/html": [
       "<div>\n",
       "<style scoped>\n",
       "    .dataframe tbody tr th:only-of-type {\n",
       "        vertical-align: middle;\n",
       "    }\n",
       "\n",
       "    .dataframe tbody tr th {\n",
       "        vertical-align: top;\n",
       "    }\n",
       "\n",
       "    .dataframe thead th {\n",
       "        text-align: right;\n",
       "    }\n",
       "</style>\n",
       "<table border=\"1\" class=\"dataframe\">\n",
       "  <thead>\n",
       "    <tr style=\"text-align: right;\">\n",
       "      <th></th>\n",
       "      <th>0</th>\n",
       "      <th>1</th>\n",
       "      <th>2</th>\n",
       "      <th>3</th>\n",
       "      <th>4</th>\n",
       "      <th>5</th>\n",
       "      <th>6</th>\n",
       "      <th>7</th>\n",
       "      <th>8</th>\n",
       "      <th>9</th>\n",
       "      <th>10</th>\n",
       "      <th>11</th>\n",
       "      <th>12</th>\n",
       "      <th>13</th>\n",
       "      <th>14</th>\n",
       "      <th>15</th>\n",
       "      <th>16</th>\n",
       "      <th>17</th>\n",
       "      <th>18</th>\n",
       "      <th>19</th>\n",
       "    </tr>\n",
       "  </thead>\n",
       "  <tbody>\n",
       "    <tr>\n",
       "      <th>0</th>\n",
       "      <td>-1.390808</td>\n",
       "      <td>0.065513</td>\n",
       "      <td>-0.187468</td>\n",
       "      <td>0.008424</td>\n",
       "      <td>1.220567</td>\n",
       "      <td>0.479557</td>\n",
       "      <td>1.313621</td>\n",
       "      <td>1.372737</td>\n",
       "      <td>0.864608</td>\n",
       "      <td>0.754025</td>\n",
       "      <td>0.202856</td>\n",
       "      <td>-1.558610</td>\n",
       "      <td>-1.753468</td>\n",
       "      <td>-1.431940</td>\n",
       "      <td>-0.167281</td>\n",
       "      <td>-0.154396</td>\n",
       "      <td>-0.534017</td>\n",
       "      <td>-1.772787</td>\n",
       "      <td>1.646938</td>\n",
       "      <td>-1.671894</td>\n",
       "    </tr>\n",
       "    <tr>\n",
       "      <th>1</th>\n",
       "      <td>-1.390808</td>\n",
       "      <td>-1.017424</td>\n",
       "      <td>0.176066</td>\n",
       "      <td>-0.535333</td>\n",
       "      <td>1.411429</td>\n",
       "      <td>0.479557</td>\n",
       "      <td>-0.225172</td>\n",
       "      <td>1.595709</td>\n",
       "      <td>-0.910924</td>\n",
       "      <td>0.533246</td>\n",
       "      <td>-1.393994</td>\n",
       "      <td>-1.393594</td>\n",
       "      <td>-1.247409</td>\n",
       "      <td>-1.308625</td>\n",
       "      <td>-0.114538</td>\n",
       "      <td>0.271035</td>\n",
       "      <td>-0.534017</td>\n",
       "      <td>-1.772787</td>\n",
       "      <td>1.646938</td>\n",
       "      <td>-1.558192</td>\n",
       "    </tr>\n",
       "    <tr>\n",
       "      <th>2</th>\n",
       "      <td>-1.390808</td>\n",
       "      <td>-0.024731</td>\n",
       "      <td>0.275211</td>\n",
       "      <td>-0.535333</td>\n",
       "      <td>1.602291</td>\n",
       "      <td>0.642861</td>\n",
       "      <td>1.313621</td>\n",
       "      <td>1.595709</td>\n",
       "      <td>0.753637</td>\n",
       "      <td>0.974804</td>\n",
       "      <td>-1.748850</td>\n",
       "      <td>-1.118568</td>\n",
       "      <td>-1.770918</td>\n",
       "      <td>-1.150077</td>\n",
       "      <td>0.553536</td>\n",
       "      <td>0.083845</td>\n",
       "      <td>-0.534017</td>\n",
       "      <td>-1.772787</td>\n",
       "      <td>1.646938</td>\n",
       "      <td>-1.444491</td>\n",
       "    </tr>\n",
       "    <tr>\n",
       "      <th>3</th>\n",
       "      <td>-1.390808</td>\n",
       "      <td>-0.692543</td>\n",
       "      <td>0.655269</td>\n",
       "      <td>-0.535333</td>\n",
       "      <td>-0.497193</td>\n",
       "      <td>-1.153475</td>\n",
       "      <td>0.434311</td>\n",
       "      <td>-1.748868</td>\n",
       "      <td>-0.134129</td>\n",
       "      <td>-0.901819</td>\n",
       "      <td>-1.334852</td>\n",
       "      <td>-1.888643</td>\n",
       "      <td>-0.025889</td>\n",
       "      <td>-0.427803</td>\n",
       "      <td>0.043690</td>\n",
       "      <td>0.645415</td>\n",
       "      <td>-0.534017</td>\n",
       "      <td>-1.772787</td>\n",
       "      <td>1.646938</td>\n",
       "      <td>-1.330789</td>\n",
       "    </tr>\n",
       "    <tr>\n",
       "      <th>4</th>\n",
       "      <td>-1.390808</td>\n",
       "      <td>0.805521</td>\n",
       "      <td>1.365812</td>\n",
       "      <td>0.266583</td>\n",
       "      <td>1.220567</td>\n",
       "      <td>0.234603</td>\n",
       "      <td>-1.324309</td>\n",
       "      <td>-0.188066</td>\n",
       "      <td>-0.578012</td>\n",
       "      <td>0.312467</td>\n",
       "      <td>0.853425</td>\n",
       "      <td>-0.953551</td>\n",
       "      <td>-1.212509</td>\n",
       "      <td>-1.625721</td>\n",
       "      <td>-0.009053</td>\n",
       "      <td>1.189967</td>\n",
       "      <td>-0.534017</td>\n",
       "      <td>-1.772787</td>\n",
       "      <td>1.646938</td>\n",
       "      <td>-1.217088</td>\n",
       "    </tr>\n",
       "  </tbody>\n",
       "</table>\n",
       "</div>"
      ],
      "text/plain": [
       "          0         1         2         3         4         5         6  \\\n",
       "0 -1.390808  0.065513 -0.187468  0.008424  1.220567  0.479557  1.313621   \n",
       "1 -1.390808 -1.017424  0.176066 -0.535333  1.411429  0.479557 -0.225172   \n",
       "2 -1.390808 -0.024731  0.275211 -0.535333  1.602291  0.642861  1.313621   \n",
       "3 -1.390808 -0.692543  0.655269 -0.535333 -0.497193 -1.153475  0.434311   \n",
       "4 -1.390808  0.805521  1.365812  0.266583  1.220567  0.234603 -1.324309   \n",
       "\n",
       "          7         8         9        10        11        12        13  \\\n",
       "0  1.372737  0.864608  0.754025  0.202856 -1.558610 -1.753468 -1.431940   \n",
       "1  1.595709 -0.910924  0.533246 -1.393994 -1.393594 -1.247409 -1.308625   \n",
       "2  1.595709  0.753637  0.974804 -1.748850 -1.118568 -1.770918 -1.150077   \n",
       "3 -1.748868 -0.134129 -0.901819 -1.334852 -1.888643 -0.025889 -0.427803   \n",
       "4 -0.188066 -0.578012  0.312467  0.853425 -0.953551 -1.212509 -1.625721   \n",
       "\n",
       "         14        15        16        17        18        19  \n",
       "0 -0.167281 -0.154396 -0.534017 -1.772787  1.646938 -1.671894  \n",
       "1 -0.114538  0.271035 -0.534017 -1.772787  1.646938 -1.558192  \n",
       "2  0.553536  0.083845 -0.534017 -1.772787  1.646938 -1.444491  \n",
       "3  0.043690  0.645415 -0.534017 -1.772787  1.646938 -1.330789  \n",
       "4 -0.009053  1.189967 -0.534017 -1.772787  1.646938 -1.217088  "
      ]
     },
     "execution_count": 61,
     "metadata": {},
     "output_type": "execute_result"
    }
   ],
   "source": [
    "from sklearn.preprocessing import StandardScaler\n",
    "sc = StandardScaler()\n",
    "x = sc.fit_transform(x)\n",
    "x = pd.DataFrame(x)\n",
    "x.head()"
   ]
  },
  {
   "cell_type": "markdown",
   "metadata": {},
   "source": [
    "data is scaled"
   ]
  },
  {
   "cell_type": "markdown",
   "metadata": {},
   "source": [
    "## Sampling"
   ]
  },
  {
   "cell_type": "code",
   "execution_count": 62,
   "metadata": {},
   "outputs": [],
   "source": [
    "from imblearn.over_sampling import SMOTE\n",
    "sm = SMOTE()\n",
    "x, y = sm.fit_resample(x,y) "
   ]
  },
  {
   "cell_type": "code",
   "execution_count": 63,
   "metadata": {},
   "outputs": [
    {
     "data": {
      "text/plain": [
       "1    5020\n",
       "0    5020\n",
       "Name: RainTomorrow, dtype: int64"
      ]
     },
     "execution_count": 63,
     "metadata": {},
     "output_type": "execute_result"
    }
   ],
   "source": [
    "y.value_counts()"
   ]
  },
  {
   "cell_type": "markdown",
   "metadata": {},
   "source": [
    "Now, Balanced the Imbalanced data"
   ]
  },
  {
   "cell_type": "code",
   "execution_count": 64,
   "metadata": {},
   "outputs": [
    {
     "name": "stdout",
     "output_type": "stream",
     "text": [
      "(10040, 20)\n",
      "(10040,)\n"
     ]
    }
   ],
   "source": [
    "print(x.shape)\n",
    "print(y.shape)"
   ]
  },
  {
   "cell_type": "markdown",
   "metadata": {},
   "source": [
    "## Trainig and testing of model"
   ]
  },
  {
   "cell_type": "code",
   "execution_count": 65,
   "metadata": {},
   "outputs": [],
   "source": [
    "from sklearn.model_selection import train_test_split\n",
    "from sklearn.linear_model import LogisticRegression\n",
    "from sklearn.naive_bayes import GaussianNB\n",
    "from sklearn.tree import DecisionTreeClassifier\n",
    "from sklearn.ensemble import RandomForestClassifier\n",
    "from sklearn.neighbors import KNeighborsClassifier\n",
    "from sklearn.metrics import accuracy_score, confusion_matrix, classification_report "
   ]
  },
  {
   "cell_type": "markdown",
   "metadata": {},
   "source": [
    "# Logistic Regression"
   ]
  },
  {
   "cell_type": "code",
   "execution_count": 66,
   "metadata": {},
   "outputs": [
    {
     "name": "stdout",
     "output_type": "stream",
     "text": [
      "Best Accuracy is 0.7973107569721115 on random state 76\n"
     ]
    }
   ],
   "source": [
    "maxAccu=0\n",
    "maxRS=0\n",
    "for i in range(1, 200):\n",
    "    x_train,x_test,y_train,y_test=train_test_split(x,y,test_size=0.2, random_state=i)\n",
    "    a=LogisticRegression()\n",
    "    a.fit(x_train,y_train)\n",
    "    pred=a.predict(x_test)\n",
    "    accu=accuracy_score(y_test,pred)\n",
    "    if accu>maxAccu:\n",
    "        maxAccu=accu\n",
    "        maxRS=i\n",
    "print('Best Accuracy is', maxAccu, 'on random state', maxRS)"
   ]
  },
  {
   "cell_type": "code",
   "execution_count": 67,
   "metadata": {},
   "outputs": [],
   "source": [
    "x_train,x_test,y_train,y_test=train_test_split(x,y,test_size=0.2, random_state=76)"
   ]
  },
  {
   "cell_type": "code",
   "execution_count": 68,
   "metadata": {},
   "outputs": [
    {
     "name": "stdout",
     "output_type": "stream",
     "text": [
      "Accuracy Score of LogisticRegression() is: \n",
      "79.73107569721115\n",
      "\n",
      "\n",
      "confusion_matrix of LogisticRegression() is: \n",
      "[[808 198]\n",
      " [209 793]]\n",
      "\n",
      "\n",
      "classification_report of LogisticRegression() is: \n",
      "              precision    recall  f1-score   support\n",
      "\n",
      "           0       0.79      0.80      0.80      1006\n",
      "           1       0.80      0.79      0.80      1002\n",
      "\n",
      "    accuracy                           0.80      2008\n",
      "   macro avg       0.80      0.80      0.80      2008\n",
      "weighted avg       0.80      0.80      0.80      2008\n",
      "\n",
      "\n",
      "\n"
     ]
    }
   ],
   "source": [
    "a.fit(x_train,y_train)\n",
    "a.score(x_train,y_train)\n",
    "predm=a.predict(x_test)\n",
    "print('Accuracy Score of', a, 'is: ')\n",
    "print(accuracy_score(y_test,predm)*100)\n",
    "print('\\n')\n",
    "print('confusion_matrix of', a, 'is: ')\n",
    "print(confusion_matrix(y_test,predm))\n",
    "print('\\n')\n",
    "print('classification_report of', a, 'is: ')      \n",
    "print(classification_report(y_test,predm))\n",
    "print('\\n')"
   ]
  },
  {
   "cell_type": "code",
   "execution_count": 69,
   "metadata": {},
   "outputs": [
    {
     "name": "stdout",
     "output_type": "stream",
     "text": [
      "The cross validation score of LogisticRegression() is: 0.7115537848605579\n"
     ]
    }
   ],
   "source": [
    "from sklearn.model_selection import cross_val_score\n",
    "cv = cross_val_score(a, x, y, cv=5).mean()\n",
    "print(\"The cross validation score of\", a,\"is:\", cv)"
   ]
  },
  {
   "cell_type": "markdown",
   "metadata": {},
   "source": [
    "# GaussianNB Classifier"
   ]
  },
  {
   "cell_type": "code",
   "execution_count": 70,
   "metadata": {},
   "outputs": [
    {
     "name": "stdout",
     "output_type": "stream",
     "text": [
      "Best Accuracy is 0.7529880478087649 on random state 189\n"
     ]
    }
   ],
   "source": [
    "maxAccu=0\n",
    "maxRS=0\n",
    "for i in range(1, 200):\n",
    "    x_train,x_test,y_train,y_test=train_test_split(x,y,test_size=0.2, random_state=i)\n",
    "    a=GaussianNB()\n",
    "    a.fit(x_train,y_train)\n",
    "    pred=a.predict(x_test)\n",
    "    accu=accuracy_score(y_test,pred)\n",
    "    if accu>maxAccu:\n",
    "        maxAccu=accu\n",
    "        maxRS=i\n",
    "print('Best Accuracy is', maxAccu, 'on random state', maxRS)"
   ]
  },
  {
   "cell_type": "code",
   "execution_count": 71,
   "metadata": {},
   "outputs": [],
   "source": [
    "x_train,x_test,y_train,y_test=train_test_split(x,y,test_size=0.2, random_state=189)"
   ]
  },
  {
   "cell_type": "code",
   "execution_count": 72,
   "metadata": {},
   "outputs": [
    {
     "name": "stdout",
     "output_type": "stream",
     "text": [
      "Accuracy Score of GaussianNB() is: \n",
      "74.15338645418326\n",
      "\n",
      "\n",
      "confusion_matrix of GaussianNB() is: \n",
      "[[808 195]\n",
      " [324 681]]\n",
      "\n",
      "\n",
      "classification_report of GaussianNB() is: \n",
      "              precision    recall  f1-score   support\n",
      "\n",
      "           0       0.71      0.81      0.76      1003\n",
      "           1       0.78      0.68      0.72      1005\n",
      "\n",
      "    accuracy                           0.74      2008\n",
      "   macro avg       0.75      0.74      0.74      2008\n",
      "weighted avg       0.75      0.74      0.74      2008\n",
      "\n",
      "\n",
      "\n"
     ]
    }
   ],
   "source": [
    "a.fit(x_train,y_train)\n",
    "a.score(x_train,y_train)\n",
    "predm=a.predict(x_test)\n",
    "print('Accuracy Score of', a, 'is: ')\n",
    "print(accuracy_score(y_test,predm)*100)\n",
    "print('\\n')\n",
    "print('confusion_matrix of', a, 'is: ')\n",
    "print(confusion_matrix(y_test,predm))\n",
    "print('\\n')\n",
    "print('classification_report of', a, 'is: ')      \n",
    "print(classification_report(y_test,predm))\n",
    "print('\\n')"
   ]
  },
  {
   "cell_type": "code",
   "execution_count": 73,
   "metadata": {},
   "outputs": [
    {
     "name": "stdout",
     "output_type": "stream",
     "text": [
      "The cross validation score of GaussianNB() is: 0.696812749003984\n"
     ]
    }
   ],
   "source": [
    "from sklearn.model_selection import cross_val_score\n",
    "cv = cross_val_score(a, x, y, cv=5).mean()\n",
    "print(\"The cross validation score of\", a,\"is:\", cv)"
   ]
  },
  {
   "cell_type": "markdown",
   "metadata": {},
   "source": [
    "# Decision Tree Classifier"
   ]
  },
  {
   "cell_type": "code",
   "execution_count": 76,
   "metadata": {},
   "outputs": [
    {
     "name": "stdout",
     "output_type": "stream",
     "text": [
      "Best Accuracy is 0.8401394422310757 on random state 58\n"
     ]
    }
   ],
   "source": [
    "maxAccu=0\n",
    "maxRS=0\n",
    "for i in range(1, 200):\n",
    "    x_train,x_test,y_train,y_test=train_test_split(x,y,test_size=0.2, random_state=i)\n",
    "    a=DecisionTreeClassifier()\n",
    "    a.fit(x_train,y_train)\n",
    "    pred=a.predict(x_test)\n",
    "    accu=accuracy_score(y_test,pred)\n",
    "    if accu>maxAccu:\n",
    "        maxAccu=accu\n",
    "        maxRS=i\n",
    "print('Best Accuracy is', maxAccu, 'on random state', maxRS)"
   ]
  },
  {
   "cell_type": "code",
   "execution_count": 77,
   "metadata": {},
   "outputs": [],
   "source": [
    "x_train,x_test,y_train,y_test=train_test_split(x,y,test_size=0.2, random_state=58)"
   ]
  },
  {
   "cell_type": "code",
   "execution_count": 78,
   "metadata": {},
   "outputs": [
    {
     "name": "stdout",
     "output_type": "stream",
     "text": [
      "Accuracy Score of DecisionTreeClassifier() is: \n",
      "84.06374501992032\n",
      "\n",
      "\n",
      "confusion_matrix of DecisionTreeClassifier() is: \n",
      "[[836 156]\n",
      " [164 852]]\n",
      "\n",
      "\n",
      "classification_report of DecisionTreeClassifier() is: \n",
      "              precision    recall  f1-score   support\n",
      "\n",
      "           0       0.84      0.84      0.84       992\n",
      "           1       0.85      0.84      0.84      1016\n",
      "\n",
      "    accuracy                           0.84      2008\n",
      "   macro avg       0.84      0.84      0.84      2008\n",
      "weighted avg       0.84      0.84      0.84      2008\n",
      "\n",
      "\n",
      "\n"
     ]
    }
   ],
   "source": [
    "a.fit(x_train,y_train)\n",
    "a.score(x_train,y_train)\n",
    "predm=a.predict(x_test)\n",
    "print('Accuracy Score of', a, 'is: ')\n",
    "print(accuracy_score(y_test,predm)*100)\n",
    "print('\\n')\n",
    "print('confusion_matrix of', a, 'is: ')\n",
    "print(confusion_matrix(y_test,predm))\n",
    "print('\\n')\n",
    "print('classification_report of', a, 'is: ')      \n",
    "print(classification_report(y_test,predm))\n",
    "print('\\n')"
   ]
  },
  {
   "cell_type": "code",
   "execution_count": 79,
   "metadata": {},
   "outputs": [
    {
     "name": "stdout",
     "output_type": "stream",
     "text": [
      "The cross validation score of DecisionTreeClassifier() is: 0.6584661354581673\n"
     ]
    }
   ],
   "source": [
    "from sklearn.model_selection import cross_val_score\n",
    "cv = cross_val_score(a, x, y, cv=5).mean()\n",
    "print(\"The cross validation score of\", a,\"is:\", cv)"
   ]
  },
  {
   "cell_type": "markdown",
   "metadata": {},
   "source": [
    "# KNeighborsClassifier"
   ]
  },
  {
   "cell_type": "code",
   "execution_count": 80,
   "metadata": {},
   "outputs": [
    {
     "name": "stdout",
     "output_type": "stream",
     "text": [
      "Best Accuracy is 0.8710159362549801 on random state 78\n"
     ]
    }
   ],
   "source": [
    "maxAccu=0\n",
    "maxRS=0\n",
    "for i in range(1, 200):\n",
    "    x_train,x_test,y_train,y_test=train_test_split(x,y,test_size=0.2, random_state=i)\n",
    "    a=KNeighborsClassifier()\n",
    "    a.fit(x_train,y_train)\n",
    "    pred=a.predict(x_test)\n",
    "    accu=accuracy_score(y_test,pred)\n",
    "    if accu>maxAccu:\n",
    "        maxAccu=accu\n",
    "        maxRS=i\n",
    "print('Best Accuracy is', maxAccu, 'on random state', maxRS)"
   ]
  },
  {
   "cell_type": "code",
   "execution_count": 81,
   "metadata": {},
   "outputs": [],
   "source": [
    "x_train,x_test,y_train,y_test=train_test_split(x,y,test_size=0.2, random_state=78)"
   ]
  },
  {
   "cell_type": "code",
   "execution_count": 82,
   "metadata": {},
   "outputs": [
    {
     "name": "stdout",
     "output_type": "stream",
     "text": [
      "Accuracy Score of KNeighborsClassifier() is: \n",
      "87.10159362549801\n",
      "\n",
      "\n",
      "confusion_matrix of KNeighborsClassifier() is: \n",
      "[[766 208]\n",
      " [ 51 983]]\n",
      "\n",
      "\n",
      "classification_report of KNeighborsClassifier() is: \n",
      "              precision    recall  f1-score   support\n",
      "\n",
      "           0       0.94      0.79      0.86       974\n",
      "           1       0.83      0.95      0.88      1034\n",
      "\n",
      "    accuracy                           0.87      2008\n",
      "   macro avg       0.88      0.87      0.87      2008\n",
      "weighted avg       0.88      0.87      0.87      2008\n",
      "\n",
      "\n",
      "\n"
     ]
    }
   ],
   "source": [
    "a.fit(x_train,y_train)\n",
    "a.score(x_train,y_train)\n",
    "predm=a.predict(x_test)\n",
    "print('Accuracy Score of', a, 'is: ')\n",
    "print(accuracy_score(y_test,predm)*100)\n",
    "print('\\n')\n",
    "print('confusion_matrix of', a, 'is: ')\n",
    "print(confusion_matrix(y_test,predm))\n",
    "print('\\n')\n",
    "print('classification_report of', a, 'is: ')      \n",
    "print(classification_report(y_test,predm))\n",
    "print('\\n')"
   ]
  },
  {
   "cell_type": "code",
   "execution_count": 83,
   "metadata": {},
   "outputs": [
    {
     "name": "stdout",
     "output_type": "stream",
     "text": [
      "The cross validation score of KNeighborsClassifier() is: 0.6915338645418326\n"
     ]
    }
   ],
   "source": [
    "from sklearn.model_selection import cross_val_score\n",
    "cv = cross_val_score(a, x, y, cv=5).mean()\n",
    "print(\"The cross validation score of\", a,\"is:\", cv)"
   ]
  },
  {
   "cell_type": "markdown",
   "metadata": {},
   "source": [
    "# Random Forest Classifier"
   ]
  },
  {
   "cell_type": "code",
   "execution_count": 84,
   "metadata": {},
   "outputs": [
    {
     "name": "stdout",
     "output_type": "stream",
     "text": [
      "Best Accuracy is 0.9203187250996016 on random state 193\n"
     ]
    }
   ],
   "source": [
    "maxAccu=0\n",
    "maxRS=0\n",
    "for i in range(1, 200):\n",
    "    x_train,x_test,y_train,y_test=train_test_split(x,y,test_size=0.2, random_state=i)\n",
    "    a=RandomForestClassifier()\n",
    "    a.fit(x_train,y_train)\n",
    "    pred=a.predict(x_test)\n",
    "    accu=accuracy_score(y_test,pred)\n",
    "    if accu>maxAccu:\n",
    "        maxAccu=accu\n",
    "        maxRS=i\n",
    "print('Best Accuracy is', maxAccu, 'on random state', maxRS)"
   ]
  },
  {
   "cell_type": "code",
   "execution_count": 85,
   "metadata": {},
   "outputs": [],
   "source": [
    "x_train,x_test,y_train,y_test=train_test_split(x,y,test_size=0.2, random_state=193)"
   ]
  },
  {
   "cell_type": "code",
   "execution_count": 86,
   "metadata": {},
   "outputs": [
    {
     "name": "stdout",
     "output_type": "stream",
     "text": [
      "Accuracy Score of RandomForestClassifier() is: \n",
      "91.13545816733067\n",
      "\n",
      "\n",
      "confusion_matrix of RandomForestClassifier() is: \n",
      "[[901 101]\n",
      " [ 77 929]]\n",
      "\n",
      "\n",
      "classification_report of RandomForestClassifier() is: \n",
      "              precision    recall  f1-score   support\n",
      "\n",
      "           0       0.92      0.90      0.91      1002\n",
      "           1       0.90      0.92      0.91      1006\n",
      "\n",
      "    accuracy                           0.91      2008\n",
      "   macro avg       0.91      0.91      0.91      2008\n",
      "weighted avg       0.91      0.91      0.91      2008\n",
      "\n",
      "\n",
      "\n"
     ]
    }
   ],
   "source": [
    "a.fit(x_train,y_train)\n",
    "a.score(x_train,y_train)\n",
    "predm=a.predict(x_test)\n",
    "print('Accuracy Score of', a, 'is: ')\n",
    "print(accuracy_score(y_test,predm)*100)\n",
    "print('\\n')\n",
    "print('confusion_matrix of', a, 'is: ')\n",
    "print(confusion_matrix(y_test,predm))\n",
    "print('\\n')\n",
    "print('classification_report of', a, 'is: ')      \n",
    "print(classification_report(y_test,predm))\n",
    "print('\\n')"
   ]
  },
  {
   "cell_type": "code",
   "execution_count": 87,
   "metadata": {},
   "outputs": [
    {
     "name": "stdout",
     "output_type": "stream",
     "text": [
      "The cross validation score of RandomForestClassifier() is: 0.698406374501992\n"
     ]
    }
   ],
   "source": [
    "from sklearn.model_selection import cross_val_score\n",
    "cv = cross_val_score(a, x, y, cv=5).mean()\n",
    "print(\"The cross validation score of\", a,\"is:\", cv)"
   ]
  },
  {
   "cell_type": "markdown",
   "metadata": {},
   "source": [
    "From the above algorithms, we can say that the RandomForestClassifier is working well by giving an accuracy of 91.13% and cross validation score of 69.84%. Now we will improve accuracy by Hypereparameter tuning."
   ]
  },
  {
   "cell_type": "markdown",
   "metadata": {},
   "source": [
    "## Hyperparameter tuning"
   ]
  },
  {
   "cell_type": "code",
   "execution_count": 88,
   "metadata": {},
   "outputs": [],
   "source": [
    "from sklearn.model_selection import GridSearchCV"
   ]
  },
  {
   "cell_type": "code",
   "execution_count": 89,
   "metadata": {},
   "outputs": [
    {
     "name": "stdout",
     "output_type": "stream",
     "text": [
      "{'criterion': 'entropy', 'n_estimators': 1000}\n",
      "0.8911843499137104\n"
     ]
    }
   ],
   "source": [
    "rfc=RandomForestClassifier(random_state=193)   \n",
    "parameters={'n_estimators':[10,50,100,500,1000,1200],'criterion' :['gini', 'entropy']}\n",
    "grid=GridSearchCV(rfc,parameters,cv=5,scoring='accuracy')\n",
    "grid.fit(x_train,y_train)\n",
    "print(grid.best_params_)   \n",
    "print(grid.best_score_) "
   ]
  },
  {
   "cell_type": "code",
   "execution_count": 90,
   "metadata": {},
   "outputs": [
    {
     "name": "stdout",
     "output_type": "stream",
     "text": [
      "Accuracy score:  91.53386454183267\n",
      "Cross validation score:  70.97609561752988\n"
     ]
    }
   ],
   "source": [
    "# Using the best parameters obtained\n",
    "RF=RandomForestClassifier(random_state=193,criterion='entropy',n_estimators=1000)\n",
    "RF.fit(x_train,y_train)\n",
    "pred=RF.predict(x_test)\n",
    "print('Accuracy score: ',accuracy_score(y_test,pred)*100)\n",
    "print('Cross validation score: ',cross_val_score(RF,x,y,cv=5,scoring='accuracy').mean()*100)"
   ]
  },
  {
   "cell_type": "markdown",
   "metadata": {},
   "source": [
    "After hyperparameter tunning the accuracy score is slightly increase i.e, 91.13% to 91.53% with cross validation 69.84% to 70.97%"
   ]
  },
  {
   "cell_type": "markdown",
   "metadata": {},
   "source": [
    "## AUC-ROC"
   ]
  },
  {
   "cell_type": "code",
   "execution_count": 91,
   "metadata": {},
   "outputs": [],
   "source": [
    "from sklearn.metrics import roc_curve, roc_auc_score\n",
    "y_pred_prob = RF.predict_proba(x_test)[:,1]"
   ]
  },
  {
   "cell_type": "code",
   "execution_count": 92,
   "metadata": {},
   "outputs": [],
   "source": [
    "fpr, tpr, threshold = roc_curve(y_test, y_pred_prob)"
   ]
  },
  {
   "cell_type": "code",
   "execution_count": 93,
   "metadata": {},
   "outputs": [
    {
     "data": {
      "image/png": "[encoded data removed]",
      "text/plain": [
       "<Figure size 432x288 with 1 Axes>"
      ]
     },
     "metadata": {
      "needs_background": "light"
     },
     "output_type": "display_data"
    }
   ],
   "source": [
    "plt.plot([0,1], [0,1], 'k--')\n",
    "plt.plot(fpr, tpr, label='RandomForestClassifier')\n",
    "plt.xlabel('False Positive Rate')\n",
    "plt.ylabel('True Positive Rate')\n",
    "plt.show()"
   ]
  },
  {
   "cell_type": "markdown",
   "metadata": {},
   "source": [
    "as we see the graph is little far from 1 as our score is less than 1."
   ]
  },
  {
   "cell_type": "code",
   "execution_count": 94,
   "metadata": {},
   "outputs": [
    {
     "name": "stdout",
     "output_type": "stream",
     "text": [
      "0.9153045797073844\n"
     ]
    }
   ],
   "source": [
    "auc_score = roc_auc_score(y_test, pred)\n",
    "print(auc_score)"
   ]
  },
  {
   "cell_type": "markdown",
   "metadata": {},
   "source": [
    "auc score is almost similar to the accuracy score as its 91.53%"
   ]
  },
  {
   "cell_type": "markdown",
   "metadata": {},
   "source": [
    "## Saving the model"
   ]
  },
  {
   "cell_type": "code",
   "execution_count": 95,
   "metadata": {},
   "outputs": [
    {
     "data": {
      "text/plain": [
       "['Rainfall_Prediction.pkl']"
      ]
     },
     "execution_count": 95,
     "metadata": {},
     "output_type": "execute_result"
    }
   ],
   "source": [
    "import joblib\n",
    "joblib.dump(RF, 'Rainfall_Prediction.pkl')"
   ]
  },
  {
   "cell_type": "code",
   "execution_count": null,
   "metadata": {},
   "outputs": [],
   "source": []
  }
 ],
 "metadata": {
  "kernelspec": {
   "display_name": "Python 3",
   "language": "python",
   "name": "python3"
  },
  "language_info": {
   "codemirror_mode": {
    "name": "ipython",
    "version": 3
   },
   "file_extension": ".py",
   "mimetype": "text/x-python",
   "name": "python",
   "nbconvert_exporter": "python",
   "pygments_lexer": "ipython3",
   "version": "3.7.6"
  }
 },
 "nbformat": 4,
 "nbformat_minor": 4
}
