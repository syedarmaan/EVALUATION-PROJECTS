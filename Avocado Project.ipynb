{
 "cells": [
  {
   "cell_type": "markdown",
   "metadata": {},
   "source": [
    "## Import Libraries"
   ]
  },
  {
   "cell_type": "code",
   "execution_count": 1,
   "metadata": {},
   "outputs": [],
   "source": [
    "import numpy as np\n",
    "import pandas as pd\n",
    "import matplotlib.pyplot as plt\n",
    "%matplotlib inline\n",
    "import seaborn as sns\n",
    "import warnings\n",
    "warnings.filterwarnings('ignore')"
   ]
  },
  {
   "cell_type": "code",
   "execution_count": 2,
   "metadata": {},
   "outputs": [
    {
     "data": {
      "text/html": [
       "<div>\n",
       "<style scoped>\n",
       "    .dataframe tbody tr th:only-of-type {\n",
       "        vertical-align: middle;\n",
       "    }\n",
       "\n",
       "    .dataframe tbody tr th {\n",
       "        vertical-align: top;\n",
       "    }\n",
       "\n",
       "    .dataframe thead th {\n",
       "        text-align: right;\n",
       "    }\n",
       "</style>\n",
       "<table border=\"1\" class=\"dataframe\">\n",
       "  <thead>\n",
       "    <tr style=\"text-align: right;\">\n",
       "      <th></th>\n",
       "      <th>Unnamed: 0</th>\n",
       "      <th>Date</th>\n",
       "      <th>AveragePrice</th>\n",
       "      <th>Total Volume</th>\n",
       "      <th>4046</th>\n",
       "      <th>4225</th>\n",
       "      <th>4770</th>\n",
       "      <th>Total Bags</th>\n",
       "      <th>Small Bags</th>\n",
       "      <th>Large Bags</th>\n",
       "      <th>XLarge Bags</th>\n",
       "      <th>type</th>\n",
       "      <th>year</th>\n",
       "      <th>region</th>\n",
       "    </tr>\n",
       "  </thead>\n",
       "  <tbody>\n",
       "    <tr>\n",
       "      <th>0</th>\n",
       "      <td>0</td>\n",
       "      <td>2015-12-27</td>\n",
       "      <td>1.33</td>\n",
       "      <td>64236.62</td>\n",
       "      <td>1036.74</td>\n",
       "      <td>54454.85</td>\n",
       "      <td>48.16</td>\n",
       "      <td>8696.87</td>\n",
       "      <td>8603.62</td>\n",
       "      <td>93.25</td>\n",
       "      <td>0.0</td>\n",
       "      <td>conventional</td>\n",
       "      <td>2015</td>\n",
       "      <td>Albany</td>\n",
       "    </tr>\n",
       "    <tr>\n",
       "      <th>1</th>\n",
       "      <td>1</td>\n",
       "      <td>2015-12-20</td>\n",
       "      <td>1.35</td>\n",
       "      <td>54876.98</td>\n",
       "      <td>674.28</td>\n",
       "      <td>44638.81</td>\n",
       "      <td>58.33</td>\n",
       "      <td>9505.56</td>\n",
       "      <td>9408.07</td>\n",
       "      <td>97.49</td>\n",
       "      <td>0.0</td>\n",
       "      <td>conventional</td>\n",
       "      <td>2015</td>\n",
       "      <td>Albany</td>\n",
       "    </tr>\n",
       "    <tr>\n",
       "      <th>2</th>\n",
       "      <td>2</td>\n",
       "      <td>2015-12-13</td>\n",
       "      <td>0.93</td>\n",
       "      <td>118220.22</td>\n",
       "      <td>794.70</td>\n",
       "      <td>109149.67</td>\n",
       "      <td>130.50</td>\n",
       "      <td>8145.35</td>\n",
       "      <td>8042.21</td>\n",
       "      <td>103.14</td>\n",
       "      <td>0.0</td>\n",
       "      <td>conventional</td>\n",
       "      <td>2015</td>\n",
       "      <td>Albany</td>\n",
       "    </tr>\n",
       "    <tr>\n",
       "      <th>3</th>\n",
       "      <td>3</td>\n",
       "      <td>2015-12-06</td>\n",
       "      <td>1.08</td>\n",
       "      <td>78992.15</td>\n",
       "      <td>1132.00</td>\n",
       "      <td>71976.41</td>\n",
       "      <td>72.58</td>\n",
       "      <td>5811.16</td>\n",
       "      <td>5677.40</td>\n",
       "      <td>133.76</td>\n",
       "      <td>0.0</td>\n",
       "      <td>conventional</td>\n",
       "      <td>2015</td>\n",
       "      <td>Albany</td>\n",
       "    </tr>\n",
       "    <tr>\n",
       "      <th>4</th>\n",
       "      <td>4</td>\n",
       "      <td>2015-11-29</td>\n",
       "      <td>1.28</td>\n",
       "      <td>51039.60</td>\n",
       "      <td>941.48</td>\n",
       "      <td>43838.39</td>\n",
       "      <td>75.78</td>\n",
       "      <td>6183.95</td>\n",
       "      <td>5986.26</td>\n",
       "      <td>197.69</td>\n",
       "      <td>0.0</td>\n",
       "      <td>conventional</td>\n",
       "      <td>2015</td>\n",
       "      <td>Albany</td>\n",
       "    </tr>\n",
       "  </tbody>\n",
       "</table>\n",
       "</div>"
      ],
      "text/plain": [
       "   Unnamed: 0        Date  AveragePrice  Total Volume     4046       4225  \\\n",
       "0           0  2015-12-27          1.33      64236.62  1036.74   54454.85   \n",
       "1           1  2015-12-20          1.35      54876.98   674.28   44638.81   \n",
       "2           2  2015-12-13          0.93     118220.22   794.70  109149.67   \n",
       "3           3  2015-12-06          1.08      78992.15  1132.00   71976.41   \n",
       "4           4  2015-11-29          1.28      51039.60   941.48   43838.39   \n",
       "\n",
       "     4770  Total Bags  Small Bags  Large Bags  XLarge Bags          type  \\\n",
       "0   48.16     8696.87     8603.62       93.25          0.0  conventional   \n",
       "1   58.33     9505.56     9408.07       97.49          0.0  conventional   \n",
       "2  130.50     8145.35     8042.21      103.14          0.0  conventional   \n",
       "3   72.58     5811.16     5677.40      133.76          0.0  conventional   \n",
       "4   75.78     6183.95     5986.26      197.69          0.0  conventional   \n",
       "\n",
       "   year  region  \n",
       "0  2015  Albany  \n",
       "1  2015  Albany  \n",
       "2  2015  Albany  \n",
       "3  2015  Albany  \n",
       "4  2015  Albany  "
      ]
     },
     "execution_count": 2,
     "metadata": {},
     "output_type": "execute_result"
    }
   ],
   "source": [
    "# Loading the dataset\n",
    "data = pd.read_csv('avocado.csv')\n",
    "\n",
    "# Top 5 rows of dataset\n",
    "data.head()"
   ]
  },
  {
   "cell_type": "code",
   "execution_count": 3,
   "metadata": {},
   "outputs": [],
   "source": [
    "# Delete unwanted column i.e. \"Unnamed: 0\"\n",
    "data.drop(data.columns[0], axis=1, inplace=True)"
   ]
  },
  {
   "cell_type": "code",
   "execution_count": 4,
   "metadata": {},
   "outputs": [
    {
     "data": {
      "text/html": [
       "<div>\n",
       "<style scoped>\n",
       "    .dataframe tbody tr th:only-of-type {\n",
       "        vertical-align: middle;\n",
       "    }\n",
       "\n",
       "    .dataframe tbody tr th {\n",
       "        vertical-align: top;\n",
       "    }\n",
       "\n",
       "    .dataframe thead th {\n",
       "        text-align: right;\n",
       "    }\n",
       "</style>\n",
       "<table border=\"1\" class=\"dataframe\">\n",
       "  <thead>\n",
       "    <tr style=\"text-align: right;\">\n",
       "      <th></th>\n",
       "      <th>Date</th>\n",
       "      <th>AveragePrice</th>\n",
       "      <th>Total Volume</th>\n",
       "      <th>4046</th>\n",
       "      <th>4225</th>\n",
       "      <th>4770</th>\n",
       "      <th>Total Bags</th>\n",
       "      <th>Small Bags</th>\n",
       "      <th>Large Bags</th>\n",
       "      <th>XLarge Bags</th>\n",
       "      <th>type</th>\n",
       "      <th>year</th>\n",
       "      <th>region</th>\n",
       "    </tr>\n",
       "  </thead>\n",
       "  <tbody>\n",
       "    <tr>\n",
       "      <th>0</th>\n",
       "      <td>2015-12-27</td>\n",
       "      <td>1.33</td>\n",
       "      <td>64236.62</td>\n",
       "      <td>1036.74</td>\n",
       "      <td>54454.85</td>\n",
       "      <td>48.16</td>\n",
       "      <td>8696.87</td>\n",
       "      <td>8603.62</td>\n",
       "      <td>93.25</td>\n",
       "      <td>0.0</td>\n",
       "      <td>conventional</td>\n",
       "      <td>2015</td>\n",
       "      <td>Albany</td>\n",
       "    </tr>\n",
       "    <tr>\n",
       "      <th>1</th>\n",
       "      <td>2015-12-20</td>\n",
       "      <td>1.35</td>\n",
       "      <td>54876.98</td>\n",
       "      <td>674.28</td>\n",
       "      <td>44638.81</td>\n",
       "      <td>58.33</td>\n",
       "      <td>9505.56</td>\n",
       "      <td>9408.07</td>\n",
       "      <td>97.49</td>\n",
       "      <td>0.0</td>\n",
       "      <td>conventional</td>\n",
       "      <td>2015</td>\n",
       "      <td>Albany</td>\n",
       "    </tr>\n",
       "    <tr>\n",
       "      <th>2</th>\n",
       "      <td>2015-12-13</td>\n",
       "      <td>0.93</td>\n",
       "      <td>118220.22</td>\n",
       "      <td>794.70</td>\n",
       "      <td>109149.67</td>\n",
       "      <td>130.50</td>\n",
       "      <td>8145.35</td>\n",
       "      <td>8042.21</td>\n",
       "      <td>103.14</td>\n",
       "      <td>0.0</td>\n",
       "      <td>conventional</td>\n",
       "      <td>2015</td>\n",
       "      <td>Albany</td>\n",
       "    </tr>\n",
       "    <tr>\n",
       "      <th>3</th>\n",
       "      <td>2015-12-06</td>\n",
       "      <td>1.08</td>\n",
       "      <td>78992.15</td>\n",
       "      <td>1132.00</td>\n",
       "      <td>71976.41</td>\n",
       "      <td>72.58</td>\n",
       "      <td>5811.16</td>\n",
       "      <td>5677.40</td>\n",
       "      <td>133.76</td>\n",
       "      <td>0.0</td>\n",
       "      <td>conventional</td>\n",
       "      <td>2015</td>\n",
       "      <td>Albany</td>\n",
       "    </tr>\n",
       "    <tr>\n",
       "      <th>4</th>\n",
       "      <td>2015-11-29</td>\n",
       "      <td>1.28</td>\n",
       "      <td>51039.60</td>\n",
       "      <td>941.48</td>\n",
       "      <td>43838.39</td>\n",
       "      <td>75.78</td>\n",
       "      <td>6183.95</td>\n",
       "      <td>5986.26</td>\n",
       "      <td>197.69</td>\n",
       "      <td>0.0</td>\n",
       "      <td>conventional</td>\n",
       "      <td>2015</td>\n",
       "      <td>Albany</td>\n",
       "    </tr>\n",
       "  </tbody>\n",
       "</table>\n",
       "</div>"
      ],
      "text/plain": [
       "         Date  AveragePrice  Total Volume     4046       4225    4770  \\\n",
       "0  2015-12-27          1.33      64236.62  1036.74   54454.85   48.16   \n",
       "1  2015-12-20          1.35      54876.98   674.28   44638.81   58.33   \n",
       "2  2015-12-13          0.93     118220.22   794.70  109149.67  130.50   \n",
       "3  2015-12-06          1.08      78992.15  1132.00   71976.41   72.58   \n",
       "4  2015-11-29          1.28      51039.60   941.48   43838.39   75.78   \n",
       "\n",
       "   Total Bags  Small Bags  Large Bags  XLarge Bags          type  year  region  \n",
       "0     8696.87     8603.62       93.25          0.0  conventional  2015  Albany  \n",
       "1     9505.56     9408.07       97.49          0.0  conventional  2015  Albany  \n",
       "2     8145.35     8042.21      103.14          0.0  conventional  2015  Albany  \n",
       "3     5811.16     5677.40      133.76          0.0  conventional  2015  Albany  \n",
       "4     6183.95     5986.26      197.69          0.0  conventional  2015  Albany  "
      ]
     },
     "execution_count": 4,
     "metadata": {},
     "output_type": "execute_result"
    }
   ],
   "source": [
    "data.head()"
   ]
  },
  {
   "cell_type": "code",
   "execution_count": 5,
   "metadata": {},
   "outputs": [
    {
     "data": {
      "text/plain": [
       "(18249, 13)"
      ]
     },
     "execution_count": 5,
     "metadata": {},
     "output_type": "execute_result"
    }
   ],
   "source": [
    "# Dimensions of the dataset\n",
    "data.shape"
   ]
  },
  {
   "cell_type": "code",
   "execution_count": 6,
   "metadata": {},
   "outputs": [
    {
     "data": {
      "text/plain": [
       "Index(['Date', 'AveragePrice', 'Total Volume', '4046', '4225', '4770',\n",
       "       'Total Bags', 'Small Bags', 'Large Bags', 'XLarge Bags', 'type', 'year',\n",
       "       'region'],\n",
       "      dtype='object')"
      ]
     },
     "execution_count": 6,
     "metadata": {},
     "output_type": "execute_result"
    }
   ],
   "source": [
    "# Columns of dataset\n",
    "data.columns"
   ]
  },
  {
   "cell_type": "code",
   "execution_count": 7,
   "metadata": {},
   "outputs": [
    {
     "name": "stdout",
     "output_type": "stream",
     "text": [
      "<class 'pandas.core.frame.DataFrame'>\n",
      "RangeIndex: 18249 entries, 0 to 18248\n",
      "Data columns (total 13 columns):\n",
      " #   Column        Non-Null Count  Dtype  \n",
      "---  ------        --------------  -----  \n",
      " 0   Date          18249 non-null  object \n",
      " 1   AveragePrice  18249 non-null  float64\n",
      " 2   Total Volume  18249 non-null  float64\n",
      " 3   4046          18249 non-null  float64\n",
      " 4   4225          18249 non-null  float64\n",
      " 5   4770          18249 non-null  float64\n",
      " 6   Total Bags    18249 non-null  float64\n",
      " 7   Small Bags    18249 non-null  float64\n",
      " 8   Large Bags    18249 non-null  float64\n",
      " 9   XLarge Bags   18249 non-null  float64\n",
      " 10  type          18249 non-null  object \n",
      " 11  year          18249 non-null  int64  \n",
      " 12  region        18249 non-null  object \n",
      "dtypes: float64(9), int64(1), object(3)\n",
      "memory usage: 1.8+ MB\n"
     ]
    }
   ],
   "source": [
    "# Datatypes of columns\n",
    "data.info()"
   ]
  },
  {
   "cell_type": "markdown",
   "metadata": {},
   "source": [
    "As there is a Date column available, we need to convert into datetime format."
   ]
  },
  {
   "cell_type": "code",
   "execution_count": 8,
   "metadata": {},
   "outputs": [],
   "source": [
    "# Convert the 'Date' column to datetime format\n",
    "data['Date'] = pd.to_datetime(data['Date'])"
   ]
  },
  {
   "cell_type": "code",
   "execution_count": 9,
   "metadata": {},
   "outputs": [
    {
     "name": "stdout",
     "output_type": "stream",
     "text": [
      "<class 'pandas.core.frame.DataFrame'>\n",
      "RangeIndex: 18249 entries, 0 to 18248\n",
      "Data columns (total 13 columns):\n",
      " #   Column        Non-Null Count  Dtype         \n",
      "---  ------        --------------  -----         \n",
      " 0   Date          18249 non-null  datetime64[ns]\n",
      " 1   AveragePrice  18249 non-null  float64       \n",
      " 2   Total Volume  18249 non-null  float64       \n",
      " 3   4046          18249 non-null  float64       \n",
      " 4   4225          18249 non-null  float64       \n",
      " 5   4770          18249 non-null  float64       \n",
      " 6   Total Bags    18249 non-null  float64       \n",
      " 7   Small Bags    18249 non-null  float64       \n",
      " 8   Large Bags    18249 non-null  float64       \n",
      " 9   XLarge Bags   18249 non-null  float64       \n",
      " 10  type          18249 non-null  object        \n",
      " 11  year          18249 non-null  int64         \n",
      " 12  region        18249 non-null  object        \n",
      "dtypes: datetime64[ns](1), float64(9), int64(1), object(2)\n",
      "memory usage: 1.8+ MB\n"
     ]
    }
   ],
   "source": [
    "data.info()"
   ]
  },
  {
   "cell_type": "markdown",
   "metadata": {},
   "source": [
    "The column Nos. 3, 4 and 5 are in numbers, it will create confusions at the of analysis, so we can rename the columns."
   ]
  },
  {
   "cell_type": "code",
   "execution_count": 10,
   "metadata": {},
   "outputs": [
    {
     "data": {
      "text/html": [
       "<div>\n",
       "<style scoped>\n",
       "    .dataframe tbody tr th:only-of-type {\n",
       "        vertical-align: middle;\n",
       "    }\n",
       "\n",
       "    .dataframe tbody tr th {\n",
       "        vertical-align: top;\n",
       "    }\n",
       "\n",
       "    .dataframe thead th {\n",
       "        text-align: right;\n",
       "    }\n",
       "</style>\n",
       "<table border=\"1\" class=\"dataframe\">\n",
       "  <thead>\n",
       "    <tr style=\"text-align: right;\">\n",
       "      <th></th>\n",
       "      <th>Date</th>\n",
       "      <th>AveragePrice</th>\n",
       "      <th>Total Avocados Sold</th>\n",
       "      <th>PLU 4046</th>\n",
       "      <th>PLU 4225</th>\n",
       "      <th>PLU 4770</th>\n",
       "      <th>Total Bags</th>\n",
       "      <th>Small Bags</th>\n",
       "      <th>Large Bags</th>\n",
       "      <th>XLarge Bags</th>\n",
       "      <th>type</th>\n",
       "      <th>year</th>\n",
       "      <th>region</th>\n",
       "    </tr>\n",
       "  </thead>\n",
       "  <tbody>\n",
       "    <tr>\n",
       "      <th>0</th>\n",
       "      <td>2015-12-27</td>\n",
       "      <td>1.33</td>\n",
       "      <td>64236.62</td>\n",
       "      <td>1036.74</td>\n",
       "      <td>54454.85</td>\n",
       "      <td>48.16</td>\n",
       "      <td>8696.87</td>\n",
       "      <td>8603.62</td>\n",
       "      <td>93.25</td>\n",
       "      <td>0.0</td>\n",
       "      <td>conventional</td>\n",
       "      <td>2015</td>\n",
       "      <td>Albany</td>\n",
       "    </tr>\n",
       "    <tr>\n",
       "      <th>1</th>\n",
       "      <td>2015-12-20</td>\n",
       "      <td>1.35</td>\n",
       "      <td>54876.98</td>\n",
       "      <td>674.28</td>\n",
       "      <td>44638.81</td>\n",
       "      <td>58.33</td>\n",
       "      <td>9505.56</td>\n",
       "      <td>9408.07</td>\n",
       "      <td>97.49</td>\n",
       "      <td>0.0</td>\n",
       "      <td>conventional</td>\n",
       "      <td>2015</td>\n",
       "      <td>Albany</td>\n",
       "    </tr>\n",
       "    <tr>\n",
       "      <th>2</th>\n",
       "      <td>2015-12-13</td>\n",
       "      <td>0.93</td>\n",
       "      <td>118220.22</td>\n",
       "      <td>794.70</td>\n",
       "      <td>109149.67</td>\n",
       "      <td>130.50</td>\n",
       "      <td>8145.35</td>\n",
       "      <td>8042.21</td>\n",
       "      <td>103.14</td>\n",
       "      <td>0.0</td>\n",
       "      <td>conventional</td>\n",
       "      <td>2015</td>\n",
       "      <td>Albany</td>\n",
       "    </tr>\n",
       "    <tr>\n",
       "      <th>3</th>\n",
       "      <td>2015-12-06</td>\n",
       "      <td>1.08</td>\n",
       "      <td>78992.15</td>\n",
       "      <td>1132.00</td>\n",
       "      <td>71976.41</td>\n",
       "      <td>72.58</td>\n",
       "      <td>5811.16</td>\n",
       "      <td>5677.40</td>\n",
       "      <td>133.76</td>\n",
       "      <td>0.0</td>\n",
       "      <td>conventional</td>\n",
       "      <td>2015</td>\n",
       "      <td>Albany</td>\n",
       "    </tr>\n",
       "    <tr>\n",
       "      <th>4</th>\n",
       "      <td>2015-11-29</td>\n",
       "      <td>1.28</td>\n",
       "      <td>51039.60</td>\n",
       "      <td>941.48</td>\n",
       "      <td>43838.39</td>\n",
       "      <td>75.78</td>\n",
       "      <td>6183.95</td>\n",
       "      <td>5986.26</td>\n",
       "      <td>197.69</td>\n",
       "      <td>0.0</td>\n",
       "      <td>conventional</td>\n",
       "      <td>2015</td>\n",
       "      <td>Albany</td>\n",
       "    </tr>\n",
       "  </tbody>\n",
       "</table>\n",
       "</div>"
      ],
      "text/plain": [
       "        Date  AveragePrice  Total Avocados Sold  PLU 4046   PLU 4225  \\\n",
       "0 2015-12-27          1.33             64236.62   1036.74   54454.85   \n",
       "1 2015-12-20          1.35             54876.98    674.28   44638.81   \n",
       "2 2015-12-13          0.93            118220.22    794.70  109149.67   \n",
       "3 2015-12-06          1.08             78992.15   1132.00   71976.41   \n",
       "4 2015-11-29          1.28             51039.60    941.48   43838.39   \n",
       "\n",
       "   PLU 4770  Total Bags  Small Bags  Large Bags  XLarge Bags          type  \\\n",
       "0     48.16     8696.87     8603.62       93.25          0.0  conventional   \n",
       "1     58.33     9505.56     9408.07       97.49          0.0  conventional   \n",
       "2    130.50     8145.35     8042.21      103.14          0.0  conventional   \n",
       "3     72.58     5811.16     5677.40      133.76          0.0  conventional   \n",
       "4     75.78     6183.95     5986.26      197.69          0.0  conventional   \n",
       "\n",
       "   year  region  \n",
       "0  2015  Albany  \n",
       "1  2015  Albany  \n",
       "2  2015  Albany  \n",
       "3  2015  Albany  \n",
       "4  2015  Albany  "
      ]
     },
     "execution_count": 10,
     "metadata": {},
     "output_type": "execute_result"
    }
   ],
   "source": [
    "data = data.rename(columns={'4046':'PLU 4046', '4225':'PLU 4225', '4770':'PLU 4770', 'Total Volume':'Total Avocados Sold'})\n",
    "data.head()"
   ]
  },
  {
   "cell_type": "code",
   "execution_count": 11,
   "metadata": {},
   "outputs": [
    {
     "data": {
      "text/plain": [
       "Date                   0\n",
       "AveragePrice           0\n",
       "Total Avocados Sold    0\n",
       "PLU 4046               0\n",
       "PLU 4225               0\n",
       "PLU 4770               0\n",
       "Total Bags             0\n",
       "Small Bags             0\n",
       "Large Bags             0\n",
       "XLarge Bags            0\n",
       "type                   0\n",
       "year                   0\n",
       "region                 0\n",
       "dtype: int64"
      ]
     },
     "execution_count": 11,
     "metadata": {},
     "output_type": "execute_result"
    }
   ],
   "source": [
    "# Checking the null values in the dataset\n",
    "data.isnull().sum()"
   ]
  },
  {
   "cell_type": "markdown",
   "metadata": {},
   "source": [
    "There are no missing values in the dataset."
   ]
  },
  {
   "cell_type": "markdown",
   "metadata": {},
   "source": [
    "## Handling the DataFrame"
   ]
  },
  {
   "cell_type": "markdown",
   "metadata": {},
   "source": [
    "We need to analyse the dataset according to days and months So, we can split by converting into dataframes separately and concatenating together after splitting."
   ]
  },
  {
   "cell_type": "code",
   "execution_count": 12,
   "metadata": {},
   "outputs": [
    {
     "data": {
      "text/html": [
       "<div>\n",
       "<style scoped>\n",
       "    .dataframe tbody tr th:only-of-type {\n",
       "        vertical-align: middle;\n",
       "    }\n",
       "\n",
       "    .dataframe tbody tr th {\n",
       "        vertical-align: top;\n",
       "    }\n",
       "\n",
       "    .dataframe thead th {\n",
       "        text-align: right;\n",
       "    }\n",
       "</style>\n",
       "<table border=\"1\" class=\"dataframe\">\n",
       "  <thead>\n",
       "    <tr style=\"text-align: right;\">\n",
       "      <th></th>\n",
       "      <th>AveragePrice</th>\n",
       "      <th>Total Avocados Sold</th>\n",
       "      <th>PLU 4046</th>\n",
       "      <th>PLU 4225</th>\n",
       "      <th>PLU 4770</th>\n",
       "      <th>Total Bags</th>\n",
       "      <th>Small Bags</th>\n",
       "      <th>Large Bags</th>\n",
       "      <th>XLarge Bags</th>\n",
       "      <th>year</th>\n",
       "      <th>region</th>\n",
       "    </tr>\n",
       "  </thead>\n",
       "  <tbody>\n",
       "    <tr>\n",
       "      <th>0</th>\n",
       "      <td>1.33</td>\n",
       "      <td>64236.62</td>\n",
       "      <td>1036.74</td>\n",
       "      <td>54454.85</td>\n",
       "      <td>48.16</td>\n",
       "      <td>8696.87</td>\n",
       "      <td>8603.62</td>\n",
       "      <td>93.25</td>\n",
       "      <td>0.0</td>\n",
       "      <td>2015</td>\n",
       "      <td>Albany</td>\n",
       "    </tr>\n",
       "    <tr>\n",
       "      <th>1</th>\n",
       "      <td>1.35</td>\n",
       "      <td>54876.98</td>\n",
       "      <td>674.28</td>\n",
       "      <td>44638.81</td>\n",
       "      <td>58.33</td>\n",
       "      <td>9505.56</td>\n",
       "      <td>9408.07</td>\n",
       "      <td>97.49</td>\n",
       "      <td>0.0</td>\n",
       "      <td>2015</td>\n",
       "      <td>Albany</td>\n",
       "    </tr>\n",
       "    <tr>\n",
       "      <th>2</th>\n",
       "      <td>0.93</td>\n",
       "      <td>118220.22</td>\n",
       "      <td>794.70</td>\n",
       "      <td>109149.67</td>\n",
       "      <td>130.50</td>\n",
       "      <td>8145.35</td>\n",
       "      <td>8042.21</td>\n",
       "      <td>103.14</td>\n",
       "      <td>0.0</td>\n",
       "      <td>2015</td>\n",
       "      <td>Albany</td>\n",
       "    </tr>\n",
       "    <tr>\n",
       "      <th>3</th>\n",
       "      <td>1.08</td>\n",
       "      <td>78992.15</td>\n",
       "      <td>1132.00</td>\n",
       "      <td>71976.41</td>\n",
       "      <td>72.58</td>\n",
       "      <td>5811.16</td>\n",
       "      <td>5677.40</td>\n",
       "      <td>133.76</td>\n",
       "      <td>0.0</td>\n",
       "      <td>2015</td>\n",
       "      <td>Albany</td>\n",
       "    </tr>\n",
       "    <tr>\n",
       "      <th>4</th>\n",
       "      <td>1.28</td>\n",
       "      <td>51039.60</td>\n",
       "      <td>941.48</td>\n",
       "      <td>43838.39</td>\n",
       "      <td>75.78</td>\n",
       "      <td>6183.95</td>\n",
       "      <td>5986.26</td>\n",
       "      <td>197.69</td>\n",
       "      <td>0.0</td>\n",
       "      <td>2015</td>\n",
       "      <td>Albany</td>\n",
       "    </tr>\n",
       "  </tbody>\n",
       "</table>\n",
       "</div>"
      ],
      "text/plain": [
       "   AveragePrice  Total Avocados Sold  PLU 4046   PLU 4225  PLU 4770  \\\n",
       "0          1.33             64236.62   1036.74   54454.85     48.16   \n",
       "1          1.35             54876.98    674.28   44638.81     58.33   \n",
       "2          0.93            118220.22    794.70  109149.67    130.50   \n",
       "3          1.08             78992.15   1132.00   71976.41     72.58   \n",
       "4          1.28             51039.60    941.48   43838.39     75.78   \n",
       "\n",
       "   Total Bags  Small Bags  Large Bags  XLarge Bags  year  region  \n",
       "0     8696.87     8603.62       93.25          0.0  2015  Albany  \n",
       "1     9505.56     9408.07       97.49          0.0  2015  Albany  \n",
       "2     8145.35     8042.21      103.14          0.0  2015  Albany  \n",
       "3     5811.16     5677.40      133.76          0.0  2015  Albany  \n",
       "4     6183.95     5986.26      197.69          0.0  2015  Albany  "
      ]
     },
     "execution_count": 12,
     "metadata": {},
     "output_type": "execute_result"
    }
   ],
   "source": [
    "df = pd.DataFrame()\n",
    "df['month'] = data['Date'].dt.month_name()\n",
    "df['day'] = data['Date'].dt.day_name()\n",
    "data = data.drop(columns=['Date', 'type'], axis=1)\n",
    "data.head()"
   ]
  },
  {
   "cell_type": "code",
   "execution_count": 13,
   "metadata": {},
   "outputs": [
    {
     "data": {
      "text/html": [
       "<div>\n",
       "<style scoped>\n",
       "    .dataframe tbody tr th:only-of-type {\n",
       "        vertical-align: middle;\n",
       "    }\n",
       "\n",
       "    .dataframe tbody tr th {\n",
       "        vertical-align: top;\n",
       "    }\n",
       "\n",
       "    .dataframe thead th {\n",
       "        text-align: right;\n",
       "    }\n",
       "</style>\n",
       "<table border=\"1\" class=\"dataframe\">\n",
       "  <thead>\n",
       "    <tr style=\"text-align: right;\">\n",
       "      <th></th>\n",
       "      <th>month</th>\n",
       "      <th>day</th>\n",
       "      <th>AveragePrice</th>\n",
       "      <th>Total Avocados Sold</th>\n",
       "      <th>PLU 4046</th>\n",
       "      <th>PLU 4225</th>\n",
       "      <th>PLU 4770</th>\n",
       "      <th>Total Bags</th>\n",
       "      <th>Small Bags</th>\n",
       "      <th>Large Bags</th>\n",
       "      <th>XLarge Bags</th>\n",
       "      <th>year</th>\n",
       "      <th>region</th>\n",
       "    </tr>\n",
       "  </thead>\n",
       "  <tbody>\n",
       "    <tr>\n",
       "      <th>0</th>\n",
       "      <td>December</td>\n",
       "      <td>Sunday</td>\n",
       "      <td>1.33</td>\n",
       "      <td>64236.62</td>\n",
       "      <td>1036.74</td>\n",
       "      <td>54454.85</td>\n",
       "      <td>48.16</td>\n",
       "      <td>8696.87</td>\n",
       "      <td>8603.62</td>\n",
       "      <td>93.25</td>\n",
       "      <td>0.0</td>\n",
       "      <td>2015</td>\n",
       "      <td>Albany</td>\n",
       "    </tr>\n",
       "    <tr>\n",
       "      <th>1</th>\n",
       "      <td>December</td>\n",
       "      <td>Sunday</td>\n",
       "      <td>1.35</td>\n",
       "      <td>54876.98</td>\n",
       "      <td>674.28</td>\n",
       "      <td>44638.81</td>\n",
       "      <td>58.33</td>\n",
       "      <td>9505.56</td>\n",
       "      <td>9408.07</td>\n",
       "      <td>97.49</td>\n",
       "      <td>0.0</td>\n",
       "      <td>2015</td>\n",
       "      <td>Albany</td>\n",
       "    </tr>\n",
       "    <tr>\n",
       "      <th>2</th>\n",
       "      <td>December</td>\n",
       "      <td>Sunday</td>\n",
       "      <td>0.93</td>\n",
       "      <td>118220.22</td>\n",
       "      <td>794.70</td>\n",
       "      <td>109149.67</td>\n",
       "      <td>130.50</td>\n",
       "      <td>8145.35</td>\n",
       "      <td>8042.21</td>\n",
       "      <td>103.14</td>\n",
       "      <td>0.0</td>\n",
       "      <td>2015</td>\n",
       "      <td>Albany</td>\n",
       "    </tr>\n",
       "    <tr>\n",
       "      <th>3</th>\n",
       "      <td>December</td>\n",
       "      <td>Sunday</td>\n",
       "      <td>1.08</td>\n",
       "      <td>78992.15</td>\n",
       "      <td>1132.00</td>\n",
       "      <td>71976.41</td>\n",
       "      <td>72.58</td>\n",
       "      <td>5811.16</td>\n",
       "      <td>5677.40</td>\n",
       "      <td>133.76</td>\n",
       "      <td>0.0</td>\n",
       "      <td>2015</td>\n",
       "      <td>Albany</td>\n",
       "    </tr>\n",
       "    <tr>\n",
       "      <th>4</th>\n",
       "      <td>November</td>\n",
       "      <td>Sunday</td>\n",
       "      <td>1.28</td>\n",
       "      <td>51039.60</td>\n",
       "      <td>941.48</td>\n",
       "      <td>43838.39</td>\n",
       "      <td>75.78</td>\n",
       "      <td>6183.95</td>\n",
       "      <td>5986.26</td>\n",
       "      <td>197.69</td>\n",
       "      <td>0.0</td>\n",
       "      <td>2015</td>\n",
       "      <td>Albany</td>\n",
       "    </tr>\n",
       "  </tbody>\n",
       "</table>\n",
       "</div>"
      ],
      "text/plain": [
       "      month     day  AveragePrice  Total Avocados Sold  PLU 4046   PLU 4225  \\\n",
       "0  December  Sunday          1.33             64236.62   1036.74   54454.85   \n",
       "1  December  Sunday          1.35             54876.98    674.28   44638.81   \n",
       "2  December  Sunday          0.93            118220.22    794.70  109149.67   \n",
       "3  December  Sunday          1.08             78992.15   1132.00   71976.41   \n",
       "4  November  Sunday          1.28             51039.60    941.48   43838.39   \n",
       "\n",
       "   PLU 4770  Total Bags  Small Bags  Large Bags  XLarge Bags  year  region  \n",
       "0     48.16     8696.87     8603.62       93.25          0.0  2015  Albany  \n",
       "1     58.33     9505.56     9408.07       97.49          0.0  2015  Albany  \n",
       "2    130.50     8145.35     8042.21      103.14          0.0  2015  Albany  \n",
       "3     72.58     5811.16     5677.40      133.76          0.0  2015  Albany  \n",
       "4     75.78     6183.95     5986.26      197.69          0.0  2015  Albany  "
      ]
     },
     "execution_count": 13,
     "metadata": {},
     "output_type": "execute_result"
    }
   ],
   "source": [
    "# Concating df and data together\n",
    "data = pd.concat([df, data], axis=1)\n",
    "data.head()"
   ]
  },
  {
   "cell_type": "markdown",
   "metadata": {},
   "source": [
    "## Exploratory Data Analysis (EDA)"
   ]
  },
  {
   "cell_type": "markdown",
   "metadata": {},
   "source": [
    "### Univariate Analysis"
   ]
  },
  {
   "cell_type": "code",
   "execution_count": 14,
   "metadata": {},
   "outputs": [
    {
     "name": "stdout",
     "output_type": "stream",
     "text": [
      "2017    5722\n",
      "2016    5616\n",
      "2015    5615\n",
      "2018    1296\n",
      "Name: year, dtype: int64\n"
     ]
    },
    {
     "data": {
      "image/png": "[encoded data removed]",
      "text/plain": [
       "<Figure size 432x288 with 1 Axes>"
      ]
     },
     "metadata": {
      "needs_background": "light"
     },
     "output_type": "display_data"
    }
   ],
   "source": [
    "# Checking out total avocado in each year\n",
    "print(data['year'].value_counts())\n",
    "sns.countplot(x='year', data=data)\n",
    "plt.show()"
   ]
  },
  {
   "cell_type": "markdown",
   "metadata": {},
   "source": [
    "We can see that 5722 records of avocado data are in the year 2017 whereas 1296 records of avocado data in the year 2018.\n",
    "We observe the records of avocado in the years 2015 and 2016 respectively is nearly same as the year of 2017. "
   ]
  },
  {
   "cell_type": "code",
   "execution_count": 15,
   "metadata": {},
   "outputs": [
    {
     "data": {
      "image/png": "[encoded data removed]",
      "text/plain": [
       "<Figure size 432x288 with 1 Axes>"
      ]
     },
     "metadata": {},
     "output_type": "display_data"
    }
   ],
   "source": [
    "# Checking the distribution of price using violin plot\n",
    "sns.set_style('white')\n",
    "sns.violinplot(data['AveragePrice'])\n",
    "plt.show()"
   ]
  },
  {
   "cell_type": "code",
   "execution_count": 16,
   "metadata": {},
   "outputs": [
    {
     "data": {
      "image/png": "[encoded data removed]",
      "text/plain": [
       "<Figure size 432x288 with 1 Axes>"
      ]
     },
     "metadata": {},
     "output_type": "display_data"
    }
   ],
   "source": [
    "# Checking the distribution of total bags using violin plot\n",
    "sns.violinplot(data['Total Bags'])\n",
    "plt.show()"
   ]
  },
  {
   "cell_type": "code",
   "execution_count": 17,
   "metadata": {},
   "outputs": [
    {
     "data": {
      "image/png": "[encoded data removed]",
      "text/plain": [
       "<Figure size 432x288 with 1 Axes>"
      ]
     },
     "metadata": {},
     "output_type": "display_data"
    }
   ],
   "source": [
    "# Checking the distribution of PLU 4046 using violin plot\n",
    "sns.violinplot(data['PLU 4046'])\n",
    "plt.show()"
   ]
  },
  {
   "cell_type": "markdown",
   "metadata": {},
   "source": [
    "### Bivariate Analysis"
   ]
  },
  {
   "cell_type": "code",
   "execution_count": 18,
   "metadata": {},
   "outputs": [
    {
     "data": {
      "text/plain": [
       "<matplotlib.axes._subplots.AxesSubplot at 0x11503be7188>"
      ]
     },
     "execution_count": 18,
     "metadata": {},
     "output_type": "execute_result"
    },
    {
     "data": {
      "image/png": "[encoded data removed]",
      "text/plain": [
       "<Figure size 1440x1440 with 6 Axes>"
      ]
     },
     "metadata": {},
     "output_type": "display_data"
    }
   ],
   "source": [
    "# Plotting year with different data parameters\n",
    "fig, axes = plt.subplots(3, 2, figsize=(20, 20)) \n",
    "\n",
    "# Adding a centered title to the figure using suptitle\n",
    "fig.suptitle('Avacado Analysis Based on year', fontsize=25)\n",
    "sns.set_style('whitegrid')\n",
    "\n",
    "# Plotting Year vs. Average price relationship using bar plot\n",
    "sns.barplot(ax=axes[0, 0], x='year', y='AveragePrice', data=data, palette=\"Set1\")\n",
    "\n",
    "# Plotting Year vs. Total avocados sold relationship using bar plot\n",
    "sns.barplot(ax=axes[0, 1], x='year', y='Total Avocados Sold', data=data, palette=\"Set2\")\n",
    "\n",
    "# Plotting Year vs. PLU 4046 relationship using bar plot\n",
    "sns.barplot(ax=axes[1, 0], x='year', y='PLU 4046', data=data, palette=\"rainbow\")\n",
    "\n",
    "# Plotting Year vs. PLU 4225 relationship using bar plot\n",
    "sns.barplot(ax=axes[1, 1], x='year', y='PLU 4225', data=data, palette=\"Wistia\")\n",
    "\n",
    "# Plotting Year vs. PLU 4770 relationship using bar plot\n",
    "sns.barplot(ax=axes[2, 0], x='year', y='PLU 4770', data=data, palette=\"autumn\")\n",
    "\n",
    "# Plotting Year vs. Total Bags relationship using bar plot\n",
    "sns.barplot(ax=axes[2, 1], x='year', y='Total Bags', data=data, palette=\"rainbow\")"
   ]
  },
  {
   "cell_type": "markdown",
   "metadata": {},
   "source": [
    "Observations:\n",
    "\n",
    "(1) Maximum average price of avocado is in 2017 and minimum average price in 2016. whereas average price of avocado is 2015 more compare to 2018.\n",
    "\n",
    "(2) Maximum avocados were sold in 2018 and minimum No. of avocados were sold in 2015. whereas No. of avocados were sold in 2016 and 2017 were nearly same.\n",
    "\n",
    "(3) \n",
    "(i)In 2018, PLU 4046 were sold more compared to 2015. \n",
    "(ii) In 2015, PLU 4046 were sold more compared to 2017. \n",
    "(iii) In 2017, PLU 4046 were sold more compared to 2016.\n",
    "as result we can see In 2018, were sold maximum as compared to 2015, 2016 and 2018. \n",
    "Similarly In 2016, were sold minimum compared to 2015, 2017 and 2018.\n",
    "\n",
    "(4) \n",
    "(i)In 2018, PLU 4225 were sold maximum compared to 2015, 2016 and 2017. \n",
    "(ii) In 2017, were sold minimum compared to 2015, 2016 and 2018.\n",
    "\n",
    "(5) \n",
    "(i)In 2016, PLU 4770 were sold maximum compared to 2015, 2017 and 2018. \n",
    "(ii) In 2017, were sold minimum compared to 2015, 2016 and 2018.\n",
    "\n",
    "(6) Total No. of Bags were used more in 2018."
   ]
  },
  {
   "cell_type": "code",
   "execution_count": 19,
   "metadata": {},
   "outputs": [
    {
     "name": "stdout",
     "output_type": "stream",
     "text": [
      "AxesSubplot(0.125,0.657941;0.775x0.222059)\n",
      "AxesSubplot(0.125,0.391471;0.775x0.222059)\n",
      "AxesSubplot(0.125,0.125;0.775x0.222059)\n"
     ]
    },
    {
     "data": {
      "image/png": "[encoded data removed]",
      "text/plain": [
       "<Figure size 936x792 with 3 Axes>"
      ]
     },
     "metadata": {},
     "output_type": "display_data"
    }
   ],
   "source": [
    "plt.figure(figsize=(13, 11))\n",
    "sns.set_style('whitegrid')\n",
    "plt.xticks(np.linspace(1,2,5))\n",
    "plt.suptitle('Avocado Analysis Based on month', fontsize=25)\n",
    "plt.subplot(311)\n",
    "print(sns.barplot(x='month', y='AveragePrice', data=data, palette=\"Set1\"))\n",
    "\n",
    "plt.subplot(312)\n",
    "print(sns.barplot(x='month', y='Total Avocados Sold', data=data, palette=\"Set2\"))\n",
    "\n",
    "plt.subplot(313)\n",
    "print(sns.barplot(x='month', y='Total Bags', data=data, palette=\"rainbow\"))"
   ]
  },
  {
   "cell_type": "markdown",
   "metadata": {},
   "source": [
    "Observations:\n",
    "    \n",
    "(1) We can observe average price of avocados is higher in the month of October, while lesser in the month of February.\n",
    "\n",
    "(2) Maximum No. of avocados sold in the month of February, whereas minimum No. of avocados were sold in October.\n",
    "\n",
    "(3) Maximun No. of Bags were used in February, whereas minimum No. of Bags were used in November."
   ]
  },
  {
   "cell_type": "code",
   "execution_count": 20,
   "metadata": {},
   "outputs": [
    {
     "data": {
      "text/plain": [
       "Text(0, 0.5, 'Total Avocados Sold')"
      ]
     },
     "execution_count": 20,
     "metadata": {},
     "output_type": "execute_result"
    },
    {
     "data": {
      "image/png": "[encoded data removed]",
      "text/plain": [
       "<Figure size 1080x360 with 1 Axes>"
      ]
     },
     "metadata": {},
     "output_type": "display_data"
    }
   ],
   "source": [
    "# Checking the ratio of total avocados sold in each region\n",
    "plt.figure(figsize=(15, 30))\n",
    "sns.set_style('whitegrid')\n",
    "plt.xticks(np.linspace(1,2,5))\n",
    "plt.title('Total Avocados Sold in Each Region', {'fontsize':25})\n",
    "data.groupby(\"region\")[\"Total Avocados Sold\"].sum().sort_values(ascending=False).plot(kind=\"bar\", figsize=(15,5))\n",
    "plt.xlabel('Region', {'fontsize':'large'})\n",
    "plt.ylabel('Total Avocados Sold', {'fontsize':'large'})"
   ]
  },
  {
   "cell_type": "markdown",
   "metadata": {},
   "source": [
    "Observation:\n",
    "\n",
    "We can see that more No. of Avocados were sold in TotalUS region and less No. of Avocados were sold in regions like RaleighGreensboro, CincinnatiDay, StLouis etc."
   ]
  },
  {
   "cell_type": "code",
   "execution_count": 21,
   "metadata": {},
   "outputs": [
    {
     "data": {
      "text/plain": [
       "Text(0, 0.5, 'Total Avocados Sold')"
      ]
     },
     "execution_count": 21,
     "metadata": {},
     "output_type": "execute_result"
    },
    {
     "data": {
      "image/png": "[encoded data removed]",
      "text/plain": [
       "<Figure size 1080x360 with 1 Axes>"
      ]
     },
     "metadata": {},
     "output_type": "display_data"
    }
   ],
   "source": [
    "# Lets check the week got highest Avocado sell in 2018\n",
    "data.groupby(\"day\")[\"Total Avocados Sold\"].sum().sort_values(ascending=False).plot(kind=\"bar\", figsize=(15,5))\n",
    "plt.title('Highest Avocados Sold on the basis of Day', {'fontsize':25})\n",
    "plt.xlabel('Day', {'fontsize':'large'})\n",
    "plt.ylabel('Total Avocados Sold', {'fontsize':'large'})"
   ]
  },
  {
   "cell_type": "markdown",
   "metadata": {},
   "source": [
    "Observation:\n",
    "\n",
    "Maximum No. of avocados were sold on Sunday."
   ]
  },
  {
   "cell_type": "code",
   "execution_count": 22,
   "metadata": {},
   "outputs": [
    {
     "data": {
      "text/plain": [
       "Text(0.5, 1.0, 'Average price in different regions')"
      ]
     },
     "execution_count": 22,
     "metadata": {},
     "output_type": "execute_result"
    },
    {
     "data": {
      "image/png": "[encoded data removed]",
      "text/plain": [
       "<Figure size 1080x360 with 1 Axes>"
      ]
     },
     "metadata": {},
     "output_type": "display_data"
    }
   ],
   "source": [
    "# How average price varies by comparing with different regions\n",
    "region = data.groupby('region')['AveragePrice'].sum().sort_values(ascending=False).reset_index()\n",
    "\n",
    "# Visualizing by bar plot\n",
    "plt.figure(figsize=(15, 5))\n",
    "ax=sns.barplot(region['region'], region['AveragePrice'])\n",
    "plt.xticks(rotation=90)\n",
    "plt.title(\"Average price in different regions\")"
   ]
  },
  {
   "cell_type": "markdown",
   "metadata": {},
   "source": [
    "Observation:\n",
    "\n",
    "The average price in HartfordSpringfield is maximum whereas the average price in Houston is minimum"
   ]
  },
  {
   "cell_type": "markdown",
   "metadata": {},
   "source": [
    "### Multivariate Analysis"
   ]
  },
  {
   "cell_type": "code",
   "execution_count": 23,
   "metadata": {},
   "outputs": [
    {
     "data": {
      "text/html": [
       "<div>\n",
       "<style scoped>\n",
       "    .dataframe tbody tr th:only-of-type {\n",
       "        vertical-align: middle;\n",
       "    }\n",
       "\n",
       "    .dataframe tbody tr th {\n",
       "        vertical-align: top;\n",
       "    }\n",
       "\n",
       "    .dataframe thead th {\n",
       "        text-align: right;\n",
       "    }\n",
       "</style>\n",
       "<table border=\"1\" class=\"dataframe\">\n",
       "  <thead>\n",
       "    <tr style=\"text-align: right;\">\n",
       "      <th></th>\n",
       "      <th>AveragePrice</th>\n",
       "      <th>Total Avocados Sold</th>\n",
       "      <th>PLU 4046</th>\n",
       "      <th>PLU 4225</th>\n",
       "      <th>PLU 4770</th>\n",
       "      <th>Total Bags</th>\n",
       "      <th>Small Bags</th>\n",
       "      <th>Large Bags</th>\n",
       "      <th>XLarge Bags</th>\n",
       "      <th>year</th>\n",
       "    </tr>\n",
       "  </thead>\n",
       "  <tbody>\n",
       "    <tr>\n",
       "      <th>count</th>\n",
       "      <td>18249.000000</td>\n",
       "      <td>1.824900e+04</td>\n",
       "      <td>1.824900e+04</td>\n",
       "      <td>1.824900e+04</td>\n",
       "      <td>1.824900e+04</td>\n",
       "      <td>1.824900e+04</td>\n",
       "      <td>1.824900e+04</td>\n",
       "      <td>1.824900e+04</td>\n",
       "      <td>18249.000000</td>\n",
       "      <td>18249.000000</td>\n",
       "    </tr>\n",
       "    <tr>\n",
       "      <th>mean</th>\n",
       "      <td>1.405978</td>\n",
       "      <td>8.506440e+05</td>\n",
       "      <td>2.930084e+05</td>\n",
       "      <td>2.951546e+05</td>\n",
       "      <td>2.283974e+04</td>\n",
       "      <td>2.396392e+05</td>\n",
       "      <td>1.821947e+05</td>\n",
       "      <td>5.433809e+04</td>\n",
       "      <td>3106.426507</td>\n",
       "      <td>2016.147899</td>\n",
       "    </tr>\n",
       "    <tr>\n",
       "      <th>std</th>\n",
       "      <td>0.402677</td>\n",
       "      <td>3.453545e+06</td>\n",
       "      <td>1.264989e+06</td>\n",
       "      <td>1.204120e+06</td>\n",
       "      <td>1.074641e+05</td>\n",
       "      <td>9.862424e+05</td>\n",
       "      <td>7.461785e+05</td>\n",
       "      <td>2.439660e+05</td>\n",
       "      <td>17692.894652</td>\n",
       "      <td>0.939938</td>\n",
       "    </tr>\n",
       "    <tr>\n",
       "      <th>min</th>\n",
       "      <td>0.440000</td>\n",
       "      <td>8.456000e+01</td>\n",
       "      <td>0.000000e+00</td>\n",
       "      <td>0.000000e+00</td>\n",
       "      <td>0.000000e+00</td>\n",
       "      <td>0.000000e+00</td>\n",
       "      <td>0.000000e+00</td>\n",
       "      <td>0.000000e+00</td>\n",
       "      <td>0.000000</td>\n",
       "      <td>2015.000000</td>\n",
       "    </tr>\n",
       "    <tr>\n",
       "      <th>25%</th>\n",
       "      <td>1.100000</td>\n",
       "      <td>1.083858e+04</td>\n",
       "      <td>8.540700e+02</td>\n",
       "      <td>3.008780e+03</td>\n",
       "      <td>0.000000e+00</td>\n",
       "      <td>5.088640e+03</td>\n",
       "      <td>2.849420e+03</td>\n",
       "      <td>1.274700e+02</td>\n",
       "      <td>0.000000</td>\n",
       "      <td>2015.000000</td>\n",
       "    </tr>\n",
       "    <tr>\n",
       "      <th>50%</th>\n",
       "      <td>1.370000</td>\n",
       "      <td>1.073768e+05</td>\n",
       "      <td>8.645300e+03</td>\n",
       "      <td>2.906102e+04</td>\n",
       "      <td>1.849900e+02</td>\n",
       "      <td>3.974383e+04</td>\n",
       "      <td>2.636282e+04</td>\n",
       "      <td>2.647710e+03</td>\n",
       "      <td>0.000000</td>\n",
       "      <td>2016.000000</td>\n",
       "    </tr>\n",
       "    <tr>\n",
       "      <th>75%</th>\n",
       "      <td>1.660000</td>\n",
       "      <td>4.329623e+05</td>\n",
       "      <td>1.110202e+05</td>\n",
       "      <td>1.502069e+05</td>\n",
       "      <td>6.243420e+03</td>\n",
       "      <td>1.107834e+05</td>\n",
       "      <td>8.333767e+04</td>\n",
       "      <td>2.202925e+04</td>\n",
       "      <td>132.500000</td>\n",
       "      <td>2017.000000</td>\n",
       "    </tr>\n",
       "    <tr>\n",
       "      <th>max</th>\n",
       "      <td>3.250000</td>\n",
       "      <td>6.250565e+07</td>\n",
       "      <td>2.274362e+07</td>\n",
       "      <td>2.047057e+07</td>\n",
       "      <td>2.546439e+06</td>\n",
       "      <td>1.937313e+07</td>\n",
       "      <td>1.338459e+07</td>\n",
       "      <td>5.719097e+06</td>\n",
       "      <td>551693.650000</td>\n",
       "      <td>2018.000000</td>\n",
       "    </tr>\n",
       "  </tbody>\n",
       "</table>\n",
       "</div>"
      ],
      "text/plain": [
       "       AveragePrice  Total Avocados Sold      PLU 4046      PLU 4225  \\\n",
       "count  18249.000000         1.824900e+04  1.824900e+04  1.824900e+04   \n",
       "mean       1.405978         8.506440e+05  2.930084e+05  2.951546e+05   \n",
       "std        0.402677         3.453545e+06  1.264989e+06  1.204120e+06   \n",
       "min        0.440000         8.456000e+01  0.000000e+00  0.000000e+00   \n",
       "25%        1.100000         1.083858e+04  8.540700e+02  3.008780e+03   \n",
       "50%        1.370000         1.073768e+05  8.645300e+03  2.906102e+04   \n",
       "75%        1.660000         4.329623e+05  1.110202e+05  1.502069e+05   \n",
       "max        3.250000         6.250565e+07  2.274362e+07  2.047057e+07   \n",
       "\n",
       "           PLU 4770    Total Bags    Small Bags    Large Bags    XLarge Bags  \\\n",
       "count  1.824900e+04  1.824900e+04  1.824900e+04  1.824900e+04   18249.000000   \n",
       "mean   2.283974e+04  2.396392e+05  1.821947e+05  5.433809e+04    3106.426507   \n",
       "std    1.074641e+05  9.862424e+05  7.461785e+05  2.439660e+05   17692.894652   \n",
       "min    0.000000e+00  0.000000e+00  0.000000e+00  0.000000e+00       0.000000   \n",
       "25%    0.000000e+00  5.088640e+03  2.849420e+03  1.274700e+02       0.000000   \n",
       "50%    1.849900e+02  3.974383e+04  2.636282e+04  2.647710e+03       0.000000   \n",
       "75%    6.243420e+03  1.107834e+05  8.333767e+04  2.202925e+04     132.500000   \n",
       "max    2.546439e+06  1.937313e+07  1.338459e+07  5.719097e+06  551693.650000   \n",
       "\n",
       "               year  \n",
       "count  18249.000000  \n",
       "mean    2016.147899  \n",
       "std        0.939938  \n",
       "min     2015.000000  \n",
       "25%     2015.000000  \n",
       "50%     2016.000000  \n",
       "75%     2017.000000  \n",
       "max     2018.000000  "
      ]
     },
     "execution_count": 23,
     "metadata": {},
     "output_type": "execute_result"
    }
   ],
   "source": [
    "data.describe()"
   ]
  },
  {
   "cell_type": "markdown",
   "metadata": {},
   "source": [
    "Observations:\n",
    "    \n",
    "(1). There is not much difference between the mean and median (i.e, 50%) values.\n",
    "\n",
    "(2). The standard deviation value for XLarge Bags is high.\n",
    "\n",
    "(3). There can be outliers presents in this dataset as the difference between 75th percentile and max values are bit higher for some columns."
   ]
  },
  {
   "cell_type": "code",
   "execution_count": 24,
   "metadata": {},
   "outputs": [
    {
     "data": {
      "text/html": [
       "<div>\n",
       "<style scoped>\n",
       "    .dataframe tbody tr th:only-of-type {\n",
       "        vertical-align: middle;\n",
       "    }\n",
       "\n",
       "    .dataframe tbody tr th {\n",
       "        vertical-align: top;\n",
       "    }\n",
       "\n",
       "    .dataframe thead th {\n",
       "        text-align: right;\n",
       "    }\n",
       "</style>\n",
       "<table border=\"1\" class=\"dataframe\">\n",
       "  <thead>\n",
       "    <tr style=\"text-align: right;\">\n",
       "      <th></th>\n",
       "      <th>AveragePrice</th>\n",
       "      <th>Total Avocados Sold</th>\n",
       "      <th>PLU 4046</th>\n",
       "      <th>PLU 4225</th>\n",
       "      <th>PLU 4770</th>\n",
       "      <th>Total Bags</th>\n",
       "      <th>Small Bags</th>\n",
       "      <th>Large Bags</th>\n",
       "      <th>XLarge Bags</th>\n",
       "      <th>year</th>\n",
       "    </tr>\n",
       "  </thead>\n",
       "  <tbody>\n",
       "    <tr>\n",
       "      <th>AveragePrice</th>\n",
       "      <td>1.000000</td>\n",
       "      <td>-0.192752</td>\n",
       "      <td>-0.208317</td>\n",
       "      <td>-0.172928</td>\n",
       "      <td>-0.179446</td>\n",
       "      <td>-0.177088</td>\n",
       "      <td>-0.174730</td>\n",
       "      <td>-0.172940</td>\n",
       "      <td>-0.117592</td>\n",
       "      <td>0.093197</td>\n",
       "    </tr>\n",
       "    <tr>\n",
       "      <th>Total Avocados Sold</th>\n",
       "      <td>-0.192752</td>\n",
       "      <td>1.000000</td>\n",
       "      <td>0.977863</td>\n",
       "      <td>0.974181</td>\n",
       "      <td>0.872202</td>\n",
       "      <td>0.963047</td>\n",
       "      <td>0.967238</td>\n",
       "      <td>0.880640</td>\n",
       "      <td>0.747157</td>\n",
       "      <td>0.017193</td>\n",
       "    </tr>\n",
       "    <tr>\n",
       "      <th>PLU 4046</th>\n",
       "      <td>-0.208317</td>\n",
       "      <td>0.977863</td>\n",
       "      <td>1.000000</td>\n",
       "      <td>0.926110</td>\n",
       "      <td>0.833389</td>\n",
       "      <td>0.920057</td>\n",
       "      <td>0.925280</td>\n",
       "      <td>0.838645</td>\n",
       "      <td>0.699377</td>\n",
       "      <td>0.003353</td>\n",
       "    </tr>\n",
       "    <tr>\n",
       "      <th>PLU 4225</th>\n",
       "      <td>-0.172928</td>\n",
       "      <td>0.974181</td>\n",
       "      <td>0.926110</td>\n",
       "      <td>1.000000</td>\n",
       "      <td>0.887855</td>\n",
       "      <td>0.905787</td>\n",
       "      <td>0.916031</td>\n",
       "      <td>0.810015</td>\n",
       "      <td>0.688809</td>\n",
       "      <td>-0.009559</td>\n",
       "    </tr>\n",
       "    <tr>\n",
       "      <th>PLU 4770</th>\n",
       "      <td>-0.179446</td>\n",
       "      <td>0.872202</td>\n",
       "      <td>0.833389</td>\n",
       "      <td>0.887855</td>\n",
       "      <td>1.000000</td>\n",
       "      <td>0.792314</td>\n",
       "      <td>0.802733</td>\n",
       "      <td>0.698471</td>\n",
       "      <td>0.679861</td>\n",
       "      <td>-0.036531</td>\n",
       "    </tr>\n",
       "    <tr>\n",
       "      <th>Total Bags</th>\n",
       "      <td>-0.177088</td>\n",
       "      <td>0.963047</td>\n",
       "      <td>0.920057</td>\n",
       "      <td>0.905787</td>\n",
       "      <td>0.792314</td>\n",
       "      <td>1.000000</td>\n",
       "      <td>0.994335</td>\n",
       "      <td>0.943009</td>\n",
       "      <td>0.804233</td>\n",
       "      <td>0.071552</td>\n",
       "    </tr>\n",
       "    <tr>\n",
       "      <th>Small Bags</th>\n",
       "      <td>-0.174730</td>\n",
       "      <td>0.967238</td>\n",
       "      <td>0.925280</td>\n",
       "      <td>0.916031</td>\n",
       "      <td>0.802733</td>\n",
       "      <td>0.994335</td>\n",
       "      <td>1.000000</td>\n",
       "      <td>0.902589</td>\n",
       "      <td>0.806845</td>\n",
       "      <td>0.063915</td>\n",
       "    </tr>\n",
       "    <tr>\n",
       "      <th>Large Bags</th>\n",
       "      <td>-0.172940</td>\n",
       "      <td>0.880640</td>\n",
       "      <td>0.838645</td>\n",
       "      <td>0.810015</td>\n",
       "      <td>0.698471</td>\n",
       "      <td>0.943009</td>\n",
       "      <td>0.902589</td>\n",
       "      <td>1.000000</td>\n",
       "      <td>0.710858</td>\n",
       "      <td>0.087891</td>\n",
       "    </tr>\n",
       "    <tr>\n",
       "      <th>XLarge Bags</th>\n",
       "      <td>-0.117592</td>\n",
       "      <td>0.747157</td>\n",
       "      <td>0.699377</td>\n",
       "      <td>0.688809</td>\n",
       "      <td>0.679861</td>\n",
       "      <td>0.804233</td>\n",
       "      <td>0.806845</td>\n",
       "      <td>0.710858</td>\n",
       "      <td>1.000000</td>\n",
       "      <td>0.081033</td>\n",
       "    </tr>\n",
       "    <tr>\n",
       "      <th>year</th>\n",
       "      <td>0.093197</td>\n",
       "      <td>0.017193</td>\n",
       "      <td>0.003353</td>\n",
       "      <td>-0.009559</td>\n",
       "      <td>-0.036531</td>\n",
       "      <td>0.071552</td>\n",
       "      <td>0.063915</td>\n",
       "      <td>0.087891</td>\n",
       "      <td>0.081033</td>\n",
       "      <td>1.000000</td>\n",
       "    </tr>\n",
       "  </tbody>\n",
       "</table>\n",
       "</div>"
      ],
      "text/plain": [
       "                     AveragePrice  Total Avocados Sold  PLU 4046  PLU 4225  \\\n",
       "AveragePrice             1.000000            -0.192752 -0.208317 -0.172928   \n",
       "Total Avocados Sold     -0.192752             1.000000  0.977863  0.974181   \n",
       "PLU 4046                -0.208317             0.977863  1.000000  0.926110   \n",
       "PLU 4225                -0.172928             0.974181  0.926110  1.000000   \n",
       "PLU 4770                -0.179446             0.872202  0.833389  0.887855   \n",
       "Total Bags              -0.177088             0.963047  0.920057  0.905787   \n",
       "Small Bags              -0.174730             0.967238  0.925280  0.916031   \n",
       "Large Bags              -0.172940             0.880640  0.838645  0.810015   \n",
       "XLarge Bags             -0.117592             0.747157  0.699377  0.688809   \n",
       "year                     0.093197             0.017193  0.003353 -0.009559   \n",
       "\n",
       "                     PLU 4770  Total Bags  Small Bags  Large Bags  \\\n",
       "AveragePrice        -0.179446   -0.177088   -0.174730   -0.172940   \n",
       "Total Avocados Sold  0.872202    0.963047    0.967238    0.880640   \n",
       "PLU 4046             0.833389    0.920057    0.925280    0.838645   \n",
       "PLU 4225             0.887855    0.905787    0.916031    0.810015   \n",
       "PLU 4770             1.000000    0.792314    0.802733    0.698471   \n",
       "Total Bags           0.792314    1.000000    0.994335    0.943009   \n",
       "Small Bags           0.802733    0.994335    1.000000    0.902589   \n",
       "Large Bags           0.698471    0.943009    0.902589    1.000000   \n",
       "XLarge Bags          0.679861    0.804233    0.806845    0.710858   \n",
       "year                -0.036531    0.071552    0.063915    0.087891   \n",
       "\n",
       "                     XLarge Bags      year  \n",
       "AveragePrice           -0.117592  0.093197  \n",
       "Total Avocados Sold     0.747157  0.017193  \n",
       "PLU 4046                0.699377  0.003353  \n",
       "PLU 4225                0.688809 -0.009559  \n",
       "PLU 4770                0.679861 -0.036531  \n",
       "Total Bags              0.804233  0.071552  \n",
       "Small Bags              0.806845  0.063915  \n",
       "Large Bags              0.710858  0.087891  \n",
       "XLarge Bags             1.000000  0.081033  \n",
       "year                    0.081033  1.000000  "
      ]
     },
     "execution_count": 24,
     "metadata": {},
     "output_type": "execute_result"
    }
   ],
   "source": [
    "# Check correlation of the dataset\n",
    "corr=data.corr()\n",
    "corr"
   ]
  },
  {
   "cell_type": "code",
   "execution_count": 25,
   "metadata": {},
   "outputs": [
    {
     "data": {
      "image/png": "[encoded data removed]",
      "text/plain": [
       "<Figure size 1440x720 with 2 Axes>"
      ]
     },
     "metadata": {},
     "output_type": "display_data"
    }
   ],
   "source": [
    "# Plotting heatmap to understand the visualization of correlation\n",
    "plt.figure(figsize=(20, 10))\n",
    "sns.heatmap(corr, linewidth=0.5, linecolor='black', annot=True)\n",
    "plt.show()"
   ]
  },
  {
   "cell_type": "markdown",
   "metadata": {},
   "source": [
    "Observations:\n",
    "    \n",
    "(1). Most of the columns are highly positive correlated with each other.\n",
    "\n",
    "(2). PLU 4046, PLU 4225, PLU 4770 and Total Avocados solds are the columns that are having a value of 98%, 97% and 87% respectively.\n",
    "\n",
    "(3). Year column is the most negatively corelated column among all bhut values are very less.\n",
    "\n",
    "(4). Positely correlated columns have high impact with the Target variable, whereas negatively correlated columns have less or zero impact with thw target variable."
   ]
  },
  {
   "cell_type": "markdown",
   "metadata": {},
   "source": [
    "### Converting Categorical data into numerical data"
   ]
  },
  {
   "cell_type": "code",
   "execution_count": 26,
   "metadata": {},
   "outputs": [
    {
     "data": {
      "text/plain": [
       "month                   object\n",
       "day                     object\n",
       "AveragePrice           float64\n",
       "Total Avocados Sold    float64\n",
       "PLU 4046               float64\n",
       "PLU 4225               float64\n",
       "PLU 4770               float64\n",
       "Total Bags             float64\n",
       "Small Bags             float64\n",
       "Large Bags             float64\n",
       "XLarge Bags            float64\n",
       "year                     int64\n",
       "region                  object\n",
       "dtype: object"
      ]
     },
     "execution_count": 26,
     "metadata": {},
     "output_type": "execute_result"
    }
   ],
   "source": [
    "data.dtypes"
   ]
  },
  {
   "cell_type": "markdown",
   "metadata": {},
   "source": [
    "month, day and region are the categorical columns. we need to convert them into numerical column using LabelEncoder"
   ]
  },
  {
   "cell_type": "code",
   "execution_count": 27,
   "metadata": {},
   "outputs": [],
   "source": [
    "from sklearn.preprocessing import LabelEncoder\n",
    "le = LabelEncoder()\n",
    "\n",
    "col = ['month', 'day', 'region']\n",
    "for i in col:\n",
    "    data[i]=le.fit_transform(data[i])"
   ]
  },
  {
   "cell_type": "code",
   "execution_count": 28,
   "metadata": {},
   "outputs": [
    {
     "data": {
      "text/html": [
       "<div>\n",
       "<style scoped>\n",
       "    .dataframe tbody tr th:only-of-type {\n",
       "        vertical-align: middle;\n",
       "    }\n",
       "\n",
       "    .dataframe tbody tr th {\n",
       "        vertical-align: top;\n",
       "    }\n",
       "\n",
       "    .dataframe thead th {\n",
       "        text-align: right;\n",
       "    }\n",
       "</style>\n",
       "<table border=\"1\" class=\"dataframe\">\n",
       "  <thead>\n",
       "    <tr style=\"text-align: right;\">\n",
       "      <th></th>\n",
       "      <th>month</th>\n",
       "      <th>day</th>\n",
       "      <th>AveragePrice</th>\n",
       "      <th>Total Avocados Sold</th>\n",
       "      <th>PLU 4046</th>\n",
       "      <th>PLU 4225</th>\n",
       "      <th>PLU 4770</th>\n",
       "      <th>Total Bags</th>\n",
       "      <th>Small Bags</th>\n",
       "      <th>Large Bags</th>\n",
       "      <th>XLarge Bags</th>\n",
       "      <th>year</th>\n",
       "      <th>region</th>\n",
       "    </tr>\n",
       "  </thead>\n",
       "  <tbody>\n",
       "    <tr>\n",
       "      <th>0</th>\n",
       "      <td>2</td>\n",
       "      <td>0</td>\n",
       "      <td>1.33</td>\n",
       "      <td>64236.62</td>\n",
       "      <td>1036.74</td>\n",
       "      <td>54454.85</td>\n",
       "      <td>48.16</td>\n",
       "      <td>8696.87</td>\n",
       "      <td>8603.62</td>\n",
       "      <td>93.25</td>\n",
       "      <td>0.0</td>\n",
       "      <td>2015</td>\n",
       "      <td>0</td>\n",
       "    </tr>\n",
       "    <tr>\n",
       "      <th>1</th>\n",
       "      <td>2</td>\n",
       "      <td>0</td>\n",
       "      <td>1.35</td>\n",
       "      <td>54876.98</td>\n",
       "      <td>674.28</td>\n",
       "      <td>44638.81</td>\n",
       "      <td>58.33</td>\n",
       "      <td>9505.56</td>\n",
       "      <td>9408.07</td>\n",
       "      <td>97.49</td>\n",
       "      <td>0.0</td>\n",
       "      <td>2015</td>\n",
       "      <td>0</td>\n",
       "    </tr>\n",
       "    <tr>\n",
       "      <th>2</th>\n",
       "      <td>2</td>\n",
       "      <td>0</td>\n",
       "      <td>0.93</td>\n",
       "      <td>118220.22</td>\n",
       "      <td>794.70</td>\n",
       "      <td>109149.67</td>\n",
       "      <td>130.50</td>\n",
       "      <td>8145.35</td>\n",
       "      <td>8042.21</td>\n",
       "      <td>103.14</td>\n",
       "      <td>0.0</td>\n",
       "      <td>2015</td>\n",
       "      <td>0</td>\n",
       "    </tr>\n",
       "    <tr>\n",
       "      <th>3</th>\n",
       "      <td>2</td>\n",
       "      <td>0</td>\n",
       "      <td>1.08</td>\n",
       "      <td>78992.15</td>\n",
       "      <td>1132.00</td>\n",
       "      <td>71976.41</td>\n",
       "      <td>72.58</td>\n",
       "      <td>5811.16</td>\n",
       "      <td>5677.40</td>\n",
       "      <td>133.76</td>\n",
       "      <td>0.0</td>\n",
       "      <td>2015</td>\n",
       "      <td>0</td>\n",
       "    </tr>\n",
       "    <tr>\n",
       "      <th>4</th>\n",
       "      <td>9</td>\n",
       "      <td>0</td>\n",
       "      <td>1.28</td>\n",
       "      <td>51039.60</td>\n",
       "      <td>941.48</td>\n",
       "      <td>43838.39</td>\n",
       "      <td>75.78</td>\n",
       "      <td>6183.95</td>\n",
       "      <td>5986.26</td>\n",
       "      <td>197.69</td>\n",
       "      <td>0.0</td>\n",
       "      <td>2015</td>\n",
       "      <td>0</td>\n",
       "    </tr>\n",
       "  </tbody>\n",
       "</table>\n",
       "</div>"
      ],
      "text/plain": [
       "   month  day  AveragePrice  Total Avocados Sold  PLU 4046   PLU 4225  \\\n",
       "0      2    0          1.33             64236.62   1036.74   54454.85   \n",
       "1      2    0          1.35             54876.98    674.28   44638.81   \n",
       "2      2    0          0.93            118220.22    794.70  109149.67   \n",
       "3      2    0          1.08             78992.15   1132.00   71976.41   \n",
       "4      9    0          1.28             51039.60    941.48   43838.39   \n",
       "\n",
       "   PLU 4770  Total Bags  Small Bags  Large Bags  XLarge Bags  year  region  \n",
       "0     48.16     8696.87     8603.62       93.25          0.0  2015       0  \n",
       "1     58.33     9505.56     9408.07       97.49          0.0  2015       0  \n",
       "2    130.50     8145.35     8042.21      103.14          0.0  2015       0  \n",
       "3     72.58     5811.16     5677.40      133.76          0.0  2015       0  \n",
       "4     75.78     6183.95     5986.26      197.69          0.0  2015       0  "
      ]
     },
     "execution_count": 28,
     "metadata": {},
     "output_type": "execute_result"
    }
   ],
   "source": [
    "data.head()"
   ]
  },
  {
   "cell_type": "code",
   "execution_count": 29,
   "metadata": {},
   "outputs": [
    {
     "data": {
      "text/plain": [
       "month                    int32\n",
       "day                      int32\n",
       "AveragePrice           float64\n",
       "Total Avocados Sold    float64\n",
       "PLU 4046               float64\n",
       "PLU 4225               float64\n",
       "PLU 4770               float64\n",
       "Total Bags             float64\n",
       "Small Bags             float64\n",
       "Large Bags             float64\n",
       "XLarge Bags            float64\n",
       "year                     int64\n",
       "region                   int32\n",
       "dtype: object"
      ]
     },
     "execution_count": 29,
     "metadata": {},
     "output_type": "execute_result"
    }
   ],
   "source": [
    "data.dtypes"
   ]
  },
  {
   "cell_type": "markdown",
   "metadata": {},
   "source": [
    "Now all columns are Numerical."
   ]
  },
  {
   "cell_type": "markdown",
   "metadata": {},
   "source": [
    "### Splitting and Scaling"
   ]
  },
  {
   "cell_type": "code",
   "execution_count": 30,
   "metadata": {},
   "outputs": [],
   "source": [
    "x = data.drop('region', axis=1)\n",
    "y = data['region']"
   ]
  },
  {
   "cell_type": "markdown",
   "metadata": {},
   "source": [
    "## Checking skewness"
   ]
  },
  {
   "cell_type": "code",
   "execution_count": 31,
   "metadata": {},
   "outputs": [
    {
     "data": {
      "text/plain": [
       "month                   0.027653\n",
       "day                     0.000000\n",
       "AveragePrice            0.580303\n",
       "Total Avocados Sold     9.007687\n",
       "PLU 4046                8.648220\n",
       "PLU 4225                8.942466\n",
       "PLU 4770               10.159396\n",
       "Total Bags              9.756072\n",
       "Small Bags              9.540660\n",
       "Large Bags              9.796455\n",
       "XLarge Bags            13.139751\n",
       "year                    0.215339\n",
       "region                  0.000030\n",
       "dtype: float64"
      ]
     },
     "execution_count": 31,
     "metadata": {},
     "output_type": "execute_result"
    }
   ],
   "source": [
    "data.skew()"
   ]
  },
  {
   "cell_type": "markdown",
   "metadata": {},
   "source": [
    "## Treating skewness using log-transform"
   ]
  },
  {
   "cell_type": "code",
   "execution_count": 32,
   "metadata": {},
   "outputs": [],
   "source": [
    "for col in x.columns:\n",
    "    if x.skew().loc[col]>0.55:\n",
    "        x[col]=np.log1p(x[col])\n",
    "\n",
    "# The skewness has been treated and the data is ready for model training and testing"
   ]
  },
  {
   "cell_type": "markdown",
   "metadata": {},
   "source": [
    "## Scaling the data"
   ]
  },
  {
   "cell_type": "code",
   "execution_count": 33,
   "metadata": {},
   "outputs": [
    {
     "data": {
      "text/plain": [
       "array([[-1.03050323,  0.        , -0.11191784, ..., -0.66974686,\n",
       "        -0.64552605, -1.22128204],\n",
       "       [-1.03050323,  0.        , -0.06002047, ..., -0.65827941,\n",
       "        -0.64552605, -1.22128204],\n",
       "       [-1.03050323,  0.        , -1.25556016, ..., -0.6437429 ,\n",
       "        -0.64552605, -1.22128204],\n",
       "       ...,\n",
       "       [-0.43308111,  0.        ,  1.15374345, ..., -0.87238014,\n",
       "        -0.64552605,  1.97050371],\n",
       "       [-0.43308111,  0.        ,  1.2793746 , ..., -0.82978729,\n",
       "        -0.64552605,  1.97050371],\n",
       "       [-0.43308111,  0.        ,  0.6003593 , ..., -0.99542886,\n",
       "        -0.64552605,  1.97050371]])"
      ]
     },
     "execution_count": 33,
     "metadata": {},
     "output_type": "execute_result"
    }
   ],
   "source": [
    "from sklearn.preprocessing import StandardScaler\n",
    "sc = StandardScaler()\n",
    "x = sc.fit_transform(x)\n",
    "x"
   ]
  },
  {
   "cell_type": "markdown",
   "metadata": {},
   "source": [
    "## Building the model (Classification)"
   ]
  },
  {
   "cell_type": "code",
   "execution_count": 34,
   "metadata": {},
   "outputs": [],
   "source": [
    "from sklearn.linear_model import LogisticRegression\n",
    "LR = LogisticRegression()\n",
    "from sklearn.metrics import accuracy_score\n",
    "from sklearn.model_selection import train_test_split"
   ]
  },
  {
   "cell_type": "code",
   "execution_count": 35,
   "metadata": {},
   "outputs": [],
   "source": [
    "# Creating train test split using best random state\n",
    "x_train, x_test, y_train, y_test = train_test_split (x, y, test_size=0.2, random_state=28)"
   ]
  },
  {
   "cell_type": "markdown",
   "metadata": {},
   "source": [
    "## Finding out the Best Model"
   ]
  },
  {
   "cell_type": "code",
   "execution_count": 36,
   "metadata": {},
   "outputs": [],
   "source": [
    "# Importing various classification models\n",
    "from sklearn.linear_model import LogisticRegression\n",
    "from sklearn.naive_bayes import GaussianNB\n",
    "from sklearn.tree import DecisionTreeClassifier\n",
    "from sklearn.neighbors import KNeighborsClassifier"
   ]
  },
  {
   "cell_type": "code",
   "execution_count": 37,
   "metadata": {},
   "outputs": [],
   "source": [
    "# Initializing the instance of the model\n",
    "LR = LogisticRegression()\n",
    "gnb = GaussianNB()\n",
    "dtc = DecisionTreeClassifier()\n",
    "knc = KNeighborsClassifier()"
   ]
  },
  {
   "cell_type": "code",
   "execution_count": 38,
   "metadata": {},
   "outputs": [],
   "source": [
    "models = []\n",
    "models.append(('LogisticRegression',LR))\n",
    "models.append(('GaussianNB',gnb))\n",
    "models.append(('DecisionTreeClassifier',dtc))\n",
    "models.append(('KNeighborsClassifier',knc))"
   ]
  },
  {
   "cell_type": "code",
   "execution_count": 39,
   "metadata": {},
   "outputs": [],
   "source": [
    "# Importing required modules\n",
    "from sklearn.metrics import confusion_matrix, classification_report\n",
    "from sklearn.model_selection import cross_val_score"
   ]
  },
  {
   "cell_type": "code",
   "execution_count": 40,
   "metadata": {},
   "outputs": [
    {
     "name": "stdout",
     "output_type": "stream",
     "text": [
      "---------------------------- LogisticRegression ------------------------------\n",
      "\n",
      "\n",
      "LogisticRegression(C=1.0, class_weight=None, dual=False, fit_intercept=True,\n",
      "                   intercept_scaling=1, l1_ratio=None, max_iter=100,\n",
      "                   multi_class='auto', n_jobs=None, penalty='l2',\n",
      "                   random_state=None, solver='lbfgs', tol=0.0001, verbose=0,\n",
      "                   warm_start=False)\n",
      "\n",
      "\n",
      "accuracy_score:  0.37972602739726025\n",
      "\n",
      "\n",
      "cross_val_score:  0.23759995795432784\n",
      "\n",
      "\n",
      "Classification report: \n",
      "\n",
      "              precision    recall  f1-score   support\n",
      "\n",
      "           0       0.51      0.29      0.37        72\n",
      "           1       0.19      0.22      0.20        82\n",
      "           2       0.42      0.32      0.36        79\n",
      "           3       0.27      0.22      0.25        63\n",
      "           4       0.34      0.41      0.37        66\n",
      "           5       0.24      0.20      0.22        56\n",
      "           6       0.66      0.78      0.71        77\n",
      "           7       0.38      0.54      0.45        61\n",
      "           8       0.50      0.56      0.53        70\n",
      "           9       0.41      0.65      0.50        63\n",
      "          10       0.44      0.43      0.43        72\n",
      "          11       0.45      0.51      0.48        67\n",
      "          12       0.26      0.36      0.30        59\n",
      "          13       0.16      0.16      0.16        58\n",
      "          14       0.46      0.56      0.50        66\n",
      "          15       0.48      0.62      0.54        65\n",
      "          16       0.36      0.28      0.31        61\n",
      "          17       0.41      0.48      0.44        62\n",
      "          18       0.26      0.36      0.30        61\n",
      "          19       0.56      0.62      0.59        79\n",
      "          20       0.36      0.42      0.39        59\n",
      "          21       0.17      0.21      0.19        56\n",
      "          22       0.43      0.66      0.52        61\n",
      "          23       0.55      0.58      0.56        69\n",
      "          24       0.12      0.03      0.05        59\n",
      "          25       0.46      0.67      0.55        70\n",
      "          26       0.08      0.03      0.04        74\n",
      "          27       0.22      0.26      0.24        68\n",
      "          28       0.16      0.21      0.18        63\n",
      "          29       0.54      0.65      0.59        69\n",
      "          30       0.52      0.53      0.53        77\n",
      "          31       0.27      0.27      0.27        59\n",
      "          32       0.28      0.24      0.26        75\n",
      "          33       0.22      0.23      0.22        61\n",
      "          34       0.10      0.08      0.09        66\n",
      "          35       0.21      0.18      0.20        72\n",
      "          36       0.41      0.16      0.23        77\n",
      "          37       0.46      0.39      0.43        66\n",
      "          38       0.32      0.31      0.32        74\n",
      "          39       0.25      0.28      0.26        78\n",
      "          40       0.46      0.68      0.55        68\n",
      "          41       0.13      0.11      0.12        64\n",
      "          42       0.58      0.65      0.61        66\n",
      "          43       0.65      0.32      0.42        76\n",
      "          44       0.26      0.32      0.29        73\n",
      "          45       0.59      0.82      0.68        66\n",
      "          46       0.28      0.22      0.24        74\n",
      "          47       0.40      0.34      0.37        64\n",
      "          48       0.11      0.03      0.04        72\n",
      "          49       0.36      0.29      0.32        70\n",
      "          50       0.16      0.06      0.09        51\n",
      "          51       0.89      0.88      0.89        75\n",
      "          52       0.48      0.65      0.55        71\n",
      "          53       0.02      0.01      0.02        68\n",
      "\n",
      "    accuracy                           0.38      3650\n",
      "   macro avg       0.36      0.38      0.36      3650\n",
      "weighted avg       0.36      0.38      0.36      3650\n",
      "\n",
      "Confusion matrix: \n",
      "\n",
      "[[21  0  0 ...  0  0  0]\n",
      " [ 0 18  0 ...  0  1  0]\n",
      " [ 0  0 25 ...  0  0  0]\n",
      " ...\n",
      " [ 0  0  0 ... 66  6  0]\n",
      " [ 0  1  0 ...  5 46  0]\n",
      " [ 0  1  0 ...  0  0  1]]\n",
      "\n",
      "\n",
      "---------------------------- GaussianNB ------------------------------\n",
      "\n",
      "\n",
      "GaussianNB(priors=None, var_smoothing=1e-09)\n",
      "\n",
      "\n",
      "accuracy_score:  0.046027397260273974\n",
      "\n",
      "\n",
      "cross_val_score:  0.034960766132211114\n",
      "\n",
      "\n",
      "Classification report: \n",
      "\n",
      "              precision    recall  f1-score   support\n",
      "\n",
      "           0       0.04      0.17      0.06        72\n",
      "           1       0.00      0.00      0.00        82\n",
      "           2       0.00      0.00      0.00        79\n",
      "           3       0.16      0.37      0.22        63\n",
      "           4       0.00      0.00      0.00        66\n",
      "           5       0.00      0.00      0.00        56\n",
      "           6       0.14      0.04      0.06        77\n",
      "           7       0.00      0.00      0.00        61\n",
      "           8       0.00      0.00      0.00        70\n",
      "           9       0.06      0.08      0.07        63\n",
      "          10       0.00      0.00      0.00        72\n",
      "          11       0.00      0.00      0.00        67\n",
      "          12       0.01      0.03      0.01        59\n",
      "          13       0.02      0.02      0.02        58\n",
      "          14       0.00      0.00      0.00        66\n",
      "          15       0.06      0.02      0.02        65\n",
      "          16       0.00      0.00      0.00        61\n",
      "          17       0.13      0.11      0.12        62\n",
      "          18       0.25      0.02      0.03        61\n",
      "          19       0.00      0.00      0.00        79\n",
      "          20       0.50      0.02      0.03        59\n",
      "          21       0.00      0.00      0.00        56\n",
      "          22       0.00      0.00      0.00        61\n",
      "          23       0.00      0.00      0.00        69\n",
      "          24       0.00      0.00      0.00        59\n",
      "          25       0.00      0.00      0.00        70\n",
      "          26       0.06      0.07      0.07        74\n",
      "          27       0.00      0.00      0.00        68\n",
      "          28       0.04      0.03      0.04        63\n",
      "          29       0.05      0.07      0.06        69\n",
      "          30       0.11      0.05      0.07        77\n",
      "          31       0.00      0.00      0.00        59\n",
      "          32       0.00      0.00      0.00        75\n",
      "          33       0.00      0.00      0.00        61\n",
      "          34       0.13      0.09      0.11        66\n",
      "          35       0.00      0.00      0.00        72\n",
      "          36       0.00      0.00      0.00        77\n",
      "          37       0.07      0.05      0.06        66\n",
      "          38       0.00      0.00      0.00        74\n",
      "          39       0.02      0.03      0.02        78\n",
      "          40       0.00      0.00      0.00        68\n",
      "          41       0.00      0.00      0.00        64\n",
      "          42       0.00      0.00      0.00        66\n",
      "          43       0.00      0.00      0.00        76\n",
      "          44       0.00      0.00      0.00        73\n",
      "          45       0.00      0.00      0.00        66\n",
      "          46       0.00      0.00      0.00        74\n",
      "          47       0.09      0.28      0.13        64\n",
      "          48       0.00      0.00      0.00        72\n",
      "          49       0.07      0.44      0.12        70\n",
      "          50       0.00      0.00      0.00        51\n",
      "          51       0.14      0.48      0.22        75\n",
      "          52       0.00      0.00      0.00        71\n",
      "          53       0.00      0.00      0.00        68\n",
      "\n",
      "    accuracy                           0.05      3650\n",
      "   macro avg       0.04      0.05      0.03      3650\n",
      "weighted avg       0.04      0.05      0.03      3650\n",
      "\n",
      "Confusion matrix: \n",
      "\n",
      "[[12  0  0 ...  0  0  0]\n",
      " [ 4  0  0 ...  0  6  0]\n",
      " [ 8  0  0 ...  0  0  0]\n",
      " ...\n",
      " [ 0  0  0 ... 36  9  0]\n",
      " [ 0  0  0 ... 28  0  0]\n",
      " [12  0  0 ...  0 25  0]]\n",
      "\n",
      "\n",
      "---------------------------- DecisionTreeClassifier ------------------------------\n",
      "\n",
      "\n",
      "DecisionTreeClassifier(ccp_alpha=0.0, class_weight=None, criterion='gini',\n",
      "                       max_depth=None, max_features=None, max_leaf_nodes=None,\n",
      "                       min_impurity_decrease=0.0, min_impurity_split=None,\n",
      "                       min_samples_leaf=1, min_samples_split=2,\n",
      "                       min_weight_fraction_leaf=0.0, presort='deprecated',\n",
      "                       random_state=None, splitter='best')\n",
      "\n",
      "\n",
      "accuracy_score:  0.7947945205479452\n",
      "\n",
      "\n",
      "cross_val_score:  0.528020362118351\n",
      "\n",
      "\n",
      "Classification report: \n",
      "\n",
      "              precision    recall  f1-score   support\n",
      "\n",
      "           0       0.84      0.74      0.79        72\n",
      "           1       0.81      0.71      0.75        82\n",
      "           2       0.90      0.84      0.87        79\n",
      "           3       0.77      0.81      0.79        63\n",
      "           4       0.88      0.88      0.88        66\n",
      "           5       0.60      0.80      0.69        56\n",
      "           6       0.95      0.90      0.92        77\n",
      "           7       0.84      0.84      0.84        61\n",
      "           8       0.93      0.89      0.91        70\n",
      "           9       0.72      0.76      0.74        63\n",
      "          10       0.73      0.74      0.73        72\n",
      "          11       0.83      0.87      0.85        67\n",
      "          12       0.79      0.85      0.82        59\n",
      "          13       0.73      0.76      0.75        58\n",
      "          14       0.82      0.76      0.79        66\n",
      "          15       0.87      0.89      0.88        65\n",
      "          16       0.86      0.84      0.85        61\n",
      "          17       0.80      0.73      0.76        62\n",
      "          18       0.85      0.85      0.85        61\n",
      "          19       0.81      0.77      0.79        79\n",
      "          20       0.86      0.83      0.84        59\n",
      "          21       0.58      0.75      0.65        56\n",
      "          22       0.91      0.95      0.93        61\n",
      "          23       0.74      0.71      0.73        69\n",
      "          24       0.64      0.63      0.63        59\n",
      "          25       0.94      0.93      0.94        70\n",
      "          26       0.63      0.66      0.64        74\n",
      "          27       0.81      0.68      0.74        68\n",
      "          28       0.82      0.84      0.83        63\n",
      "          29       0.95      0.87      0.91        69\n",
      "          30       0.88      0.87      0.88        77\n",
      "          31       0.67      0.69      0.68        59\n",
      "          32       0.79      0.83      0.81        75\n",
      "          33       0.64      0.70      0.67        61\n",
      "          34       0.83      0.88      0.85        66\n",
      "          35       0.83      0.76      0.80        72\n",
      "          36       0.72      0.74      0.73        77\n",
      "          37       0.73      0.79      0.76        66\n",
      "          38       0.88      0.85      0.86        74\n",
      "          39       0.83      0.83      0.83        78\n",
      "          40       0.87      0.76      0.81        68\n",
      "          41       0.75      0.69      0.72        64\n",
      "          42       0.81      0.88      0.84        66\n",
      "          43       0.75      0.74      0.74        76\n",
      "          44       0.80      0.84      0.82        73\n",
      "          45       0.91      0.88      0.89        66\n",
      "          46       0.87      0.81      0.84        74\n",
      "          47       0.76      0.75      0.76        64\n",
      "          48       0.70      0.65      0.68        72\n",
      "          49       0.76      0.81      0.79        70\n",
      "          50       0.48      0.59      0.53        51\n",
      "          51       0.92      0.97      0.95        75\n",
      "          52       0.90      0.86      0.88        71\n",
      "          53       0.66      0.62      0.64        68\n",
      "\n",
      "    accuracy                           0.79      3650\n",
      "   macro avg       0.79      0.79      0.79      3650\n",
      "weighted avg       0.80      0.79      0.80      3650\n",
      "\n",
      "Confusion matrix: \n",
      "\n",
      "[[53  0  0 ...  0  0  0]\n",
      " [ 0 58  0 ...  0  0  0]\n",
      " [ 0  0 66 ...  0  0  4]\n",
      " ...\n",
      " [ 0  0  0 ... 73  0  0]\n",
      " [ 0  0  0 ...  0 61  0]\n",
      " [ 0  0  1 ...  0  0 42]]\n",
      "\n",
      "\n",
      "---------------------------- KNeighborsClassifier ------------------------------\n",
      "\n",
      "\n",
      "KNeighborsClassifier(algorithm='auto', leaf_size=30, metric='minkowski',\n",
      "                     metric_params=None, n_jobs=None, n_neighbors=5, p=2,\n",
      "                     weights='uniform')\n",
      "\n",
      "\n",
      "accuracy_score:  0.7542465753424658\n",
      "\n",
      "\n",
      "cross_val_score:  0.42363294128246815\n",
      "\n",
      "\n",
      "Classification report: \n",
      "\n",
      "              precision    recall  f1-score   support\n",
      "\n",
      "           0       0.74      0.88      0.80        72\n",
      "           1       0.53      0.66      0.59        82\n",
      "           2       0.81      0.92      0.86        79\n",
      "           3       0.71      0.75      0.73        63\n",
      "           4       0.75      0.80      0.77        66\n",
      "           5       0.70      0.84      0.76        56\n",
      "           6       0.96      0.91      0.93        77\n",
      "           7       0.60      0.85      0.70        61\n",
      "           8       0.91      0.86      0.88        70\n",
      "           9       0.49      0.73      0.59        63\n",
      "          10       0.52      0.60      0.55        72\n",
      "          11       0.83      0.90      0.86        67\n",
      "          12       0.85      0.75      0.79        59\n",
      "          13       0.52      0.48      0.50        58\n",
      "          14       0.92      0.92      0.92        66\n",
      "          15       0.92      0.92      0.92        65\n",
      "          16       0.83      0.89      0.86        61\n",
      "          17       0.90      0.71      0.79        62\n",
      "          18       0.71      0.75      0.73        61\n",
      "          19       0.74      0.61      0.67        79\n",
      "          20       0.84      0.78      0.81        59\n",
      "          21       0.63      0.70      0.66        56\n",
      "          22       0.95      0.95      0.95        61\n",
      "          23       0.74      0.70      0.72        69\n",
      "          24       0.54      0.54      0.54        59\n",
      "          25       0.76      0.93      0.84        70\n",
      "          26       0.64      0.66      0.65        74\n",
      "          27       0.68      0.65      0.66        68\n",
      "          28       0.92      0.90      0.91        63\n",
      "          29       0.94      0.87      0.90        69\n",
      "          30       0.85      0.81      0.83        77\n",
      "          31       0.42      0.46      0.44        59\n",
      "          32       0.85      0.69      0.76        75\n",
      "          33       0.59      0.72      0.65        61\n",
      "          34       0.86      0.73      0.79        66\n",
      "          35       0.85      0.92      0.88        72\n",
      "          36       0.65      0.68      0.66        77\n",
      "          37       0.68      0.67      0.67        66\n",
      "          38       0.65      0.53      0.58        74\n",
      "          39       0.76      0.65      0.70        78\n",
      "          40       0.70      0.87      0.78        68\n",
      "          41       0.71      0.61      0.66        64\n",
      "          42       0.89      0.76      0.82        66\n",
      "          43       0.84      0.63      0.72        76\n",
      "          44       0.73      0.77      0.75        73\n",
      "          45       0.96      0.97      0.96        66\n",
      "          46       0.95      0.81      0.88        74\n",
      "          47       0.82      0.80      0.81        64\n",
      "          48       0.85      0.57      0.68        72\n",
      "          49       0.87      0.74      0.80        70\n",
      "          50       0.42      0.35      0.38        51\n",
      "          51       0.96      0.95      0.95        75\n",
      "          52       0.91      0.89      0.90        71\n",
      "          53       0.68      0.66      0.67        68\n",
      "\n",
      "    accuracy                           0.75      3650\n",
      "   macro avg       0.76      0.75      0.75      3650\n",
      "weighted avg       0.76      0.75      0.75      3650\n",
      "\n",
      "Confusion matrix: \n",
      "\n",
      "[[63  0  0 ...  0  0  0]\n",
      " [ 0 54  0 ...  0  0  1]\n",
      " [ 0  0 73 ...  0  0  0]\n",
      " ...\n",
      " [ 0  0  0 ... 71  0  0]\n",
      " [ 0  1  0 ...  0 63  0]\n",
      " [ 0  1  0 ...  0  0 45]]\n",
      "\n",
      "\n"
     ]
    }
   ],
   "source": [
    "Model = []\n",
    "Score = []\n",
    "CV_Score = []\n",
    "\n",
    "for name, model in models:\n",
    "    print('----------------------------',name,'------------------------------')\n",
    "    print('\\n')\n",
    "    Model.append(name)\n",
    "    model.fit(x_train, y_train)\n",
    "    print(model)\n",
    "    pre=model.predict(x_test)\n",
    "    print('\\n')\n",
    "    \n",
    "    AS=accuracy_score(y_test, pre)\n",
    "    print('accuracy_score: ', AS)\n",
    "    Score.append(AS*100)\n",
    "    print('\\n')\n",
    "    \n",
    "    cvs=cross_val_score(model,x,y,cv=5,scoring='accuracy').mean()\n",
    "    print('cross_val_score: ', cvs)\n",
    "    CV_Score.append(cvs*100)\n",
    "    print('\\n')\n",
    "   \n",
    "    print('Classification report: \\n')\n",
    "    print(classification_report(y_test, pre))\n",
    "    print('Confusion matrix: \\n')\n",
    "    cm=confusion_matrix(y_test, pre)\n",
    "    print(cm)\n",
    "    print('\\n')"
   ]
  },
  {
   "cell_type": "code",
   "execution_count": 41,
   "metadata": {},
   "outputs": [
    {
     "data": {
      "text/html": [
       "<div>\n",
       "<style scoped>\n",
       "    .dataframe tbody tr th:only-of-type {\n",
       "        vertical-align: middle;\n",
       "    }\n",
       "\n",
       "    .dataframe tbody tr th {\n",
       "        vertical-align: top;\n",
       "    }\n",
       "\n",
       "    .dataframe thead th {\n",
       "        text-align: right;\n",
       "    }\n",
       "</style>\n",
       "<table border=\"1\" class=\"dataframe\">\n",
       "  <thead>\n",
       "    <tr style=\"text-align: right;\">\n",
       "      <th></th>\n",
       "      <th>Model</th>\n",
       "      <th>Accuracy Score</th>\n",
       "      <th>CV Score</th>\n",
       "    </tr>\n",
       "  </thead>\n",
       "  <tbody>\n",
       "    <tr>\n",
       "      <th>0</th>\n",
       "      <td>LogisticRegression</td>\n",
       "      <td>37.972603</td>\n",
       "      <td>23.759996</td>\n",
       "    </tr>\n",
       "    <tr>\n",
       "      <th>1</th>\n",
       "      <td>GaussianNB</td>\n",
       "      <td>4.602740</td>\n",
       "      <td>3.496077</td>\n",
       "    </tr>\n",
       "    <tr>\n",
       "      <th>2</th>\n",
       "      <td>DecisionTreeClassifier</td>\n",
       "      <td>79.479452</td>\n",
       "      <td>52.802036</td>\n",
       "    </tr>\n",
       "    <tr>\n",
       "      <th>3</th>\n",
       "      <td>KNeighborsClassifier</td>\n",
       "      <td>75.424658</td>\n",
       "      <td>42.363294</td>\n",
       "    </tr>\n",
       "  </tbody>\n",
       "</table>\n",
       "</div>"
      ],
      "text/plain": [
       "                    Model  Accuracy Score   CV Score\n",
       "0      LogisticRegression       37.972603  23.759996\n",
       "1              GaussianNB        4.602740   3.496077\n",
       "2  DecisionTreeClassifier       79.479452  52.802036\n",
       "3    KNeighborsClassifier       75.424658  42.363294"
      ]
     },
     "execution_count": 41,
     "metadata": {},
     "output_type": "execute_result"
    }
   ],
   "source": [
    "# Result store in DataFrame\n",
    "Result = pd.DataFrame({'Model':Model, 'Accuracy Score':Score, 'CV Score':CV_Score})\n",
    "Result"
   ]
  },
  {
   "cell_type": "markdown",
   "metadata": {},
   "source": [
    "From the above algorithms, we can say that the DecisionTreeClassifier is working well by giving an accuracy of 79.47% and cross validation score of 52.80%. Now we will perform Hyperparameter Tuning to find the best parameters and improve the accuracy of the model"
   ]
  },
  {
   "cell_type": "markdown",
   "metadata": {},
   "source": [
    "### Hyperparameter Tuning"
   ]
  },
  {
   "cell_type": "code",
   "execution_count": 43,
   "metadata": {},
   "outputs": [],
   "source": [
    "# Creating parameter list to pass GridSearchCV\n",
    "param_dist= {\n",
    "    'criterion':[\"gini\", \"entropy\"], \n",
    "    'max_depth':[1,2,3,4,5,6,7,None]\n",
    "}"
   ]
  },
  {
   "cell_type": "code",
   "execution_count": 44,
   "metadata": {},
   "outputs": [
    {
     "name": "stdout",
     "output_type": "stream",
     "text": [
      "{'criterion': 'entropy', 'max_depth': None}\n",
      "0.7931361318974339\n"
     ]
    }
   ],
   "source": [
    "# Using GridSearchCV to run the parameters and checking the accuracy\n",
    "from sklearn.model_selection import GridSearchCV\n",
    "dtc=DecisionTreeClassifier()\n",
    "grid=GridSearchCV(dtc, param_grid=param_dist, cv=10, n_jobs=-1)\n",
    "grid.fit(x_train, y_train)\n",
    "print(grid.best_params_)\n",
    "print(grid.best_score_)"
   ]
  },
  {
   "cell_type": "markdown",
   "metadata": {},
   "source": [
    "As we can see the accuracy of the model has been decrease. "
   ]
  },
  {
   "cell_type": "code",
   "execution_count": 46,
   "metadata": {},
   "outputs": [
    {
     "data": {
      "text/plain": [
       "['Avocado_classification.pkl']"
      ]
     },
     "execution_count": 46,
     "metadata": {},
     "output_type": "execute_result"
    }
   ],
   "source": [
    "# Saving the model\n",
    "from sklearn.externals import joblib\n",
    "joblib.dump(dtc, 'Avocado_classification.pkl')"
   ]
  },
  {
   "cell_type": "code",
   "execution_count": null,
   "metadata": {},
   "outputs": [],
   "source": []
  },
  {
   "cell_type": "markdown",
   "metadata": {},
   "source": [
    "# Building the model (Regression)"
   ]
  },
  {
   "cell_type": "code",
   "execution_count": 47,
   "metadata": {},
   "outputs": [],
   "source": [
    "x = data.drop('AveragePrice', axis=1)\n",
    "y = data['AveragePrice']"
   ]
  },
  {
   "cell_type": "code",
   "execution_count": 48,
   "metadata": {},
   "outputs": [],
   "source": [
    "for col in x.columns:\n",
    "    if x.skew().loc[col]>0.55:\n",
    "        x[col]=np.log1p(x[col])\n",
    "\n",
    "# The skewness has been treated and the data is ready for model training and testing"
   ]
  },
  {
   "cell_type": "markdown",
   "metadata": {},
   "source": [
    "### Scaling the data"
   ]
  },
  {
   "cell_type": "code",
   "execution_count": 49,
   "metadata": {},
   "outputs": [
    {
     "data": {
      "text/plain": [
       "array([[-1.03050323,  0.        , -0.10728205, ..., -0.64552605,\n",
       "        -1.22128204, -1.7002522 ],\n",
       "       [-1.03050323,  0.        , -0.1759487 , ..., -0.64552605,\n",
       "        -1.22128204, -1.7002522 ],\n",
       "       [-1.03050323,  0.        ,  0.15869039, ..., -0.64552605,\n",
       "        -1.22128204, -1.7002522 ],\n",
       "       ...,\n",
       "       [-0.43308111,  0.        , -0.77890112, ..., -0.64552605,\n",
       "         1.97050371,  1.70081131],\n",
       "       [-0.43308111,  0.        , -0.70779758, ..., -0.64552605,\n",
       "         1.97050371,  1.70081131],\n",
       "       [-0.43308111,  0.        , -0.67454176, ..., -0.64552605,\n",
       "         1.97050371,  1.70081131]])"
      ]
     },
     "execution_count": 49,
     "metadata": {},
     "output_type": "execute_result"
    }
   ],
   "source": [
    "from sklearn.preprocessing import StandardScaler\n",
    "sc = StandardScaler()\n",
    "x = sc.fit_transform(x)\n",
    "x"
   ]
  },
  {
   "cell_type": "code",
   "execution_count": 50,
   "metadata": {},
   "outputs": [],
   "source": [
    "from sklearn.linear_model import LinearRegression\n",
    "Lr = LinearRegression()\n",
    "from sklearn.metrics import accuracy_score\n",
    "from sklearn.model_selection import cross_val_score\n",
    "from sklearn.model_selection import train_test_split"
   ]
  },
  {
   "cell_type": "code",
   "execution_count": 51,
   "metadata": {},
   "outputs": [],
   "source": [
    "# Creating train test split using best random state\n",
    "x_train, x_test, y_train, y_test = train_test_split (x, y, test_size=0.2, random_state=28)"
   ]
  },
  {
   "cell_type": "markdown",
   "metadata": {},
   "source": [
    "## Finding out the best model"
   ]
  },
  {
   "cell_type": "code",
   "execution_count": 52,
   "metadata": {},
   "outputs": [],
   "source": [
    "# Importing various Regression models\n",
    "from sklearn.linear_model import LinearRegression\n",
    "from sklearn.svm import SVR\n",
    "from sklearn.tree import DecisionTreeRegressor\n",
    "from sklearn.neighbors import KNeighborsRegressor"
   ]
  },
  {
   "cell_type": "code",
   "execution_count": 54,
   "metadata": {},
   "outputs": [],
   "source": [
    "# Initializing the instance of the model\n",
    "Lr = LinearRegression()\n",
    "svr = SVR()\n",
    "dtr = DecisionTreeRegressor()\n",
    "knr = KNeighborsRegressor()"
   ]
  },
  {
   "cell_type": "code",
   "execution_count": 55,
   "metadata": {},
   "outputs": [],
   "source": [
    "models = []\n",
    "models.append(('LinearRegression',Lr))\n",
    "models.append(('Support Vector Regressor',svr))\n",
    "models.append(('Decision Tree Regressor',dtr))\n",
    "models.append(('KNeighbors Regressor',knr))"
   ]
  },
  {
   "cell_type": "code",
   "execution_count": 56,
   "metadata": {},
   "outputs": [],
   "source": [
    "# Import required metrics\n",
    "from sklearn.metrics import mean_absolute_error, mean_squared_error, r2_score\n",
    "from sklearn.model_selection import cross_val_score"
   ]
  },
  {
   "cell_type": "code",
   "execution_count": 57,
   "metadata": {},
   "outputs": [
    {
     "name": "stdout",
     "output_type": "stream",
     "text": [
      "---------------------------- LinearRegression ------------------------------\n",
      "\n",
      "\n",
      "LinearRegression(copy_X=True, fit_intercept=True, n_jobs=None, normalize=False)\n",
      "\n",
      "\n",
      "accuracy_score:  0.4779803991838626\n",
      "\n",
      "\n",
      "cross_val_score:  -0.0652105002824706\n",
      "\n",
      "\n",
      "Mean Absolute Error:  0.2309498989661067\n",
      "\n",
      "\n",
      "Mean Squared Error:  0.08574594378240574\n",
      "\n",
      "\n",
      "Root Mean Squared  Error:  0.2928240833374293\n",
      "\n",
      "\n",
      "---------------------------- Support Vector Regressor ------------------------------\n",
      "\n",
      "\n",
      "SVR(C=1.0, cache_size=200, coef0=0.0, degree=3, epsilon=0.1, gamma='scale',\n",
      "    kernel='rbf', max_iter=-1, shrinking=True, tol=0.001, verbose=False)\n",
      "\n",
      "\n",
      "accuracy_score:  0.7435744049544935\n",
      "\n",
      "\n",
      "cross_val_score:  0.05969431916812205\n",
      "\n",
      "\n",
      "Mean Absolute Error:  0.1511559721686759\n",
      "\n",
      "\n",
      "Mean Squared Error:  0.042119979063556724\n",
      "\n",
      "\n",
      "Root Mean Squared  Error:  0.2052315255109622\n",
      "\n",
      "\n",
      "---------------------------- Decision Tree Regressor ------------------------------\n",
      "\n",
      "\n",
      "DecisionTreeRegressor(ccp_alpha=0.0, criterion='mse', max_depth=None,\n",
      "                      max_features=None, max_leaf_nodes=None,\n",
      "                      min_impurity_decrease=0.0, min_impurity_split=None,\n",
      "                      min_samples_leaf=1, min_samples_split=2,\n",
      "                      min_weight_fraction_leaf=0.0, presort='deprecated',\n",
      "                      random_state=None, splitter='best')\n",
      "\n",
      "\n",
      "accuracy_score:  0.7527833064853806\n",
      "\n",
      "\n",
      "cross_val_score:  -0.7550433121189675\n",
      "\n",
      "\n",
      "Mean Absolute Error:  0.1318082191780822\n",
      "\n",
      "\n",
      "Mean Squared Error:  0.04060734246575342\n",
      "\n",
      "\n",
      "Root Mean Squared  Error:  0.20151263599524824\n",
      "\n",
      "\n",
      "---------------------------- KNeighbors Regressor ------------------------------\n",
      "\n",
      "\n",
      "KNeighborsRegressor(algorithm='auto', leaf_size=30, metric='minkowski',\n",
      "                    metric_params=None, n_jobs=None, n_neighbors=5, p=2,\n",
      "                    weights='uniform')\n",
      "\n",
      "\n",
      "accuracy_score:  0.826874278029791\n",
      "\n",
      "\n",
      "cross_val_score:  -0.2583318588854878\n",
      "\n",
      "\n",
      "Mean Absolute Error:  0.11907452054794522\n",
      "\n",
      "\n",
      "Mean Squared Error:  0.028437300821917814\n",
      "\n",
      "\n",
      "Root Mean Squared  Error:  0.16863362897689718\n",
      "\n",
      "\n"
     ]
    }
   ],
   "source": [
    "Model = []\n",
    "Score = []\n",
    "CV_Score = []\n",
    "MAE = []\n",
    "MSE = []\n",
    "RMSE = []\n",
    "\n",
    "for name, model in models:\n",
    "    print('----------------------------',name,'------------------------------')\n",
    "    print('\\n')\n",
    "    Model.append(name)\n",
    "    model.fit(x_train, y_train)\n",
    "    print(model)\n",
    "    pre=model.predict(x_test)\n",
    "    print('\\n')\n",
    "    \n",
    "    AS=r2_score(y_test, pre)\n",
    "    print('accuracy_score: ', AS)\n",
    "    Score.append(AS*100)\n",
    "    print('\\n')\n",
    "    \n",
    "    cvs=cross_val_score(model,x,y,cv=5,scoring='r2').mean()\n",
    "    print('cross_val_score: ', cvs)\n",
    "    CV_Score.append(cvs*100)\n",
    "    print('\\n')\n",
    "    \n",
    "    mae=mean_absolute_error(y_test, pre)\n",
    "    print('Mean Absolute Error: ', mae)\n",
    "    MAE.append(mae)\n",
    "    print('\\n')\n",
    "    \n",
    "    mse=mean_squared_error(y_test, pre)\n",
    "    print('Mean Squared Error: ', mse)\n",
    "    MSE.append(mse)\n",
    "    print('\\n')\n",
    "    \n",
    "    rmse=np.sqrt(mean_squared_error(y_test, pre))\n",
    "    print('Root Mean Squared  Error: ', rmse)\n",
    "    RMSE.append(rmse)\n",
    "    print('\\n')"
   ]
  },
  {
   "cell_type": "code",
   "execution_count": 58,
   "metadata": {},
   "outputs": [
    {
     "data": {
      "text/html": [
       "<div>\n",
       "<style scoped>\n",
       "    .dataframe tbody tr th:only-of-type {\n",
       "        vertical-align: middle;\n",
       "    }\n",
       "\n",
       "    .dataframe tbody tr th {\n",
       "        vertical-align: top;\n",
       "    }\n",
       "\n",
       "    .dataframe thead th {\n",
       "        text-align: right;\n",
       "    }\n",
       "</style>\n",
       "<table border=\"1\" class=\"dataframe\">\n",
       "  <thead>\n",
       "    <tr style=\"text-align: right;\">\n",
       "      <th></th>\n",
       "      <th>Model</th>\n",
       "      <th>Accuracy_score</th>\n",
       "      <th>Cross_val_score</th>\n",
       "      <th>Mean_absolute_error</th>\n",
       "      <th>Mean_squared_error</th>\n",
       "      <th>Root_Mean_Squared_error</th>\n",
       "    </tr>\n",
       "  </thead>\n",
       "  <tbody>\n",
       "    <tr>\n",
       "      <th>0</th>\n",
       "      <td>LinearRegression</td>\n",
       "      <td>47.798040</td>\n",
       "      <td>-6.521050</td>\n",
       "      <td>0.230950</td>\n",
       "      <td>0.085746</td>\n",
       "      <td>0.292824</td>\n",
       "    </tr>\n",
       "    <tr>\n",
       "      <th>1</th>\n",
       "      <td>Support Vector Regressor</td>\n",
       "      <td>74.357440</td>\n",
       "      <td>5.969432</td>\n",
       "      <td>0.151156</td>\n",
       "      <td>0.042120</td>\n",
       "      <td>0.205232</td>\n",
       "    </tr>\n",
       "    <tr>\n",
       "      <th>2</th>\n",
       "      <td>Decision Tree Regressor</td>\n",
       "      <td>75.278331</td>\n",
       "      <td>-75.504331</td>\n",
       "      <td>0.131808</td>\n",
       "      <td>0.040607</td>\n",
       "      <td>0.201513</td>\n",
       "    </tr>\n",
       "    <tr>\n",
       "      <th>3</th>\n",
       "      <td>KNeighbors Regressor</td>\n",
       "      <td>82.687428</td>\n",
       "      <td>-25.833186</td>\n",
       "      <td>0.119075</td>\n",
       "      <td>0.028437</td>\n",
       "      <td>0.168634</td>\n",
       "    </tr>\n",
       "  </tbody>\n",
       "</table>\n",
       "</div>"
      ],
      "text/plain": [
       "                      Model  Accuracy_score  Cross_val_score  \\\n",
       "0          LinearRegression       47.798040        -6.521050   \n",
       "1  Support Vector Regressor       74.357440         5.969432   \n",
       "2   Decision Tree Regressor       75.278331       -75.504331   \n",
       "3      KNeighbors Regressor       82.687428       -25.833186   \n",
       "\n",
       "   Mean_absolute_error  Mean_squared_error  Root_Mean_Squared_error  \n",
       "0             0.230950            0.085746                 0.292824  \n",
       "1             0.151156            0.042120                 0.205232  \n",
       "2             0.131808            0.040607                 0.201513  \n",
       "3             0.119075            0.028437                 0.168634  "
      ]
     },
     "execution_count": 58,
     "metadata": {},
     "output_type": "execute_result"
    }
   ],
   "source": [
    "# store the result in DataFrame\n",
    "result = pd.DataFrame({'Model':Model, 'Accuracy_score': Score,'Cross_val_score':CV_Score,'Mean_absolute_error':MAE,\n",
    "                     'Mean_squared_error':MSE,'Root_Mean_Squared_error':RMSE})\n",
    "result"
   ]
  },
  {
   "cell_type": "markdown",
   "metadata": {},
   "source": [
    "From the above algorithms, we can say that the KNeighbors Regressor is working well by giving an accuracy of 82.68%.  "
   ]
  },
  {
   "cell_type": "code",
   "execution_count": 64,
   "metadata": {},
   "outputs": [
    {
     "data": {
      "text/plain": [
       "['Avocado_regression.pkl']"
      ]
     },
     "execution_count": 64,
     "metadata": {},
     "output_type": "execute_result"
    }
   ],
   "source": [
    "# Saving the model\n",
    "from sklearn.externals import joblib\n",
    "joblib.dump(knr, 'Avocado_regression.pkl')"
   ]
  },
  {
   "cell_type": "code",
   "execution_count": null,
   "metadata": {},
   "outputs": [],
   "source": []
  }
 ],
 "metadata": {
  "kernelspec": {
   "display_name": "Python 3",
   "language": "python",
   "name": "python3"
  },
  "language_info": {
   "codemirror_mode": {
    "name": "ipython",
    "version": 3
   },
   "file_extension": ".py",
   "mimetype": "text/x-python",
   "name": "python",
   "nbconvert_exporter": "python",
   "pygments_lexer": "ipython3",
   "version": "3.7.6"
  }
 },
 "nbformat": 4,
 "nbformat_minor": 4
}
